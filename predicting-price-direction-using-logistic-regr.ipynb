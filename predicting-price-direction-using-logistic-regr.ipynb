{
 "cells": [
  {
   "cell_type": "code",
   "execution_count": 1,
   "id": "1ee03726",
   "metadata": {
    "_cell_guid": "b1076dfc-b9ad-4769-8c92-a6c4dae69d19",
    "_uuid": "8f2839f25d086af736a60e9eeb907d3b93b6e0e5",
    "execution": {
     "iopub.execute_input": "2022-05-23T15:00:23.328459Z",
     "iopub.status.busy": "2022-05-23T15:00:23.328101Z",
     "iopub.status.idle": "2022-05-23T15:00:23.345763Z",
     "shell.execute_reply": "2022-05-23T15:00:23.345019Z"
    },
    "papermill": {
     "duration": 0.039664,
     "end_time": "2022-05-23T15:00:23.348936",
     "exception": false,
     "start_time": "2022-05-23T15:00:23.309272",
     "status": "completed"
    },
    "tags": []
   },
   "outputs": [
    {
     "name": "stdout",
     "output_type": "stream",
     "text": [
      "/kaggle/input/invstodata/HINDALCO_1D (1).xlsx - HINDALCO.csv\n"
     ]
    }
   ],
   "source": [
    "# This Python 3 environment comes with many helpful analytics libraries installed\n",
    "# It is defined by the kaggle/python Docker image: https://github.com/kaggle/docker-python\n",
    "# For example, here's several helpful packages to load\n",
    "\n",
    "import numpy as np # linear algebra\n",
    "import pandas as pd # data processing, CSV file I/O (e.g. pd.read_csv)\n",
    "\n",
    "# Input data files are available in the read-only \"../input/\" directory\n",
    "# For example, running this (by clicking run or pressing Shift+Enter) will list all files under the input directory\n",
    "\n",
    "import os\n",
    "for dirname, _, filenames in os.walk('/kaggle/input'):\n",
    "    for filename in filenames:\n",
    "        print(os.path.join(dirname, filename))\n",
    "\n",
    "# You can write up to 20GB to the current directory (/kaggle/working/) that gets preserved as output when you create a version using \"Save & Run All\" \n",
    "# You can also write temporary files to /kaggle/temp/, but they won't be saved outside of the current session"
   ]
  },
  {
   "cell_type": "markdown",
   "id": "f66e429a",
   "metadata": {
    "papermill": {
     "duration": 0.015473,
     "end_time": "2022-05-23T15:00:23.381472",
     "exception": false,
     "start_time": "2022-05-23T15:00:23.365999",
     "status": "completed"
    },
    "tags": []
   },
   "source": [
    "# Predicting price direction using logistic regression \n",
    "Demonstration of the application of logistic regression to predict direction of close price of stock data of Invsto using parameters of the daily close, open, high and low prices (as a baseline model) "
   ]
  },
  {
   "cell_type": "code",
   "execution_count": 2,
   "id": "f0d4df8d",
   "metadata": {
    "execution": {
     "iopub.execute_input": "2022-05-23T15:00:23.413760Z",
     "iopub.status.busy": "2022-05-23T15:00:23.413217Z",
     "iopub.status.idle": "2022-05-23T15:00:23.457779Z",
     "shell.execute_reply": "2022-05-23T15:00:23.456817Z"
    },
    "papermill": {
     "duration": 0.06366,
     "end_time": "2022-05-23T15:00:23.460413",
     "exception": false,
     "start_time": "2022-05-23T15:00:23.396753",
     "status": "completed"
    },
    "tags": []
   },
   "outputs": [
    {
     "data": {
      "text/html": [
       "<div>\n",
       "<style scoped>\n",
       "    .dataframe tbody tr th:only-of-type {\n",
       "        vertical-align: middle;\n",
       "    }\n",
       "\n",
       "    .dataframe tbody tr th {\n",
       "        vertical-align: top;\n",
       "    }\n",
       "\n",
       "    .dataframe thead th {\n",
       "        text-align: right;\n",
       "    }\n",
       "</style>\n",
       "<table border=\"1\" class=\"dataframe\">\n",
       "  <thead>\n",
       "    <tr style=\"text-align: right;\">\n",
       "      <th></th>\n",
       "      <th>datetime</th>\n",
       "      <th>close</th>\n",
       "      <th>high</th>\n",
       "      <th>low</th>\n",
       "      <th>open</th>\n",
       "      <th>volume</th>\n",
       "      <th>instrument</th>\n",
       "      <th>Unnamed: 7</th>\n",
       "      <th>Unnamed: 8</th>\n",
       "      <th>Unnamed: 9</th>\n",
       "      <th>Unnamed: 10</th>\n",
       "      <th>Unnamed: 11</th>\n",
       "    </tr>\n",
       "  </thead>\n",
       "  <tbody>\n",
       "    <tr>\n",
       "      <th>0</th>\n",
       "      <td>2014-01-24 00:00:00</td>\n",
       "      <td>114.00</td>\n",
       "      <td>115.35</td>\n",
       "      <td>113.00</td>\n",
       "      <td>113.15</td>\n",
       "      <td>5737135</td>\n",
       "      <td>HINDALCO</td>\n",
       "      <td>NaN</td>\n",
       "      <td>NaN</td>\n",
       "      <td>NaN</td>\n",
       "      <td>NaN</td>\n",
       "      <td>NaN</td>\n",
       "    </tr>\n",
       "    <tr>\n",
       "      <th>1</th>\n",
       "      <td>2014-01-27 00:00:00</td>\n",
       "      <td>111.10</td>\n",
       "      <td>112.70</td>\n",
       "      <td>109.30</td>\n",
       "      <td>112.00</td>\n",
       "      <td>8724577</td>\n",
       "      <td>HINDALCO</td>\n",
       "      <td>NaN</td>\n",
       "      <td>NaN</td>\n",
       "      <td>NaN</td>\n",
       "      <td>NaN</td>\n",
       "      <td>NaN</td>\n",
       "    </tr>\n",
       "    <tr>\n",
       "      <th>2</th>\n",
       "      <td>2014-01-28 00:00:00</td>\n",
       "      <td>113.80</td>\n",
       "      <td>115.00</td>\n",
       "      <td>109.75</td>\n",
       "      <td>110.00</td>\n",
       "      <td>4513345</td>\n",
       "      <td>HINDALCO</td>\n",
       "      <td>NaN</td>\n",
       "      <td>NaN</td>\n",
       "      <td>NaN</td>\n",
       "      <td>NaN</td>\n",
       "      <td>NaN</td>\n",
       "    </tr>\n",
       "    <tr>\n",
       "      <th>3</th>\n",
       "      <td>2014-01-29 00:00:00</td>\n",
       "      <td>111.75</td>\n",
       "      <td>114.75</td>\n",
       "      <td>111.15</td>\n",
       "      <td>114.50</td>\n",
       "      <td>4713458</td>\n",
       "      <td>HINDALCO</td>\n",
       "      <td>NaN</td>\n",
       "      <td>NaN</td>\n",
       "      <td>NaN</td>\n",
       "      <td>NaN</td>\n",
       "      <td>NaN</td>\n",
       "    </tr>\n",
       "    <tr>\n",
       "      <th>4</th>\n",
       "      <td>2014-01-30 00:00:00</td>\n",
       "      <td>108.10</td>\n",
       "      <td>110.70</td>\n",
       "      <td>107.60</td>\n",
       "      <td>110.20</td>\n",
       "      <td>5077231</td>\n",
       "      <td>HINDALCO</td>\n",
       "      <td>NaN</td>\n",
       "      <td>NaN</td>\n",
       "      <td>NaN</td>\n",
       "      <td>NaN</td>\n",
       "      <td>NaN</td>\n",
       "    </tr>\n",
       "  </tbody>\n",
       "</table>\n",
       "</div>"
      ],
      "text/plain": [
       "              datetime   close    high     low    open   volume instrument  \\\n",
       "0  2014-01-24 00:00:00  114.00  115.35  113.00  113.15  5737135   HINDALCO   \n",
       "1  2014-01-27 00:00:00  111.10  112.70  109.30  112.00  8724577   HINDALCO   \n",
       "2  2014-01-28 00:00:00  113.80  115.00  109.75  110.00  4513345   HINDALCO   \n",
       "3  2014-01-29 00:00:00  111.75  114.75  111.15  114.50  4713458   HINDALCO   \n",
       "4  2014-01-30 00:00:00  108.10  110.70  107.60  110.20  5077231   HINDALCO   \n",
       "\n",
       "   Unnamed: 7  Unnamed: 8  Unnamed: 9  Unnamed: 10  Unnamed: 11  \n",
       "0         NaN         NaN         NaN          NaN          NaN  \n",
       "1         NaN         NaN         NaN          NaN          NaN  \n",
       "2         NaN         NaN         NaN          NaN          NaN  \n",
       "3         NaN         NaN         NaN          NaN          NaN  \n",
       "4         NaN         NaN         NaN          NaN          NaN  "
      ]
     },
     "execution_count": 2,
     "metadata": {},
     "output_type": "execute_result"
    }
   ],
   "source": [
    "data = pd.read_csv(\"/kaggle/input/invstodata/HINDALCO_1D (1).xlsx - HINDALCO.csv\")\n",
    "data.head()"
   ]
  },
  {
   "cell_type": "markdown",
   "id": "c600ed21",
   "metadata": {
    "papermill": {
     "duration": 0.017293,
     "end_time": "2022-05-23T15:00:23.494122",
     "exception": false,
     "start_time": "2022-05-23T15:00:23.476829",
     "status": "completed"
    },
    "tags": []
   },
   "source": [
    "We add a new column in the data as 'direction' which basically assigns a binary variable to increase qand decrease in close prices (thereby making this a binary classification problem) "
   ]
  },
  {
   "cell_type": "code",
   "execution_count": 3,
   "id": "f9a24b7f",
   "metadata": {
    "execution": {
     "iopub.execute_input": "2022-05-23T15:00:23.531702Z",
     "iopub.status.busy": "2022-05-23T15:00:23.531125Z",
     "iopub.status.idle": "2022-05-23T15:00:23.566131Z",
     "shell.execute_reply": "2022-05-23T15:00:23.565427Z"
    },
    "papermill": {
     "duration": 0.056245,
     "end_time": "2022-05-23T15:00:23.568260",
     "exception": false,
     "start_time": "2022-05-23T15:00:23.512015",
     "status": "completed"
    },
    "tags": []
   },
   "outputs": [
    {
     "data": {
      "text/html": [
       "<div>\n",
       "<style scoped>\n",
       "    .dataframe tbody tr th:only-of-type {\n",
       "        vertical-align: middle;\n",
       "    }\n",
       "\n",
       "    .dataframe tbody tr th {\n",
       "        vertical-align: top;\n",
       "    }\n",
       "\n",
       "    .dataframe thead th {\n",
       "        text-align: right;\n",
       "    }\n",
       "</style>\n",
       "<table border=\"1\" class=\"dataframe\">\n",
       "  <thead>\n",
       "    <tr style=\"text-align: right;\">\n",
       "      <th></th>\n",
       "      <th>datetime</th>\n",
       "      <th>close</th>\n",
       "      <th>high</th>\n",
       "      <th>low</th>\n",
       "      <th>open</th>\n",
       "      <th>volume</th>\n",
       "      <th>instrument</th>\n",
       "      <th>Unnamed: 7</th>\n",
       "      <th>Unnamed: 8</th>\n",
       "      <th>Unnamed: 9</th>\n",
       "      <th>Unnamed: 10</th>\n",
       "      <th>Unnamed: 11</th>\n",
       "      <th>diff</th>\n",
       "      <th>direction</th>\n",
       "    </tr>\n",
       "  </thead>\n",
       "  <tbody>\n",
       "    <tr>\n",
       "      <th>0</th>\n",
       "      <td>2014-01-24 00:00:00</td>\n",
       "      <td>114.00</td>\n",
       "      <td>115.35</td>\n",
       "      <td>113.00</td>\n",
       "      <td>113.15</td>\n",
       "      <td>5737135</td>\n",
       "      <td>HINDALCO</td>\n",
       "      <td>NaN</td>\n",
       "      <td>NaN</td>\n",
       "      <td>NaN</td>\n",
       "      <td>NaN</td>\n",
       "      <td>NaN</td>\n",
       "      <td>NaN</td>\n",
       "      <td>1.0</td>\n",
       "    </tr>\n",
       "    <tr>\n",
       "      <th>1</th>\n",
       "      <td>2014-01-27 00:00:00</td>\n",
       "      <td>111.10</td>\n",
       "      <td>112.70</td>\n",
       "      <td>109.30</td>\n",
       "      <td>112.00</td>\n",
       "      <td>8724577</td>\n",
       "      <td>HINDALCO</td>\n",
       "      <td>NaN</td>\n",
       "      <td>NaN</td>\n",
       "      <td>NaN</td>\n",
       "      <td>NaN</td>\n",
       "      <td>NaN</td>\n",
       "      <td>-2.90</td>\n",
       "      <td>0.0</td>\n",
       "    </tr>\n",
       "    <tr>\n",
       "      <th>2</th>\n",
       "      <td>2014-01-28 00:00:00</td>\n",
       "      <td>113.80</td>\n",
       "      <td>115.00</td>\n",
       "      <td>109.75</td>\n",
       "      <td>110.00</td>\n",
       "      <td>4513345</td>\n",
       "      <td>HINDALCO</td>\n",
       "      <td>NaN</td>\n",
       "      <td>NaN</td>\n",
       "      <td>NaN</td>\n",
       "      <td>NaN</td>\n",
       "      <td>NaN</td>\n",
       "      <td>2.70</td>\n",
       "      <td>1.0</td>\n",
       "    </tr>\n",
       "    <tr>\n",
       "      <th>3</th>\n",
       "      <td>2014-01-29 00:00:00</td>\n",
       "      <td>111.75</td>\n",
       "      <td>114.75</td>\n",
       "      <td>111.15</td>\n",
       "      <td>114.50</td>\n",
       "      <td>4713458</td>\n",
       "      <td>HINDALCO</td>\n",
       "      <td>NaN</td>\n",
       "      <td>NaN</td>\n",
       "      <td>NaN</td>\n",
       "      <td>NaN</td>\n",
       "      <td>NaN</td>\n",
       "      <td>-2.05</td>\n",
       "      <td>1.0</td>\n",
       "    </tr>\n",
       "    <tr>\n",
       "      <th>4</th>\n",
       "      <td>2014-01-30 00:00:00</td>\n",
       "      <td>108.10</td>\n",
       "      <td>110.70</td>\n",
       "      <td>107.60</td>\n",
       "      <td>110.20</td>\n",
       "      <td>5077231</td>\n",
       "      <td>HINDALCO</td>\n",
       "      <td>NaN</td>\n",
       "      <td>NaN</td>\n",
       "      <td>NaN</td>\n",
       "      <td>NaN</td>\n",
       "      <td>NaN</td>\n",
       "      <td>-3.65</td>\n",
       "      <td>0.0</td>\n",
       "    </tr>\n",
       "  </tbody>\n",
       "</table>\n",
       "</div>"
      ],
      "text/plain": [
       "              datetime   close    high     low    open   volume instrument  \\\n",
       "0  2014-01-24 00:00:00  114.00  115.35  113.00  113.15  5737135   HINDALCO   \n",
       "1  2014-01-27 00:00:00  111.10  112.70  109.30  112.00  8724577   HINDALCO   \n",
       "2  2014-01-28 00:00:00  113.80  115.00  109.75  110.00  4513345   HINDALCO   \n",
       "3  2014-01-29 00:00:00  111.75  114.75  111.15  114.50  4713458   HINDALCO   \n",
       "4  2014-01-30 00:00:00  108.10  110.70  107.60  110.20  5077231   HINDALCO   \n",
       "\n",
       "   Unnamed: 7  Unnamed: 8  Unnamed: 9  Unnamed: 10  Unnamed: 11  diff  \\\n",
       "0         NaN         NaN         NaN          NaN          NaN   NaN   \n",
       "1         NaN         NaN         NaN          NaN          NaN -2.90   \n",
       "2         NaN         NaN         NaN          NaN          NaN  2.70   \n",
       "3         NaN         NaN         NaN          NaN          NaN -2.05   \n",
       "4         NaN         NaN         NaN          NaN          NaN -3.65   \n",
       "\n",
       "   direction  \n",
       "0        1.0  \n",
       "1        0.0  \n",
       "2        1.0  \n",
       "3        1.0  \n",
       "4        0.0  "
      ]
     },
     "execution_count": 3,
     "metadata": {},
     "output_type": "execute_result"
    }
   ],
   "source": [
    "data['diff'] = data['close'].diff()\n",
    "data[\"direction\"] = data['diff'].apply(lambda x: 0 if x > 0 else 1).shift(-1)\n",
    "    \n",
    "data.head()"
   ]
  },
  {
   "cell_type": "markdown",
   "id": "5a67c4e7",
   "metadata": {
    "papermill": {
     "duration": 0.016505,
     "end_time": "2022-05-23T15:00:23.602476",
     "exception": false,
     "start_time": "2022-05-23T15:00:23.585971",
     "status": "completed"
    },
    "tags": []
   },
   "source": [
    "We decrease the dimensions of the data to better deal with parameters we actually want"
   ]
  },
  {
   "cell_type": "code",
   "execution_count": 4,
   "id": "15d5b6c7",
   "metadata": {
    "execution": {
     "iopub.execute_input": "2022-05-23T15:00:23.639080Z",
     "iopub.status.busy": "2022-05-23T15:00:23.638458Z",
     "iopub.status.idle": "2022-05-23T15:00:23.658364Z",
     "shell.execute_reply": "2022-05-23T15:00:23.657363Z"
    },
    "papermill": {
     "duration": 0.040326,
     "end_time": "2022-05-23T15:00:23.660763",
     "exception": false,
     "start_time": "2022-05-23T15:00:23.620437",
     "status": "completed"
    },
    "tags": []
   },
   "outputs": [
    {
     "data": {
      "text/html": [
       "<div>\n",
       "<style scoped>\n",
       "    .dataframe tbody tr th:only-of-type {\n",
       "        vertical-align: middle;\n",
       "    }\n",
       "\n",
       "    .dataframe tbody tr th {\n",
       "        vertical-align: top;\n",
       "    }\n",
       "\n",
       "    .dataframe thead th {\n",
       "        text-align: right;\n",
       "    }\n",
       "</style>\n",
       "<table border=\"1\" class=\"dataframe\">\n",
       "  <thead>\n",
       "    <tr style=\"text-align: right;\">\n",
       "      <th></th>\n",
       "      <th>close</th>\n",
       "      <th>high</th>\n",
       "      <th>low</th>\n",
       "      <th>direction</th>\n",
       "      <th>open</th>\n",
       "    </tr>\n",
       "  </thead>\n",
       "  <tbody>\n",
       "    <tr>\n",
       "      <th>0</th>\n",
       "      <td>114.00</td>\n",
       "      <td>115.35</td>\n",
       "      <td>113.00</td>\n",
       "      <td>1.0</td>\n",
       "      <td>113.15</td>\n",
       "    </tr>\n",
       "    <tr>\n",
       "      <th>1</th>\n",
       "      <td>111.10</td>\n",
       "      <td>112.70</td>\n",
       "      <td>109.30</td>\n",
       "      <td>0.0</td>\n",
       "      <td>112.00</td>\n",
       "    </tr>\n",
       "    <tr>\n",
       "      <th>2</th>\n",
       "      <td>113.80</td>\n",
       "      <td>115.00</td>\n",
       "      <td>109.75</td>\n",
       "      <td>1.0</td>\n",
       "      <td>110.00</td>\n",
       "    </tr>\n",
       "    <tr>\n",
       "      <th>3</th>\n",
       "      <td>111.75</td>\n",
       "      <td>114.75</td>\n",
       "      <td>111.15</td>\n",
       "      <td>1.0</td>\n",
       "      <td>114.50</td>\n",
       "    </tr>\n",
       "    <tr>\n",
       "      <th>4</th>\n",
       "      <td>108.10</td>\n",
       "      <td>110.70</td>\n",
       "      <td>107.60</td>\n",
       "      <td>0.0</td>\n",
       "      <td>110.20</td>\n",
       "    </tr>\n",
       "  </tbody>\n",
       "</table>\n",
       "</div>"
      ],
      "text/plain": [
       "    close    high     low  direction    open\n",
       "0  114.00  115.35  113.00        1.0  113.15\n",
       "1  111.10  112.70  109.30        0.0  112.00\n",
       "2  113.80  115.00  109.75        1.0  110.00\n",
       "3  111.75  114.75  111.15        1.0  114.50\n",
       "4  108.10  110.70  107.60        0.0  110.20"
      ]
     },
     "execution_count": 4,
     "metadata": {},
     "output_type": "execute_result"
    }
   ],
   "source": [
    "n_data = data[['close','high','low','direction','open']]\n",
    "n_data.head()"
   ]
  },
  {
   "cell_type": "code",
   "execution_count": 5,
   "id": "f97639bc",
   "metadata": {
    "execution": {
     "iopub.execute_input": "2022-05-23T15:00:23.697586Z",
     "iopub.status.busy": "2022-05-23T15:00:23.697227Z",
     "iopub.status.idle": "2022-05-23T15:00:23.704062Z",
     "shell.execute_reply": "2022-05-23T15:00:23.703072Z"
    },
    "papermill": {
     "duration": 0.028021,
     "end_time": "2022-05-23T15:00:23.706377",
     "exception": false,
     "start_time": "2022-05-23T15:00:23.678356",
     "status": "completed"
    },
    "tags": []
   },
   "outputs": [],
   "source": [
    "# drop null values from the data\n",
    "n_data = n_data.dropna()"
   ]
  },
  {
   "cell_type": "markdown",
   "id": "e0a93745",
   "metadata": {
    "papermill": {
     "duration": 0.016998,
     "end_time": "2022-05-23T15:00:23.740480",
     "exception": false,
     "start_time": "2022-05-23T15:00:23.723482",
     "status": "completed"
    },
    "tags": []
   },
   "source": [
    "# Logistic regression fit\n",
    "We fit the logistic regression model by splitting the data into training and test set and using sklearn to fit the logistic regression model on it. "
   ]
  },
  {
   "cell_type": "code",
   "execution_count": 6,
   "id": "41ded71f",
   "metadata": {
    "execution": {
     "iopub.execute_input": "2022-05-23T15:00:23.777526Z",
     "iopub.status.busy": "2022-05-23T15:00:23.776945Z",
     "iopub.status.idle": "2022-05-23T15:00:25.077899Z",
     "shell.execute_reply": "2022-05-23T15:00:25.076911Z"
    },
    "papermill": {
     "duration": 1.323022,
     "end_time": "2022-05-23T15:00:25.080506",
     "exception": false,
     "start_time": "2022-05-23T15:00:23.757484",
     "status": "completed"
    },
    "tags": []
   },
   "outputs": [],
   "source": [
    "from sklearn.model_selection import train_test_split\n",
    "x_train, x_test, y_train, y_test = train_test_split(n_data[['open','high','low','close']],n_data[['direction']] , test_size=0.25, random_state=0)"
   ]
  },
  {
   "cell_type": "code",
   "execution_count": 7,
   "id": "ae0f370c",
   "metadata": {
    "execution": {
     "iopub.execute_input": "2022-05-23T15:00:25.116806Z",
     "iopub.status.busy": "2022-05-23T15:00:25.116221Z",
     "iopub.status.idle": "2022-05-23T15:00:25.233791Z",
     "shell.execute_reply": "2022-05-23T15:00:25.233067Z"
    },
    "papermill": {
     "duration": 0.138392,
     "end_time": "2022-05-23T15:00:25.235997",
     "exception": false,
     "start_time": "2022-05-23T15:00:25.097605",
     "status": "completed"
    },
    "tags": []
   },
   "outputs": [
    {
     "name": "stdout",
     "output_type": "stream",
     "text": [
      "Accuracy of Logistic Regression model is: 49.34210526315789\n"
     ]
    }
   ],
   "source": [
    "#Import sklearn\n",
    "from sklearn import linear_model\n",
    "from sklearn import metrics\n",
    "\n",
    "digreg = linear_model.LogisticRegression()\n",
    "y=np.ravel(y_train)\n",
    "digreg.fit(x_train, y)\n",
    "\n",
    "y_pred = digreg.predict(x_test)\n",
    "\n",
    "print(\"Accuracy of Logistic Regression model is:\",\n",
    "metrics.accuracy_score(y_test, y_pred)*100)\n"
   ]
  },
  {
   "cell_type": "code",
   "execution_count": 8,
   "id": "6894778e",
   "metadata": {
    "execution": {
     "iopub.execute_input": "2022-05-23T15:00:25.273213Z",
     "iopub.status.busy": "2022-05-23T15:00:25.272427Z",
     "iopub.status.idle": "2022-05-23T15:00:25.283099Z",
     "shell.execute_reply": "2022-05-23T15:00:25.282113Z"
    },
    "papermill": {
     "duration": 0.031619,
     "end_time": "2022-05-23T15:00:25.285515",
     "exception": false,
     "start_time": "2022-05-23T15:00:25.253896",
     "status": "completed"
    },
    "tags": []
   },
   "outputs": [
    {
     "data": {
      "text/plain": [
       "array([[ 61, 101],\n",
       "       [ 53,  89]])"
      ]
     },
     "execution_count": 8,
     "metadata": {},
     "output_type": "execute_result"
    }
   ],
   "source": [
    "from sklearn.metrics import confusion_matrix\n",
    "cf_matrix = confusion_matrix(y_test, y_pred)\n",
    "cf_matrix"
   ]
  },
  {
   "cell_type": "markdown",
   "id": "f12c4b8a",
   "metadata": {
    "papermill": {
     "duration": 0.018329,
     "end_time": "2022-05-23T15:00:25.321726",
     "exception": false,
     "start_time": "2022-05-23T15:00:25.303397",
     "status": "completed"
    },
    "tags": []
   },
   "source": [
    "The accuracy of the model is almost $50\\%$ and this suggests that the parameters used would be able to predict only about $50\\%$ of the values correctly which is a relatively poor fit and thus we should engineer other parameters (such as momentum indicators etc.) to give a better fit.\n",
    "\n",
    "We show a graphical output to visualise the confusion matrix of the classification."
   ]
  },
  {
   "cell_type": "markdown",
   "id": "b09f0e5d",
   "metadata": {
    "papermill": {
     "duration": 0.017992,
     "end_time": "2022-05-23T15:00:25.357718",
     "exception": false,
     "start_time": "2022-05-23T15:00:25.339726",
     "status": "completed"
    },
    "tags": []
   },
   "source": [
    "# Confusion Matrix"
   ]
  },
  {
   "cell_type": "code",
   "execution_count": 9,
   "id": "cc246061",
   "metadata": {
    "execution": {
     "iopub.execute_input": "2022-05-23T15:00:25.395922Z",
     "iopub.status.busy": "2022-05-23T15:00:25.395601Z",
     "iopub.status.idle": "2022-05-23T15:00:25.850870Z",
     "shell.execute_reply": "2022-05-23T15:00:25.849920Z"
    },
    "papermill": {
     "duration": 0.477004,
     "end_time": "2022-05-23T15:00:25.853358",
     "exception": false,
     "start_time": "2022-05-23T15:00:25.376354",
     "status": "completed"
    },
    "tags": []
   },
   "outputs": [
    {
     "data": {
      "text/plain": [
       "[Text(0, 0.5, '0'), Text(0, 1.5, '1')]"
      ]
     },
     "execution_count": 9,
     "metadata": {},
     "output_type": "execute_result"
    },
    {
     "data": {
      "image/png": "[encoded data removed]",
      "text/plain": [
       "<Figure size 432x288 with 2 Axes>"
      ]
     },
     "metadata": {
      "needs_background": "light"
     },
     "output_type": "display_data"
    }
   ],
   "source": [
    "import seaborn as sns\n",
    "\n",
    "ax = sns.heatmap(cf_matrix, annot=True, cmap='Blues')\n",
    "\n",
    "ax.set_title('Seaborn Confusion Matrix with labels\\n\\n');\n",
    "ax.set_xlabel('\\nPredicted Values')\n",
    "ax.set_ylabel('Actual Values ');\n",
    "\n",
    "## Ticket labels - List must be in alphabetical order\n",
    "ax.xaxis.set_ticklabels(['0','1'])\n",
    "ax.yaxis.set_ticklabels(['0','1'])\n",
    "\n",
    "## Display the visualization of the Confusion Matrix.\n",
    "#plt.show()"
   ]
  },
  {
   "cell_type": "markdown",
   "id": "f7514972",
   "metadata": {
    "papermill": {
     "duration": 0.018992,
     "end_time": "2022-05-23T15:00:25.893130",
     "exception": false,
     "start_time": "2022-05-23T15:00:25.874138",
     "status": "completed"
    },
    "tags": []
   },
   "source": [
    "We see that the number of false positives (predicted $1$ when in reality it is $0$) is the greatest with $101$ values followed by true positives followed by true negatives and then we have false negatives. \n",
    "\n",
    "We must find better parameters to make a better model. I suggest the following research paper to recitify this : https://www.akademiabaru.com/doc/ARBMSV14_N1_P35_41.pdf"
   ]
  }
 ],
 "metadata": {
  "kernelspec": {
   "display_name": "Python 3",
   "language": "python",
   "name": "python3"
  },
  "language_info": {
   "codemirror_mode": {
    "name": "ipython",
    "version": 3
   },
   "file_extension": ".py",
   "mimetype": "text/x-python",
   "name": "python",
   "nbconvert_exporter": "python",
   "pygments_lexer": "ipython3",
   "version": "3.7.12"
  },
  "papermill": {
   "default_parameters": {},
   "duration": 14.867495,
   "end_time": "2022-05-23T15:00:26.733717",
   "environment_variables": {},
   "exception": null,
   "input_path": "__notebook__.ipynb",
   "output_path": "__notebook__.ipynb",
   "parameters": {},
   "start_time": "2022-05-23T15:00:11.866222",
   "version": "2.3.4"
  }
 },
 "nbformat": 4,
 "nbformat_minor": 5
}
