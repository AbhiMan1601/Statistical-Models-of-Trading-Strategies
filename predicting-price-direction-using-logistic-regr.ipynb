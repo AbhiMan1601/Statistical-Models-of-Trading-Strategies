{
 "cells": [
  {
   "cell_type": "code",
   "execution_count": 1,
   "id": "766255d9",
   "metadata": {
    "_cell_guid": "b1076dfc-b9ad-4769-8c92-a6c4dae69d19",
    "_uuid": "8f2839f25d086af736a60e9eeb907d3b93b6e0e5",
    "execution": {
     "iopub.execute_input": "2022-05-22T17:58:43.431742Z",
     "iopub.status.busy": "2022-05-22T17:58:43.431180Z",
     "iopub.status.idle": "2022-05-22T17:58:43.446659Z",
     "shell.execute_reply": "2022-05-22T17:58:43.446172Z"
    },
    "papermill": {
     "duration": 0.029761,
     "end_time": "2022-05-22T17:58:43.448733",
     "exception": false,
     "start_time": "2022-05-22T17:58:43.418972",
     "status": "completed"
    },
    "tags": []
   },
   "outputs": [
    {
     "name": "stdout",
     "output_type": "stream",
     "text": [
      "/kaggle/input/invstodata/HINDALCO_1D (1).xlsx - HINDALCO.csv\n"
     ]
    }
   ],
   "source": [
    "# This Python 3 environment comes with many helpful analytics libraries installed\n",
    "# It is defined by the kaggle/python Docker image: https://github.com/kaggle/docker-python\n",
    "# For example, here's several helpful packages to load\n",
    "\n",
    "import numpy as np # linear algebra\n",
    "import pandas as pd # data processing, CSV file I/O (e.g. pd.read_csv)\n",
    "\n",
    "# Input data files are available in the read-only \"../input/\" directory\n",
    "# For example, running this (by clicking run or pressing Shift+Enter) will list all files under the input directory\n",
    "\n",
    "import os\n",
    "for dirname, _, filenames in os.walk('/kaggle/input'):\n",
    "    for filename in filenames:\n",
    "        print(os.path.join(dirname, filename))\n",
    "\n",
    "# You can write up to 20GB to the current directory (/kaggle/working/) that gets preserved as output when you create a version using \"Save & Run All\" \n",
    "# You can also write temporary files to /kaggle/temp/, but they won't be saved outside of the current session"
   ]
  },
  {
   "cell_type": "code",
   "execution_count": 2,
   "id": "13a4d4ff",
   "metadata": {
    "execution": {
     "iopub.execute_input": "2022-05-22T17:58:43.471994Z",
     "iopub.status.busy": "2022-05-22T17:58:43.471505Z",
     "iopub.status.idle": "2022-05-22T17:58:43.506525Z",
     "shell.execute_reply": "2022-05-22T17:58:43.505870Z"
    },
    "papermill": {
     "duration": 0.047711,
     "end_time": "2022-05-22T17:58:43.508332",
     "exception": false,
     "start_time": "2022-05-22T17:58:43.460621",
     "status": "completed"
    },
    "tags": []
   },
   "outputs": [
    {
     "data": {
      "text/html": [
       "<div>\n",
       "<style scoped>\n",
       "    .dataframe tbody tr th:only-of-type {\n",
       "        vertical-align: middle;\n",
       "    }\n",
       "\n",
       "    .dataframe tbody tr th {\n",
       "        vertical-align: top;\n",
       "    }\n",
       "\n",
       "    .dataframe thead th {\n",
       "        text-align: right;\n",
       "    }\n",
       "</style>\n",
       "<table border=\"1\" class=\"dataframe\">\n",
       "  <thead>\n",
       "    <tr style=\"text-align: right;\">\n",
       "      <th></th>\n",
       "      <th>datetime</th>\n",
       "      <th>close</th>\n",
       "      <th>high</th>\n",
       "      <th>low</th>\n",
       "      <th>open</th>\n",
       "      <th>volume</th>\n",
       "      <th>instrument</th>\n",
       "      <th>Unnamed: 7</th>\n",
       "      <th>Unnamed: 8</th>\n",
       "      <th>Unnamed: 9</th>\n",
       "      <th>Unnamed: 10</th>\n",
       "      <th>Unnamed: 11</th>\n",
       "    </tr>\n",
       "  </thead>\n",
       "  <tbody>\n",
       "    <tr>\n",
       "      <th>0</th>\n",
       "      <td>2014-01-24 00:00:00</td>\n",
       "      <td>114.00</td>\n",
       "      <td>115.35</td>\n",
       "      <td>113.00</td>\n",
       "      <td>113.15</td>\n",
       "      <td>5737135</td>\n",
       "      <td>HINDALCO</td>\n",
       "      <td>NaN</td>\n",
       "      <td>NaN</td>\n",
       "      <td>NaN</td>\n",
       "      <td>NaN</td>\n",
       "      <td>NaN</td>\n",
       "    </tr>\n",
       "    <tr>\n",
       "      <th>1</th>\n",
       "      <td>2014-01-27 00:00:00</td>\n",
       "      <td>111.10</td>\n",
       "      <td>112.70</td>\n",
       "      <td>109.30</td>\n",
       "      <td>112.00</td>\n",
       "      <td>8724577</td>\n",
       "      <td>HINDALCO</td>\n",
       "      <td>NaN</td>\n",
       "      <td>NaN</td>\n",
       "      <td>NaN</td>\n",
       "      <td>NaN</td>\n",
       "      <td>NaN</td>\n",
       "    </tr>\n",
       "    <tr>\n",
       "      <th>2</th>\n",
       "      <td>2014-01-28 00:00:00</td>\n",
       "      <td>113.80</td>\n",
       "      <td>115.00</td>\n",
       "      <td>109.75</td>\n",
       "      <td>110.00</td>\n",
       "      <td>4513345</td>\n",
       "      <td>HINDALCO</td>\n",
       "      <td>NaN</td>\n",
       "      <td>NaN</td>\n",
       "      <td>NaN</td>\n",
       "      <td>NaN</td>\n",
       "      <td>NaN</td>\n",
       "    </tr>\n",
       "    <tr>\n",
       "      <th>3</th>\n",
       "      <td>2014-01-29 00:00:00</td>\n",
       "      <td>111.75</td>\n",
       "      <td>114.75</td>\n",
       "      <td>111.15</td>\n",
       "      <td>114.50</td>\n",
       "      <td>4713458</td>\n",
       "      <td>HINDALCO</td>\n",
       "      <td>NaN</td>\n",
       "      <td>NaN</td>\n",
       "      <td>NaN</td>\n",
       "      <td>NaN</td>\n",
       "      <td>NaN</td>\n",
       "    </tr>\n",
       "    <tr>\n",
       "      <th>4</th>\n",
       "      <td>2014-01-30 00:00:00</td>\n",
       "      <td>108.10</td>\n",
       "      <td>110.70</td>\n",
       "      <td>107.60</td>\n",
       "      <td>110.20</td>\n",
       "      <td>5077231</td>\n",
       "      <td>HINDALCO</td>\n",
       "      <td>NaN</td>\n",
       "      <td>NaN</td>\n",
       "      <td>NaN</td>\n",
       "      <td>NaN</td>\n",
       "      <td>NaN</td>\n",
       "    </tr>\n",
       "  </tbody>\n",
       "</table>\n",
       "</div>"
      ],
      "text/plain": [
       "              datetime   close    high     low    open   volume instrument  \\\n",
       "0  2014-01-24 00:00:00  114.00  115.35  113.00  113.15  5737135   HINDALCO   \n",
       "1  2014-01-27 00:00:00  111.10  112.70  109.30  112.00  8724577   HINDALCO   \n",
       "2  2014-01-28 00:00:00  113.80  115.00  109.75  110.00  4513345   HINDALCO   \n",
       "3  2014-01-29 00:00:00  111.75  114.75  111.15  114.50  4713458   HINDALCO   \n",
       "4  2014-01-30 00:00:00  108.10  110.70  107.60  110.20  5077231   HINDALCO   \n",
       "\n",
       "   Unnamed: 7  Unnamed: 8  Unnamed: 9  Unnamed: 10  Unnamed: 11  \n",
       "0         NaN         NaN         NaN          NaN          NaN  \n",
       "1         NaN         NaN         NaN          NaN          NaN  \n",
       "2         NaN         NaN         NaN          NaN          NaN  \n",
       "3         NaN         NaN         NaN          NaN          NaN  \n",
       "4         NaN         NaN         NaN          NaN          NaN  "
      ]
     },
     "execution_count": 2,
     "metadata": {},
     "output_type": "execute_result"
    }
   ],
   "source": [
    "data = pd.read_csv(\"/kaggle/input/invstodata/HINDALCO_1D (1).xlsx - HINDALCO.csv\")\n",
    "data.head()"
   ]
  },
  {
   "cell_type": "code",
   "execution_count": 3,
   "id": "53f0e0da",
   "metadata": {
    "execution": {
     "iopub.execute_input": "2022-05-22T17:58:43.530118Z",
     "iopub.status.busy": "2022-05-22T17:58:43.529898Z",
     "iopub.status.idle": "2022-05-22T17:58:43.560796Z",
     "shell.execute_reply": "2022-05-22T17:58:43.560106Z"
    },
    "papermill": {
     "duration": 0.044144,
     "end_time": "2022-05-22T17:58:43.562618",
     "exception": false,
     "start_time": "2022-05-22T17:58:43.518474",
     "status": "completed"
    },
    "tags": []
   },
   "outputs": [
    {
     "data": {
      "text/html": [
       "<div>\n",
       "<style scoped>\n",
       "    .dataframe tbody tr th:only-of-type {\n",
       "        vertical-align: middle;\n",
       "    }\n",
       "\n",
       "    .dataframe tbody tr th {\n",
       "        vertical-align: top;\n",
       "    }\n",
       "\n",
       "    .dataframe thead th {\n",
       "        text-align: right;\n",
       "    }\n",
       "</style>\n",
       "<table border=\"1\" class=\"dataframe\">\n",
       "  <thead>\n",
       "    <tr style=\"text-align: right;\">\n",
       "      <th></th>\n",
       "      <th>datetime</th>\n",
       "      <th>close</th>\n",
       "      <th>high</th>\n",
       "      <th>low</th>\n",
       "      <th>open</th>\n",
       "      <th>volume</th>\n",
       "      <th>instrument</th>\n",
       "      <th>Unnamed: 7</th>\n",
       "      <th>Unnamed: 8</th>\n",
       "      <th>Unnamed: 9</th>\n",
       "      <th>Unnamed: 10</th>\n",
       "      <th>Unnamed: 11</th>\n",
       "      <th>diff</th>\n",
       "      <th>direction</th>\n",
       "    </tr>\n",
       "  </thead>\n",
       "  <tbody>\n",
       "    <tr>\n",
       "      <th>0</th>\n",
       "      <td>2014-01-24 00:00:00</td>\n",
       "      <td>114.00</td>\n",
       "      <td>115.35</td>\n",
       "      <td>113.00</td>\n",
       "      <td>113.15</td>\n",
       "      <td>5737135</td>\n",
       "      <td>HINDALCO</td>\n",
       "      <td>NaN</td>\n",
       "      <td>NaN</td>\n",
       "      <td>NaN</td>\n",
       "      <td>NaN</td>\n",
       "      <td>NaN</td>\n",
       "      <td>NaN</td>\n",
       "      <td>1.0</td>\n",
       "    </tr>\n",
       "    <tr>\n",
       "      <th>1</th>\n",
       "      <td>2014-01-27 00:00:00</td>\n",
       "      <td>111.10</td>\n",
       "      <td>112.70</td>\n",
       "      <td>109.30</td>\n",
       "      <td>112.00</td>\n",
       "      <td>8724577</td>\n",
       "      <td>HINDALCO</td>\n",
       "      <td>NaN</td>\n",
       "      <td>NaN</td>\n",
       "      <td>NaN</td>\n",
       "      <td>NaN</td>\n",
       "      <td>NaN</td>\n",
       "      <td>-2.90</td>\n",
       "      <td>0.0</td>\n",
       "    </tr>\n",
       "    <tr>\n",
       "      <th>2</th>\n",
       "      <td>2014-01-28 00:00:00</td>\n",
       "      <td>113.80</td>\n",
       "      <td>115.00</td>\n",
       "      <td>109.75</td>\n",
       "      <td>110.00</td>\n",
       "      <td>4513345</td>\n",
       "      <td>HINDALCO</td>\n",
       "      <td>NaN</td>\n",
       "      <td>NaN</td>\n",
       "      <td>NaN</td>\n",
       "      <td>NaN</td>\n",
       "      <td>NaN</td>\n",
       "      <td>2.70</td>\n",
       "      <td>1.0</td>\n",
       "    </tr>\n",
       "    <tr>\n",
       "      <th>3</th>\n",
       "      <td>2014-01-29 00:00:00</td>\n",
       "      <td>111.75</td>\n",
       "      <td>114.75</td>\n",
       "      <td>111.15</td>\n",
       "      <td>114.50</td>\n",
       "      <td>4713458</td>\n",
       "      <td>HINDALCO</td>\n",
       "      <td>NaN</td>\n",
       "      <td>NaN</td>\n",
       "      <td>NaN</td>\n",
       "      <td>NaN</td>\n",
       "      <td>NaN</td>\n",
       "      <td>-2.05</td>\n",
       "      <td>1.0</td>\n",
       "    </tr>\n",
       "    <tr>\n",
       "      <th>4</th>\n",
       "      <td>2014-01-30 00:00:00</td>\n",
       "      <td>108.10</td>\n",
       "      <td>110.70</td>\n",
       "      <td>107.60</td>\n",
       "      <td>110.20</td>\n",
       "      <td>5077231</td>\n",
       "      <td>HINDALCO</td>\n",
       "      <td>NaN</td>\n",
       "      <td>NaN</td>\n",
       "      <td>NaN</td>\n",
       "      <td>NaN</td>\n",
       "      <td>NaN</td>\n",
       "      <td>-3.65</td>\n",
       "      <td>0.0</td>\n",
       "    </tr>\n",
       "  </tbody>\n",
       "</table>\n",
       "</div>"
      ],
      "text/plain": [
       "              datetime   close    high     low    open   volume instrument  \\\n",
       "0  2014-01-24 00:00:00  114.00  115.35  113.00  113.15  5737135   HINDALCO   \n",
       "1  2014-01-27 00:00:00  111.10  112.70  109.30  112.00  8724577   HINDALCO   \n",
       "2  2014-01-28 00:00:00  113.80  115.00  109.75  110.00  4513345   HINDALCO   \n",
       "3  2014-01-29 00:00:00  111.75  114.75  111.15  114.50  4713458   HINDALCO   \n",
       "4  2014-01-30 00:00:00  108.10  110.70  107.60  110.20  5077231   HINDALCO   \n",
       "\n",
       "   Unnamed: 7  Unnamed: 8  Unnamed: 9  Unnamed: 10  Unnamed: 11  diff  \\\n",
       "0         NaN         NaN         NaN          NaN          NaN   NaN   \n",
       "1         NaN         NaN         NaN          NaN          NaN -2.90   \n",
       "2         NaN         NaN         NaN          NaN          NaN  2.70   \n",
       "3         NaN         NaN         NaN          NaN          NaN -2.05   \n",
       "4         NaN         NaN         NaN          NaN          NaN -3.65   \n",
       "\n",
       "   direction  \n",
       "0        1.0  \n",
       "1        0.0  \n",
       "2        1.0  \n",
       "3        1.0  \n",
       "4        0.0  "
      ]
     },
     "execution_count": 3,
     "metadata": {},
     "output_type": "execute_result"
    }
   ],
   "source": [
    "data['diff'] = data['close'].diff()\n",
    "data[\"direction\"] = data['diff'].apply(lambda x: 0 if x > 0 else 1).shift(-1)\n",
    "    \n",
    "data.head()"
   ]
  },
  {
   "cell_type": "code",
   "execution_count": 4,
   "id": "f468573e",
   "metadata": {
    "execution": {
     "iopub.execute_input": "2022-05-22T17:58:43.586973Z",
     "iopub.status.busy": "2022-05-22T17:58:43.586511Z",
     "iopub.status.idle": "2022-05-22T17:58:43.604478Z",
     "shell.execute_reply": "2022-05-22T17:58:43.603829Z"
    },
    "papermill": {
     "duration": 0.032238,
     "end_time": "2022-05-22T17:58:43.606219",
     "exception": false,
     "start_time": "2022-05-22T17:58:43.573981",
     "status": "completed"
    },
    "tags": []
   },
   "outputs": [
    {
     "data": {
      "text/html": [
       "<div>\n",
       "<style scoped>\n",
       "    .dataframe tbody tr th:only-of-type {\n",
       "        vertical-align: middle;\n",
       "    }\n",
       "\n",
       "    .dataframe tbody tr th {\n",
       "        vertical-align: top;\n",
       "    }\n",
       "\n",
       "    .dataframe thead th {\n",
       "        text-align: right;\n",
       "    }\n",
       "</style>\n",
       "<table border=\"1\" class=\"dataframe\">\n",
       "  <thead>\n",
       "    <tr style=\"text-align: right;\">\n",
       "      <th></th>\n",
       "      <th>close</th>\n",
       "      <th>high</th>\n",
       "      <th>low</th>\n",
       "      <th>direction</th>\n",
       "      <th>open</th>\n",
       "    </tr>\n",
       "  </thead>\n",
       "  <tbody>\n",
       "    <tr>\n",
       "      <th>0</th>\n",
       "      <td>114.00</td>\n",
       "      <td>115.35</td>\n",
       "      <td>113.00</td>\n",
       "      <td>1.0</td>\n",
       "      <td>113.15</td>\n",
       "    </tr>\n",
       "    <tr>\n",
       "      <th>1</th>\n",
       "      <td>111.10</td>\n",
       "      <td>112.70</td>\n",
       "      <td>109.30</td>\n",
       "      <td>0.0</td>\n",
       "      <td>112.00</td>\n",
       "    </tr>\n",
       "    <tr>\n",
       "      <th>2</th>\n",
       "      <td>113.80</td>\n",
       "      <td>115.00</td>\n",
       "      <td>109.75</td>\n",
       "      <td>1.0</td>\n",
       "      <td>110.00</td>\n",
       "    </tr>\n",
       "    <tr>\n",
       "      <th>3</th>\n",
       "      <td>111.75</td>\n",
       "      <td>114.75</td>\n",
       "      <td>111.15</td>\n",
       "      <td>1.0</td>\n",
       "      <td>114.50</td>\n",
       "    </tr>\n",
       "    <tr>\n",
       "      <th>4</th>\n",
       "      <td>108.10</td>\n",
       "      <td>110.70</td>\n",
       "      <td>107.60</td>\n",
       "      <td>0.0</td>\n",
       "      <td>110.20</td>\n",
       "    </tr>\n",
       "  </tbody>\n",
       "</table>\n",
       "</div>"
      ],
      "text/plain": [
       "    close    high     low  direction    open\n",
       "0  114.00  115.35  113.00        1.0  113.15\n",
       "1  111.10  112.70  109.30        0.0  112.00\n",
       "2  113.80  115.00  109.75        1.0  110.00\n",
       "3  111.75  114.75  111.15        1.0  114.50\n",
       "4  108.10  110.70  107.60        0.0  110.20"
      ]
     },
     "execution_count": 4,
     "metadata": {},
     "output_type": "execute_result"
    }
   ],
   "source": [
    "n_data = data[['close','high','low','direction','open']]\n",
    "n_data.head()"
   ]
  },
  {
   "cell_type": "code",
   "execution_count": 5,
   "id": "9782168b",
   "metadata": {
    "execution": {
     "iopub.execute_input": "2022-05-22T17:58:43.631511Z",
     "iopub.status.busy": "2022-05-22T17:58:43.631288Z",
     "iopub.status.idle": "2022-05-22T17:58:43.636842Z",
     "shell.execute_reply": "2022-05-22T17:58:43.636199Z"
    },
    "papermill": {
     "duration": 0.020504,
     "end_time": "2022-05-22T17:58:43.638655",
     "exception": false,
     "start_time": "2022-05-22T17:58:43.618151",
     "status": "completed"
    },
    "tags": []
   },
   "outputs": [],
   "source": [
    "n_data = n_data.dropna()"
   ]
  },
  {
   "cell_type": "code",
   "execution_count": 6,
   "id": "f9f31eb7",
   "metadata": {
    "execution": {
     "iopub.execute_input": "2022-05-22T17:58:43.663936Z",
     "iopub.status.busy": "2022-05-22T17:58:43.663697Z",
     "iopub.status.idle": "2022-05-22T17:58:44.697693Z",
     "shell.execute_reply": "2022-05-22T17:58:44.697002Z"
    },
    "papermill": {
     "duration": 1.048935,
     "end_time": "2022-05-22T17:58:44.699843",
     "exception": false,
     "start_time": "2022-05-22T17:58:43.650908",
     "status": "completed"
    },
    "tags": []
   },
   "outputs": [],
   "source": [
    "from sklearn.model_selection import train_test_split\n",
    "x_train, x_test, y_train, y_test = train_test_split(n_data[['open']],n_data[['direction']] , test_size=0.25, random_state=0)"
   ]
  },
  {
   "cell_type": "code",
   "execution_count": 7,
   "id": "8e018119",
   "metadata": {
    "execution": {
     "iopub.execute_input": "2022-05-22T17:58:44.723455Z",
     "iopub.status.busy": "2022-05-22T17:58:44.722806Z",
     "iopub.status.idle": "2022-05-22T17:58:44.807049Z",
     "shell.execute_reply": "2022-05-22T17:58:44.805976Z"
    },
    "papermill": {
     "duration": 0.098076,
     "end_time": "2022-05-22T17:58:44.808980",
     "exception": false,
     "start_time": "2022-05-22T17:58:44.710904",
     "status": "completed"
    },
    "tags": []
   },
   "outputs": [
    {
     "name": "stdout",
     "output_type": "stream",
     "text": [
      "Accuracy of Logistic Regression model is: 48.35526315789473\n"
     ]
    }
   ],
   "source": [
    "#Import sklearn\n",
    "from sklearn import linear_model\n",
    "from sklearn import metrics\n",
    "\n",
    "digreg = linear_model.LogisticRegression()\n",
    "y=np.ravel(y_train)\n",
    "digreg.fit(x_train, y)\n",
    "\n",
    "y_pred = digreg.predict(x_test)\n",
    "\n",
    "print(\"Accuracy of Logistic Regression model is:\",\n",
    "metrics.accuracy_score(y_test, y_pred)*100)\n"
   ]
  },
  {
   "cell_type": "code",
   "execution_count": 8,
   "id": "a0e00c9f",
   "metadata": {
    "execution": {
     "iopub.execute_input": "2022-05-22T17:58:44.834065Z",
     "iopub.status.busy": "2022-05-22T17:58:44.833579Z",
     "iopub.status.idle": "2022-05-22T17:58:44.842206Z",
     "shell.execute_reply": "2022-05-22T17:58:44.841728Z"
    },
    "papermill": {
     "duration": 0.023021,
     "end_time": "2022-05-22T17:58:44.843829",
     "exception": false,
     "start_time": "2022-05-22T17:58:44.820808",
     "status": "completed"
    },
    "tags": []
   },
   "outputs": [
    {
     "data": {
      "text/plain": [
       "array([[ 36, 126],\n",
       "       [ 31, 111]])"
      ]
     },
     "execution_count": 8,
     "metadata": {},
     "output_type": "execute_result"
    }
   ],
   "source": [
    "from sklearn.metrics import confusion_matrix\n",
    "cf_matrix = confusion_matrix(y_test, y_pred)\n",
    "cf_matrix"
   ]
  },
  {
   "cell_type": "code",
   "execution_count": 9,
   "id": "20aa63de",
   "metadata": {
    "execution": {
     "iopub.execute_input": "2022-05-22T17:58:44.870807Z",
     "iopub.status.busy": "2022-05-22T17:58:44.870560Z",
     "iopub.status.idle": "2022-05-22T17:58:45.236263Z",
     "shell.execute_reply": "2022-05-22T17:58:45.235518Z"
    },
    "papermill": {
     "duration": 0.38197,
     "end_time": "2022-05-22T17:58:45.238112",
     "exception": false,
     "start_time": "2022-05-22T17:58:44.856142",
     "status": "completed"
    },
    "tags": []
   },
   "outputs": [
    {
     "data": {
      "text/plain": [
       "[Text(0, 0.5, '0'), Text(0, 1.5, '1')]"
      ]
     },
     "execution_count": 9,
     "metadata": {},
     "output_type": "execute_result"
    },
    {
     "data": {
      "image/png": "[encoded data removed]",
      "text/plain": [
       "<Figure size 432x288 with 2 Axes>"
      ]
     },
     "metadata": {
      "needs_background": "light"
     },
     "output_type": "display_data"
    }
   ],
   "source": [
    "import seaborn as sns\n",
    "\n",
    "ax = sns.heatmap(cf_matrix, annot=True, cmap='Blues')\n",
    "\n",
    "ax.set_title('Seaborn Confusion Matrix with labels\\n\\n');\n",
    "ax.set_xlabel('\\nPredicted Values')\n",
    "ax.set_ylabel('Actual Values ');\n",
    "\n",
    "## Ticket labels - List must be in alphabetical order\n",
    "ax.xaxis.set_ticklabels(['0','1'])\n",
    "ax.yaxis.set_ticklabels(['0','1'])\n",
    "\n",
    "## Display the visualization of the Confusion Matrix.\n",
    "#plt.show()"
   ]
  }
 ],
 "metadata": {
  "kernelspec": {
   "display_name": "Python 3",
   "language": "python",
   "name": "python3"
  },
  "language_info": {
   "codemirror_mode": {
    "name": "ipython",
    "version": 3
   },
   "file_extension": ".py",
   "mimetype": "text/x-python",
   "name": "python",
   "nbconvert_exporter": "python",
   "pygments_lexer": "ipython3",
   "version": "3.7.12"
  },
  "papermill": {
   "default_parameters": {},
   "duration": 11.084275,
   "end_time": "2022-05-22T17:58:45.872220",
   "environment_variables": {},
   "exception": null,
   "input_path": "__notebook__.ipynb",
   "output_path": "__notebook__.ipynb",
   "parameters": {},
   "start_time": "2022-05-22T17:58:34.787945",
   "version": "2.3.4"
  }
 },
 "nbformat": 4,
 "nbformat_minor": 5
}
