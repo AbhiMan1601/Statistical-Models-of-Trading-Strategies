{
 "cells": [
  {
   "cell_type": "code",
   "execution_count": 1,
   "id": "f8b4e8da",
   "metadata": {
    "_cell_guid": "b1076dfc-b9ad-4769-8c92-a6c4dae69d19",
    "_uuid": "8f2839f25d086af736a60e9eeb907d3b93b6e0e5",
    "execution": {
     "iopub.execute_input": "2022-05-11T05:16:33.494818Z",
     "iopub.status.busy": "2022-05-11T05:16:33.493925Z",
     "iopub.status.idle": "2022-05-11T05:16:33.511289Z",
     "shell.execute_reply": "2022-05-11T05:16:33.510571Z"
    },
    "papermill": {
     "duration": 0.035892,
     "end_time": "2022-05-11T05:16:33.513503",
     "exception": false,
     "start_time": "2022-05-11T05:16:33.477611",
     "status": "completed"
    },
    "tags": []
   },
   "outputs": [
    {
     "name": "stdout",
     "output_type": "stream",
     "text": [
      "/kaggle/input/invstodata/HINDALCO_1D (1).xlsx - HINDALCO.csv\n"
     ]
    }
   ],
   "source": [
    "# This Python 3 environment comes with many helpful analytics libraries installed\n",
    "# It is defined by the kaggle/python Docker image: https://github.com/kaggle/docker-python\n",
    "# For example, here's several helpful packages to load\n",
    "\n",
    "import numpy as np # linear algebra\n",
    "import pandas as pd # data processing, CSV file I/O (e.g. pd.read_csv)\n",
    "\n",
    "# Input data files are available in the read-only \"../input/\" directory\n",
    "# For example, running this (by clicking run or pressing Shift+Enter) will list all files under the input directory\n",
    "\n",
    "import os\n",
    "for dirname, _, filenames in os.walk('/kaggle/input'):\n",
    "    for filename in filenames:\n",
    "        print(os.path.join(dirname, filename))\n",
    "\n",
    "# You can write up to 20GB to the current directory (/kaggle/working/) that gets preserved as output when you create a version using \"Save & Run All\" \n",
    "# You can also write temporary files to /kaggle/temp/, but they won't be saved outside of the current session"
   ]
  },
  {
   "cell_type": "code",
   "execution_count": 2,
   "id": "b3de836f",
   "metadata": {
    "execution": {
     "iopub.execute_input": "2022-05-11T05:16:33.542109Z",
     "iopub.status.busy": "2022-05-11T05:16:33.541346Z",
     "iopub.status.idle": "2022-05-11T05:16:33.583692Z",
     "shell.execute_reply": "2022-05-11T05:16:33.582648Z"
    },
    "papermill": {
     "duration": 0.05934,
     "end_time": "2022-05-11T05:16:33.586309",
     "exception": false,
     "start_time": "2022-05-11T05:16:33.526969",
     "status": "completed"
    },
    "tags": []
   },
   "outputs": [
    {
     "data": {
      "text/html": [
       "<div>\n",
       "<style scoped>\n",
       "    .dataframe tbody tr th:only-of-type {\n",
       "        vertical-align: middle;\n",
       "    }\n",
       "\n",
       "    .dataframe tbody tr th {\n",
       "        vertical-align: top;\n",
       "    }\n",
       "\n",
       "    .dataframe thead th {\n",
       "        text-align: right;\n",
       "    }\n",
       "</style>\n",
       "<table border=\"1\" class=\"dataframe\">\n",
       "  <thead>\n",
       "    <tr style=\"text-align: right;\">\n",
       "      <th></th>\n",
       "      <th>datetime</th>\n",
       "      <th>close</th>\n",
       "      <th>high</th>\n",
       "      <th>low</th>\n",
       "      <th>open</th>\n",
       "      <th>volume</th>\n",
       "      <th>instrument</th>\n",
       "      <th>Unnamed: 7</th>\n",
       "      <th>Unnamed: 8</th>\n",
       "      <th>Unnamed: 9</th>\n",
       "      <th>Unnamed: 10</th>\n",
       "      <th>Unnamed: 11</th>\n",
       "    </tr>\n",
       "  </thead>\n",
       "  <tbody>\n",
       "    <tr>\n",
       "      <th>0</th>\n",
       "      <td>2014-01-24 00:00:00</td>\n",
       "      <td>114.00</td>\n",
       "      <td>115.35</td>\n",
       "      <td>113.00</td>\n",
       "      <td>113.15</td>\n",
       "      <td>5737135</td>\n",
       "      <td>HINDALCO</td>\n",
       "      <td>NaN</td>\n",
       "      <td>NaN</td>\n",
       "      <td>NaN</td>\n",
       "      <td>NaN</td>\n",
       "      <td>NaN</td>\n",
       "    </tr>\n",
       "    <tr>\n",
       "      <th>1</th>\n",
       "      <td>2014-01-27 00:00:00</td>\n",
       "      <td>111.10</td>\n",
       "      <td>112.70</td>\n",
       "      <td>109.30</td>\n",
       "      <td>112.00</td>\n",
       "      <td>8724577</td>\n",
       "      <td>HINDALCO</td>\n",
       "      <td>NaN</td>\n",
       "      <td>NaN</td>\n",
       "      <td>NaN</td>\n",
       "      <td>NaN</td>\n",
       "      <td>NaN</td>\n",
       "    </tr>\n",
       "    <tr>\n",
       "      <th>2</th>\n",
       "      <td>2014-01-28 00:00:00</td>\n",
       "      <td>113.80</td>\n",
       "      <td>115.00</td>\n",
       "      <td>109.75</td>\n",
       "      <td>110.00</td>\n",
       "      <td>4513345</td>\n",
       "      <td>HINDALCO</td>\n",
       "      <td>NaN</td>\n",
       "      <td>NaN</td>\n",
       "      <td>NaN</td>\n",
       "      <td>NaN</td>\n",
       "      <td>NaN</td>\n",
       "    </tr>\n",
       "    <tr>\n",
       "      <th>3</th>\n",
       "      <td>2014-01-29 00:00:00</td>\n",
       "      <td>111.75</td>\n",
       "      <td>114.75</td>\n",
       "      <td>111.15</td>\n",
       "      <td>114.50</td>\n",
       "      <td>4713458</td>\n",
       "      <td>HINDALCO</td>\n",
       "      <td>NaN</td>\n",
       "      <td>NaN</td>\n",
       "      <td>NaN</td>\n",
       "      <td>NaN</td>\n",
       "      <td>NaN</td>\n",
       "    </tr>\n",
       "    <tr>\n",
       "      <th>4</th>\n",
       "      <td>2014-01-30 00:00:00</td>\n",
       "      <td>108.10</td>\n",
       "      <td>110.70</td>\n",
       "      <td>107.60</td>\n",
       "      <td>110.20</td>\n",
       "      <td>5077231</td>\n",
       "      <td>HINDALCO</td>\n",
       "      <td>NaN</td>\n",
       "      <td>NaN</td>\n",
       "      <td>NaN</td>\n",
       "      <td>NaN</td>\n",
       "      <td>NaN</td>\n",
       "    </tr>\n",
       "  </tbody>\n",
       "</table>\n",
       "</div>"
      ],
      "text/plain": [
       "              datetime   close    high     low    open   volume instrument  \\\n",
       "0  2014-01-24 00:00:00  114.00  115.35  113.00  113.15  5737135   HINDALCO   \n",
       "1  2014-01-27 00:00:00  111.10  112.70  109.30  112.00  8724577   HINDALCO   \n",
       "2  2014-01-28 00:00:00  113.80  115.00  109.75  110.00  4513345   HINDALCO   \n",
       "3  2014-01-29 00:00:00  111.75  114.75  111.15  114.50  4713458   HINDALCO   \n",
       "4  2014-01-30 00:00:00  108.10  110.70  107.60  110.20  5077231   HINDALCO   \n",
       "\n",
       "   Unnamed: 7  Unnamed: 8  Unnamed: 9  Unnamed: 10  Unnamed: 11  \n",
       "0         NaN         NaN         NaN          NaN          NaN  \n",
       "1         NaN         NaN         NaN          NaN          NaN  \n",
       "2         NaN         NaN         NaN          NaN          NaN  \n",
       "3         NaN         NaN         NaN          NaN          NaN  \n",
       "4         NaN         NaN         NaN          NaN          NaN  "
      ]
     },
     "execution_count": 2,
     "metadata": {},
     "output_type": "execute_result"
    }
   ],
   "source": [
    "data = pd.read_csv(\"/kaggle/input/invstodata/HINDALCO_1D (1).xlsx - HINDALCO.csv\")\n",
    "data.head()"
   ]
  },
  {
   "cell_type": "code",
   "execution_count": 3,
   "id": "eccb11b0",
   "metadata": {
    "execution": {
     "iopub.execute_input": "2022-05-11T05:16:33.615140Z",
     "iopub.status.busy": "2022-05-11T05:16:33.614880Z",
     "iopub.status.idle": "2022-05-11T05:16:33.620962Z",
     "shell.execute_reply": "2022-05-11T05:16:33.620283Z"
    },
    "papermill": {
     "duration": 0.022732,
     "end_time": "2022-05-11T05:16:33.622732",
     "exception": false,
     "start_time": "2022-05-11T05:16:33.600000",
     "status": "completed"
    },
    "tags": []
   },
   "outputs": [],
   "source": [
    "close = data['close']"
   ]
  },
  {
   "cell_type": "markdown",
   "id": "fef1ae74",
   "metadata": {
    "papermill": {
     "duration": 0.013173,
     "end_time": "2022-05-11T05:16:33.649300",
     "exception": false,
     "start_time": "2022-05-11T05:16:33.636127",
     "status": "completed"
    },
    "tags": []
   },
   "source": [
    "# KALMAN FILTER IMPLEMENTATION"
   ]
  },
  {
   "cell_type": "code",
   "execution_count": 4,
   "id": "f430264b",
   "metadata": {
    "execution": {
     "iopub.execute_input": "2022-05-11T05:16:33.678551Z",
     "iopub.status.busy": "2022-05-11T05:16:33.677459Z",
     "iopub.status.idle": "2022-05-11T05:16:33.999531Z",
     "shell.execute_reply": "2022-05-11T05:16:33.998751Z"
    },
    "papermill": {
     "duration": 0.339217,
     "end_time": "2022-05-11T05:16:34.001959",
     "exception": false,
     "start_time": "2022-05-11T05:16:33.662742",
     "status": "completed"
    },
    "tags": []
   },
   "outputs": [],
   "source": [
    "from pykalman import KalmanFilter\n",
    "kf = KalmanFilter(\n",
    "observation_matrices = [1],\n",
    "initial_state_mean = 0,\n",
    "initial_state_covariance = 1,\n",
    "observation_covariance=1,\n",
    "transition_covariance=.01)"
   ]
  },
  {
   "cell_type": "code",
   "execution_count": 5,
   "id": "57e8359a",
   "metadata": {
    "execution": {
     "iopub.execute_input": "2022-05-11T05:16:34.031352Z",
     "iopub.status.busy": "2022-05-11T05:16:34.030667Z",
     "iopub.status.idle": "2022-05-11T05:16:34.363966Z",
     "shell.execute_reply": "2022-05-11T05:16:34.363092Z"
    },
    "papermill": {
     "duration": 0.350558,
     "end_time": "2022-05-11T05:16:34.366193",
     "exception": false,
     "start_time": "2022-05-11T05:16:34.015635",
     "status": "completed"
    },
    "tags": []
   },
   "outputs": [
    {
     "name": "stdout",
     "output_type": "stream",
     "text": [
      "[[ 57.        ]\n",
      " [ 75.27218543]\n",
      " [ 85.21319837]\n",
      " ...\n",
      " [222.81464604]\n",
      " [222.603978  ]\n",
      " [222.68921203]]\n"
     ]
    }
   ],
   "source": [
    "state_means,_= kf.filter(close)\n",
    "print(state_means)"
   ]
  },
  {
   "cell_type": "code",
   "execution_count": 6,
   "id": "2d045719",
   "metadata": {
    "execution": {
     "iopub.execute_input": "2022-05-11T05:16:34.396019Z",
     "iopub.status.busy": "2022-05-11T05:16:34.395548Z",
     "iopub.status.idle": "2022-05-11T05:16:34.414710Z",
     "shell.execute_reply": "2022-05-11T05:16:34.413838Z"
    },
    "papermill": {
     "duration": 0.036719,
     "end_time": "2022-05-11T05:16:34.417001",
     "exception": false,
     "start_time": "2022-05-11T05:16:34.380282",
     "status": "completed"
    },
    "tags": []
   },
   "outputs": [
    {
     "data": {
      "text/html": [
       "<div>\n",
       "<style scoped>\n",
       "    .dataframe tbody tr th:only-of-type {\n",
       "        vertical-align: middle;\n",
       "    }\n",
       "\n",
       "    .dataframe tbody tr th {\n",
       "        vertical-align: top;\n",
       "    }\n",
       "\n",
       "    .dataframe thead th {\n",
       "        text-align: right;\n",
       "    }\n",
       "</style>\n",
       "<table border=\"1\" class=\"dataframe\">\n",
       "  <thead>\n",
       "    <tr style=\"text-align: right;\">\n",
       "      <th></th>\n",
       "      <th>datetime</th>\n",
       "      <th>close</th>\n",
       "      <th>high</th>\n",
       "      <th>low</th>\n",
       "      <th>open</th>\n",
       "      <th>volume</th>\n",
       "      <th>instrument</th>\n",
       "      <th>Unnamed: 7</th>\n",
       "      <th>Unnamed: 8</th>\n",
       "      <th>Unnamed: 9</th>\n",
       "      <th>Unnamed: 10</th>\n",
       "      <th>Unnamed: 11</th>\n",
       "      <th>Kalman_Filter</th>\n",
       "    </tr>\n",
       "  </thead>\n",
       "  <tbody>\n",
       "    <tr>\n",
       "      <th>0</th>\n",
       "      <td>2014-01-24 00:00:00</td>\n",
       "      <td>114.00</td>\n",
       "      <td>115.35</td>\n",
       "      <td>113.00</td>\n",
       "      <td>113.15</td>\n",
       "      <td>5737135</td>\n",
       "      <td>HINDALCO</td>\n",
       "      <td>NaN</td>\n",
       "      <td>NaN</td>\n",
       "      <td>NaN</td>\n",
       "      <td>NaN</td>\n",
       "      <td>NaN</td>\n",
       "      <td>57.000000</td>\n",
       "    </tr>\n",
       "    <tr>\n",
       "      <th>1</th>\n",
       "      <td>2014-01-27 00:00:00</td>\n",
       "      <td>111.10</td>\n",
       "      <td>112.70</td>\n",
       "      <td>109.30</td>\n",
       "      <td>112.00</td>\n",
       "      <td>8724577</td>\n",
       "      <td>HINDALCO</td>\n",
       "      <td>NaN</td>\n",
       "      <td>NaN</td>\n",
       "      <td>NaN</td>\n",
       "      <td>NaN</td>\n",
       "      <td>NaN</td>\n",
       "      <td>75.272185</td>\n",
       "    </tr>\n",
       "    <tr>\n",
       "      <th>2</th>\n",
       "      <td>2014-01-28 00:00:00</td>\n",
       "      <td>113.80</td>\n",
       "      <td>115.00</td>\n",
       "      <td>109.75</td>\n",
       "      <td>110.00</td>\n",
       "      <td>4513345</td>\n",
       "      <td>HINDALCO</td>\n",
       "      <td>NaN</td>\n",
       "      <td>NaN</td>\n",
       "      <td>NaN</td>\n",
       "      <td>NaN</td>\n",
       "      <td>NaN</td>\n",
       "      <td>85.213198</td>\n",
       "    </tr>\n",
       "    <tr>\n",
       "      <th>3</th>\n",
       "      <td>2014-01-29 00:00:00</td>\n",
       "      <td>111.75</td>\n",
       "      <td>114.75</td>\n",
       "      <td>111.15</td>\n",
       "      <td>114.50</td>\n",
       "      <td>4713458</td>\n",
       "      <td>HINDALCO</td>\n",
       "      <td>NaN</td>\n",
       "      <td>NaN</td>\n",
       "      <td>NaN</td>\n",
       "      <td>NaN</td>\n",
       "      <td>NaN</td>\n",
       "      <td>90.822281</td>\n",
       "    </tr>\n",
       "    <tr>\n",
       "      <th>4</th>\n",
       "      <td>2014-01-30 00:00:00</td>\n",
       "      <td>108.10</td>\n",
       "      <td>110.70</td>\n",
       "      <td>107.60</td>\n",
       "      <td>110.20</td>\n",
       "      <td>5077231</td>\n",
       "      <td>HINDALCO</td>\n",
       "      <td>NaN</td>\n",
       "      <td>NaN</td>\n",
       "      <td>NaN</td>\n",
       "      <td>NaN</td>\n",
       "      <td>NaN</td>\n",
       "      <td>93.953821</td>\n",
       "    </tr>\n",
       "  </tbody>\n",
       "</table>\n",
       "</div>"
      ],
      "text/plain": [
       "              datetime   close    high     low    open   volume instrument  \\\n",
       "0  2014-01-24 00:00:00  114.00  115.35  113.00  113.15  5737135   HINDALCO   \n",
       "1  2014-01-27 00:00:00  111.10  112.70  109.30  112.00  8724577   HINDALCO   \n",
       "2  2014-01-28 00:00:00  113.80  115.00  109.75  110.00  4513345   HINDALCO   \n",
       "3  2014-01-29 00:00:00  111.75  114.75  111.15  114.50  4713458   HINDALCO   \n",
       "4  2014-01-30 00:00:00  108.10  110.70  107.60  110.20  5077231   HINDALCO   \n",
       "\n",
       "   Unnamed: 7  Unnamed: 8  Unnamed: 9  Unnamed: 10  Unnamed: 11  Kalman_Filter  \n",
       "0         NaN         NaN         NaN          NaN          NaN      57.000000  \n",
       "1         NaN         NaN         NaN          NaN          NaN      75.272185  \n",
       "2         NaN         NaN         NaN          NaN          NaN      85.213198  \n",
       "3         NaN         NaN         NaN          NaN          NaN      90.822281  \n",
       "4         NaN         NaN         NaN          NaN          NaN      93.953821  "
      ]
     },
     "execution_count": 6,
     "metadata": {},
     "output_type": "execute_result"
    }
   ],
   "source": [
    "state_means_d = pd.DataFrame(state_means)\n",
    "# print(state_means_d)   \n",
    "\n",
    "data['Kalman_Filter']= state_means_d\n",
    "data.head()"
   ]
  },
  {
   "cell_type": "code",
   "execution_count": 7,
   "id": "5461b793",
   "metadata": {
    "execution": {
     "iopub.execute_input": "2022-05-11T05:16:34.447810Z",
     "iopub.status.busy": "2022-05-11T05:16:34.447363Z",
     "iopub.status.idle": "2022-05-11T05:16:35.621737Z",
     "shell.execute_reply": "2022-05-11T05:16:35.620885Z"
    },
    "papermill": {
     "duration": 1.192997,
     "end_time": "2022-05-11T05:16:35.624477",
     "exception": false,
     "start_time": "2022-05-11T05:16:34.431480",
     "status": "completed"
    },
    "tags": []
   },
   "outputs": [
    {
     "data": {
      "text/plain": [
       "<AxesSubplot:>"
      ]
     },
     "execution_count": 7,
     "metadata": {},
     "output_type": "execute_result"
    },
    {
     "data": {
      "image/png": "[encoded data removed]",
      "text/plain": [
       "<Figure size 432x288 with 1 Axes>"
      ]
     },
     "metadata": {
      "needs_background": "light"
     },
     "output_type": "display_data"
    }
   ],
   "source": [
    "import seaborn as sns\n",
    "\n",
    "sns.lineplot(data=data[['close','Kalman_Filter']])\n",
    "# Kalman Filter vs Close Price "
   ]
  },
  {
   "cell_type": "markdown",
   "id": "a65b0c40",
   "metadata": {
    "papermill": {
     "duration": 0.015657,
     "end_time": "2022-05-11T05:16:35.656262",
     "exception": false,
     "start_time": "2022-05-11T05:16:35.640605",
     "status": "completed"
    },
    "tags": []
   },
   "source": [
    "# COMPARISON OF CLOSE PRICE WITH KALMAN FILTER AND MOVING AVERAGE (3 DAY WINDOW)"
   ]
  },
  {
   "cell_type": "code",
   "execution_count": 8,
   "id": "538079a6",
   "metadata": {
    "execution": {
     "iopub.execute_input": "2022-05-11T05:16:35.689656Z",
     "iopub.status.busy": "2022-05-11T05:16:35.689355Z",
     "iopub.status.idle": "2022-05-11T05:16:35.871222Z",
     "shell.execute_reply": "2022-05-11T05:16:35.870156Z"
    },
    "papermill": {
     "duration": 0.201942,
     "end_time": "2022-05-11T05:16:35.874113",
     "exception": false,
     "start_time": "2022-05-11T05:16:35.672171",
     "status": "completed"
    },
    "tags": []
   },
   "outputs": [
    {
     "name": "stdout",
     "output_type": "stream",
     "text": [
      "[0, 0, 112.97, 112.22, 111.22, 109.8, 107.03, 105.15, 103.38, 104.15, 105.47, 106.32, 105.92, 104.95, 102.75, 101.2, 99.53, 99.23, 98.88, 98.5, 97.95, 97.48, 97.97, 98.22, 100.85, 103.12, 108.18, 111.65, 116.72, 120.37, 122.43, 121.3, 118.03, 115.93, 115.2, 115.23, 116.7, 118.18, 121.07, 121.45, 122.1, 121.18, 122.58, 123.85, 127.23, 132.68, 136.95, 138.65, 137.12, 136.93, 137.38, 139.3, 140.92, 142.03, 139.08, 136.73, 136.98, 140.13, 143.27, 144.5, 144.58, 143.38, 140.73, 137.58, 134.38, 134.95, 136.42, 137.6, 136.88, 138.68, 141.42, 143.23, 142.27, 140.63, 140.3, 143.92, 149.82, 155.98, 157.0, 155.62, 151.42, 149.6, 147.98, 148.72, 148.17, 149.12, 151.08, 155.32, 161.92, 166.6, 169.57, 169.53, 167.33, 167.22, 164.75, 164.27, 162.07, 163.55, 165.73, 166.12, 165.62, 165.3, 166.27, 166.25, 164.28, 163.45, 166.78, 172.57, 175.75, 175.08, 173.83, 172.25, 171.35, 171.93, 171.18, 172.13, 171.62, 176.8, 181.88, 185.18, 185.7, 185.57, 188.62, 193.33, 194.52, 192.53, 190.73, 190.7, 189.53, 188.97, 190.28, 192.77, 192.17, 188.27, 186.23, 185.0, 183.7, 181.35, 180.3, 180.57, 181.15, 179.7, 180.25, 175.08, 172.62, 169.22, 170.97, 172.85, 173.7, 175.37, 173.15, 170.77, 170.22, 171.35, 173.08, 172.93, 171.5, 168.4, 164.18, 161.53, 161.33, 162.65, 163.17, 161.22, 158.48, 154.13, 154.17, 155.37, 157.9, 157.23, 153.42, 150.77, 151.63, 152.27, 153.03, 150.75, 148.17, 144.28, 142.78, 144.62, 147.62, 148.53, 148.35, 148.1, 150.65, 154.98, 160.32, 162.53, 161.25, 158.72, 154.87, 153.12, 151.52, 151.48, 153.5, 155.75, 156.88, 156.03, 155.35, 157.02, 160.65, 163.83, 166.78, 169.1, 171.93, 171.35, 170.83, 169.17, 168.67, 166.05, 162.75, 158.93, 155.87, 154.67, 154.37, 154.1, 150.5, 148.35, 148.27, 152.62, 155.52, 155.57, 153.17, 151.9, 153.22, 155.13, 156.98, 157.45, 158.7, 158.47, 156.78, 153.05, 151.62, 152.15, 152.88, 152.6, 148.32, 145.25, 140.87, 140.23, 141.17, 142.72, 143.78, 143.82, 143.58, 142.48, 141.68, 140.75, 142.45, 143.8, 148.03, 148.97, 149.25, 147.3, 147.68, 148.53, 150.62, 152.07, 152.43, 152.05, 152.95, 154.82, 155.88, 155.02, 154.05, 152.35, 152.85, 152.58, 154.85, 156.03, 156.12, 153.3, 147.33, 142.32, 136.4, 134.43, 132.32, 131.13, 130.92, 131.4, 133.23, 132.5, 133.42, 133.6, 133.88, 131.77, 132.13, 131.55, 131.37, 130.78, 131.97, 134.62, 136.53, 138.27, 138.58, 137.97, 136.38, 136.13, 137.35, 138.38, 137.43, 135.73, 134.67, 133.62, 132.08, 130.85, 130.67, 130.18, 130.78, 133.7, 136.75, 137.13, 137.0, 138.58, 139.68, 137.87, 136.18, 135.98, 137.85, 138.68, 139.33, 139.33, 138.32, 136.83, 135.23, 134.12, 133.15, 131.47, 129.73, 126.95, 124.52, 122.17, 121.13, 119.88, 119.48, 119.53, 119.87, 118.75, 116.75, 115.35, 115.95, 117.85, 119.78, 120.67, 121.2, 120.02, 118.95, 117.42, 115.95, 113.92, 112.6, 112.0, 111.57, 110.23, 108.93, 106.02, 104.33, 103.48, 105.08, 105.28, 105.6, 105.62, 106.48, 107.77, 108.23, 108.4, 108.17, 108.58, 107.48, 106.42, 105.48, 105.58, 105.48, 105.2, 106.72, 107.73, 108.73, 108.83, 108.68, 106.87, 102.32, 96.65, 93.28, 91.53, 90.9, 88.57, 86.67, 85.7, 83.2, 81.7, 79.83, 80.5, 80.9, 80.78, 79.22, 76.78, 75.83, 75.15, 74.22, 72.72, 74.28, 75.93, 77.07, 77.08, 77.0, 77.38, 76.47, 77.08, 75.73, 74.75, 72.52, 71.63, 70.05, 69.85, 69.97, 71.9, 73.3, 76.97, 79.75, 82.73, 84.98, 86.25, 87.8, 87.52, 88.05, 87.43, 86.32, 85.58, 85.03, 85.35, 84.97, 84.77, 84.05, 83.93, 82.75, 82.45, 81.72, 81.75, 81.27, 80.63, 80.03, 79.83, 78.98, 78.92, 79.1, 78.82, 78.6, 77.38, 76.62, 75.02, 74.32, 75.45, 76.6, 78.08, 79.02, 79.73, 79.57, 79.17, 78.1, 76.33, 75.15, 75.23, 76.92, 78.02, 78.78, 79.62, 79.92, 80.83, 80.27, 81.6, 82.92, 84.7, 84.87, 84.68, 84.62, 84.78, 83.47, 82.75, 81.3, 79.93, 78.03, 77.15, 76.8, 76.73, 75.67, 74.4, 72.57, 71.62, 70.22, 69.25, 69.42, 70.88, 71.8, 70.92, 70.42, 70.43, 70.05, 68.77, 67.97, 68.87, 69.92, 70.35, 68.9, 66.87, 63.83, 63.87, 64.25, 65.88, 66.52, 67.92, 69.15, 69.02, 68.13, 67.35, 67.67, 68.45, 69.48, 71.32, 74.82, 77.87, 80.6, 81.22, 82.68, 82.8, 84.07, 84.1, 83.43, 82.13, 82.57, 84.07, 86.07, 88.1, 87.18, 86.32, 85.22, 86.78, 87.53, 87.9, 86.88, 87.65, 87.05, 87.98, 89.07, 90.63, 93.5, 95.12, 98.38, 100.22, 101.57, 100.43, 100.88, 101.1, 100.6, 98.33, 97.3, 97.3, 95.57, 92.83, 91.17, 91.35, 91.15, 91.05, 91.62, 91.43, 90.83, 89.4, 89.35, 88.43, 87.72, 86.97, 86.72, 87.32, 88.45, 90.32, 95.05, 100.03, 103.77, 104.8, 104.9, 106.15, 107.3, 108.57, 109.92, 111.85, 113.63, 115.2, 115.35, 116.8, 117.87, 119.63, 121.12, 122.25, 123.2, 121.13, 120.33, 118.38, 119.27, 120.28, 122.52, 124.52, 124.78, 125.77, 126.07, 127.87, 130.38, 133.37, 135.62, 136.33, 136.82, 137.55, 137.05, 135.93, 135.27, 135.03, 134.28, 133.55, 133.23, 133.87, 134.8, 135.22, 135.93, 136.1, 138.83, 143.32, 146.48, 147.18, 144.88, 144.8, 147.75, 152.32, 154.98, 156.42, 156.45, 156.85, 156.2, 155.6, 155.58, 156.02, 158.85, 160.1, 159.83, 158.0, 157.75, 158.48, 160.05, 158.83, 152.55, 146.32, 143.22, 143.82, 144.05, 144.07, 146.37, 149.92, 152.87, 154.22, 152.7, 153.52, 152.32, 153.2, 152.27, 153.68, 155.2, 156.62, 157.87, 159.03, 157.97, 156.83, 153.47, 152.53, 151.33, 152.87, 152.7, 152.65, 151.07, 150.52, 149.67, 149.38, 149.23, 152.12, 154.4, 158.75, 159.38, 163.08, 164.62, 165.7, 168.42, 170.05, 171.93, 167.62, 166.28, 165.48, 163.67, 163.08, 165.87, 173.57, 178.22, 179.87, 178.18, 176.6, 174.17, 171.95, 171.53, 172.88, 174.98, 176.55, 178.78, 181.08, 180.33, 178.3, 176.35, 174.1, 171.82, 168.83, 168.37, 165.73, 163.12, 157.35, 155.45, 153.55, 154.63, 154.47, 156.22, 157.58, 158.87, 159.92, 160.55, 160.25, 161.05, 165.78, 172.12, 174.73, 173.95, 171.97, 173.55, 174.72, 174.92, 176.48, 180.17, 186.53, 189.55, 191.0, 190.73, 193.43, 194.03, 194.63, 191.72, 189.25, 188.33, 186.2, 184.92, 183.58, 184.77, 185.57, 186.48, 185.28, 184.9, 183.13, 181.93, 181.53, 180.97, 182.4, 184.78, 187.68, 192.42, 195.85, 196.88, 194.1, 190.65, 189.0, 189.07, 189.62, 193.33, 195.27, 197.05, 196.9, 195.97, 195.13, 194.0, 192.43, 191.07, 190.18, 190.72, 192.53, 192.98, 195.62, 195.25, 195.22, 194.17, 195.0, 194.83, 190.9, 185.9, 182.83, 183.75, 185.42, 186.85, 188.45, 190.2, 193.17, 194.52, 197.07, 198.15, 198.88, 196.58, 191.77, 187.48, 185.47, 185.9, 189.05, 190.6, 194.38, 195.33, 197.93, 196.45, 194.62, 191.75, 191.08, 189.77, 189.87, 192.0, 196.73, 200.93, 201.7, 200.37, 198.33, 197.13, 196.53, 196.58, 197.03, 199.27, 200.4, 201.12, 200.45, 199.12, 197.33, 197.57, 199.37, 199.8, 196.72, 192.28, 189.35, 188.77, 189.93, 191.0, 193.27, 195.33, 197.95, 197.95, 196.78, 195.78, 197.12, 199.02, 201.98, 203.75, 206.6, 207.5, 210.0, 211.5, 213.88, 214.2, 216.38, 218.72, 221.0, 219.55, 218.92, 220.42, 224.53, 224.97, 224.8, 224.62, 229.27, 234.0, 237.45, 232.82, 229.38, 227.92, 231.02, 231.32, 228.42, 227.95, 228.23, 230.93, 232.48, 231.28, 232.4, 233.88, 239.37, 241.4, 242.7, 243.38, 245.88, 248.43, 249.85, 250.18, 249.67, 248.72, 247.67, 248.17, 247.93, 246.7, 245.05, 239.85, 234.85, 231.53, 232.45, 235.57, 237.57, 240.22, 241.37, 241.42, 244.52, 247.05, 250.82, 250.35, 255.33, 260.18, 267.48, 271.5, 274.4, 275.23, 273.7, 271.55, 269.17, 269.5, 269.9, 272.05, 270.22, 271.97, 271.17, 271.67, 270.88, 269.58, 267.63, 264.42, 263.47, 262.75, 261.98, 257.92, 255.85, 255.13, 258.33, 260.58, 260.22, 258.15, 254.88, 252.18, 250.65, 249.07, 246.0, 240.9, 238.45, 238.32, 237.23, 236.45, 236.33, 238.33, 238.58, 236.83, 236.27, 237.87, 242.93, 248.9, 254.1, 258.65, 263.17, 266.6, 267.42, 269.88, 271.52, 273.32, 272.2, 273.18, 276.07, 277.57, 277.45, 274.68, 272.15, 269.35, 268.47, 267.77, 265.37, 263.33, 259.07, 258.22, 255.67, 259.35, 259.58, 260.87, 258.75, 257.03, 256.1, 255.32, 254.08, 250.9, 246.95, 245.67, 245.2, 244.9, 243.98, 243.33, 246.0, 247.47, 248.9, 248.0, 245.67, 243.12, 242.37, 244.22, 245.68, 245.3, 243.5, 238.6, 232.08, 226.63, 224.33, 222.45, 223.52, 224.67, 226.83, 225.92, 224.43, 220.38, 217.85, 215.52, 216.27, 212.53, 211.15, 211.72, 214.53, 214.77, 211.25, 206.67, 207.63, 209.65, 216.5, 221.78, 228.52, 232.27, 234.87, 236.62, 238.88, 240.55, 248.98, 256.55, 260.82, 251.48, 241.47, 234.27, 233.67, 234.87, 232.88, 231.75, 230.32, 233.58, 235.97, 238.23, 239.38, 240.72, 242.03, 242.9, 241.92, 238.9, 234.77, 230.93, 231.57, 231.05, 233.0, 236.52, 240.42, 243.22, 240.75, 238.27, 236.93, 238.1, 240.72, 243.92, 246.25, 246.28, 245.15, 242.5, 243.45, 243.47, 242.38, 237.72, 231.4, 227.67, 224.77, 223.5, 220.9, 221.12, 219.75, 220.63, 223.15, 224.93, 226.62, 224.48, 223.5, 221.62, 220.93, 223.85, 223.97, 223.38, 219.95, 217.37, 217.1, 214.98, 209.83, 201.88, 196.47, 199.8, 204.25, 207.72, 209.65, 210.4, 212.68, 210.88, 209.77, 209.17, 211.87, 215.57, 218.57, 222.35, 223.58, 223.93, 221.93, 219.73, 219.08, 220.82, 224.25, 224.7, 223.18, 224.47, 230.45, 235.37, 238.7, 238.35, 239.2, 237.48, 238.15, 236.82, 239.3, 237.88, 236.62, 235.07, 238.32, 241.57, 240.32, 237.05, 236.73, 238.65, 241.12, 243.63, 244.97, 240.5, 238.82, 242.1, 249.5, 248.88, 238.48, 229.28, 224.57, 222.55, 223.37, 224.98, 229.67, 230.02, 228.43, 226.25, 223.5, 224.45, 223.9, 224.48, 222.58, 223.1, 222.82, 225.18, 230.7, 238.02, 241.8, 243.0, 241.82, 237.37, 233.2, 230.1, 231.55, 231.02, 232.67, 228.78, 226.52, 221.07, 220.02, 218.93, 218.25, 220.15, 222.25, 227.92, 230.87, 229.25, 224.2, 219.35, 218.2, 217.65, 218.48, 219.28, 220.58, 221.97, 223.62, 225.95, 225.43, 225.02, 221.92, 220.15, 219.02, 220.9]\n"
     ]
    }
   ],
   "source": [
    "arr = data['close']\n",
    "\n",
    "window_size = 3\n",
    "  \n",
    "i = 0\n",
    "# Initialize an empty list to store moving averages\n",
    "moving_averages = []\n",
    "  \n",
    "# Loop through the array t o\n",
    "\n",
    "#consider every window of size 3\n",
    "while i < len(arr) - window_size + 1:\n",
    "  \n",
    "    # Calculate the average of current window\n",
    "    window_average = round(np.sum(arr[\n",
    "      i:i+window_size]) / window_size, 2)\n",
    "      \n",
    "    # Store the average of current\n",
    "    # window in moving average list\n",
    "    moving_averages.append(window_average)\n",
    "      \n",
    "    # Shift window to right by one position\n",
    "    i += 1\n",
    "\n",
    "\n",
    "# We add 0 to counteract the missing values of the first two values\n",
    "a = [0,0]\n",
    "n_moving_averages = a + moving_averages\n",
    "print(n_moving_averages)\n"
   ]
  },
  {
   "cell_type": "code",
   "execution_count": 9,
   "id": "bbc70609",
   "metadata": {
    "execution": {
     "iopub.execute_input": "2022-05-11T05:16:35.910284Z",
     "iopub.status.busy": "2022-05-11T05:16:35.909948Z",
     "iopub.status.idle": "2022-05-11T05:16:35.931161Z",
     "shell.execute_reply": "2022-05-11T05:16:35.930108Z"
    },
    "papermill": {
     "duration": 0.043002,
     "end_time": "2022-05-11T05:16:35.933857",
     "exception": false,
     "start_time": "2022-05-11T05:16:35.890855",
     "status": "completed"
    },
    "tags": []
   },
   "outputs": [
    {
     "data": {
      "text/html": [
       "<div>\n",
       "<style scoped>\n",
       "    .dataframe tbody tr th:only-of-type {\n",
       "        vertical-align: middle;\n",
       "    }\n",
       "\n",
       "    .dataframe tbody tr th {\n",
       "        vertical-align: top;\n",
       "    }\n",
       "\n",
       "    .dataframe thead th {\n",
       "        text-align: right;\n",
       "    }\n",
       "</style>\n",
       "<table border=\"1\" class=\"dataframe\">\n",
       "  <thead>\n",
       "    <tr style=\"text-align: right;\">\n",
       "      <th></th>\n",
       "      <th>datetime</th>\n",
       "      <th>close</th>\n",
       "      <th>high</th>\n",
       "      <th>low</th>\n",
       "      <th>open</th>\n",
       "      <th>volume</th>\n",
       "      <th>instrument</th>\n",
       "      <th>Unnamed: 7</th>\n",
       "      <th>Unnamed: 8</th>\n",
       "      <th>Unnamed: 9</th>\n",
       "      <th>Unnamed: 10</th>\n",
       "      <th>Unnamed: 11</th>\n",
       "      <th>Kalman_Filter</th>\n",
       "      <th>Moving Avg</th>\n",
       "    </tr>\n",
       "  </thead>\n",
       "  <tbody>\n",
       "    <tr>\n",
       "      <th>0</th>\n",
       "      <td>2014-01-24 00:00:00</td>\n",
       "      <td>114.00</td>\n",
       "      <td>115.35</td>\n",
       "      <td>113.00</td>\n",
       "      <td>113.15</td>\n",
       "      <td>5737135</td>\n",
       "      <td>HINDALCO</td>\n",
       "      <td>NaN</td>\n",
       "      <td>NaN</td>\n",
       "      <td>NaN</td>\n",
       "      <td>NaN</td>\n",
       "      <td>NaN</td>\n",
       "      <td>57.000000</td>\n",
       "      <td>0.00</td>\n",
       "    </tr>\n",
       "    <tr>\n",
       "      <th>1</th>\n",
       "      <td>2014-01-27 00:00:00</td>\n",
       "      <td>111.10</td>\n",
       "      <td>112.70</td>\n",
       "      <td>109.30</td>\n",
       "      <td>112.00</td>\n",
       "      <td>8724577</td>\n",
       "      <td>HINDALCO</td>\n",
       "      <td>NaN</td>\n",
       "      <td>NaN</td>\n",
       "      <td>NaN</td>\n",
       "      <td>NaN</td>\n",
       "      <td>NaN</td>\n",
       "      <td>75.272185</td>\n",
       "      <td>0.00</td>\n",
       "    </tr>\n",
       "    <tr>\n",
       "      <th>2</th>\n",
       "      <td>2014-01-28 00:00:00</td>\n",
       "      <td>113.80</td>\n",
       "      <td>115.00</td>\n",
       "      <td>109.75</td>\n",
       "      <td>110.00</td>\n",
       "      <td>4513345</td>\n",
       "      <td>HINDALCO</td>\n",
       "      <td>NaN</td>\n",
       "      <td>NaN</td>\n",
       "      <td>NaN</td>\n",
       "      <td>NaN</td>\n",
       "      <td>NaN</td>\n",
       "      <td>85.213198</td>\n",
       "      <td>112.97</td>\n",
       "    </tr>\n",
       "    <tr>\n",
       "      <th>3</th>\n",
       "      <td>2014-01-29 00:00:00</td>\n",
       "      <td>111.75</td>\n",
       "      <td>114.75</td>\n",
       "      <td>111.15</td>\n",
       "      <td>114.50</td>\n",
       "      <td>4713458</td>\n",
       "      <td>HINDALCO</td>\n",
       "      <td>NaN</td>\n",
       "      <td>NaN</td>\n",
       "      <td>NaN</td>\n",
       "      <td>NaN</td>\n",
       "      <td>NaN</td>\n",
       "      <td>90.822281</td>\n",
       "      <td>112.22</td>\n",
       "    </tr>\n",
       "    <tr>\n",
       "      <th>4</th>\n",
       "      <td>2014-01-30 00:00:00</td>\n",
       "      <td>108.10</td>\n",
       "      <td>110.70</td>\n",
       "      <td>107.60</td>\n",
       "      <td>110.20</td>\n",
       "      <td>5077231</td>\n",
       "      <td>HINDALCO</td>\n",
       "      <td>NaN</td>\n",
       "      <td>NaN</td>\n",
       "      <td>NaN</td>\n",
       "      <td>NaN</td>\n",
       "      <td>NaN</td>\n",
       "      <td>93.953821</td>\n",
       "      <td>111.22</td>\n",
       "    </tr>\n",
       "  </tbody>\n",
       "</table>\n",
       "</div>"
      ],
      "text/plain": [
       "              datetime   close    high     low    open   volume instrument  \\\n",
       "0  2014-01-24 00:00:00  114.00  115.35  113.00  113.15  5737135   HINDALCO   \n",
       "1  2014-01-27 00:00:00  111.10  112.70  109.30  112.00  8724577   HINDALCO   \n",
       "2  2014-01-28 00:00:00  113.80  115.00  109.75  110.00  4513345   HINDALCO   \n",
       "3  2014-01-29 00:00:00  111.75  114.75  111.15  114.50  4713458   HINDALCO   \n",
       "4  2014-01-30 00:00:00  108.10  110.70  107.60  110.20  5077231   HINDALCO   \n",
       "\n",
       "   Unnamed: 7  Unnamed: 8  Unnamed: 9  Unnamed: 10  Unnamed: 11  \\\n",
       "0         NaN         NaN         NaN          NaN          NaN   \n",
       "1         NaN         NaN         NaN          NaN          NaN   \n",
       "2         NaN         NaN         NaN          NaN          NaN   \n",
       "3         NaN         NaN         NaN          NaN          NaN   \n",
       "4         NaN         NaN         NaN          NaN          NaN   \n",
       "\n",
       "   Kalman_Filter  Moving Avg  \n",
       "0      57.000000        0.00  \n",
       "1      75.272185        0.00  \n",
       "2      85.213198      112.97  \n",
       "3      90.822281      112.22  \n",
       "4      93.953821      111.22  "
      ]
     },
     "execution_count": 9,
     "metadata": {},
     "output_type": "execute_result"
    }
   ],
   "source": [
    "data['Moving Avg'] = n_moving_averages\n",
    "data.head()"
   ]
  },
  {
   "cell_type": "code",
   "execution_count": 10,
   "id": "739e22df",
   "metadata": {
    "execution": {
     "iopub.execute_input": "2022-05-11T05:16:35.970436Z",
     "iopub.status.busy": "2022-05-11T05:16:35.970157Z",
     "iopub.status.idle": "2022-05-11T05:16:36.511509Z",
     "shell.execute_reply": "2022-05-11T05:16:36.510658Z"
    },
    "papermill": {
     "duration": 0.562907,
     "end_time": "2022-05-11T05:16:36.514384",
     "exception": false,
     "start_time": "2022-05-11T05:16:35.951477",
     "status": "completed"
    },
    "tags": []
   },
   "outputs": [
    {
     "data": {
      "text/plain": [
       "Text(0.5, 1.0, 'Close Price vs Kalman Filter vs Moving Average ')"
      ]
     },
     "execution_count": 10,
     "metadata": {},
     "output_type": "execute_result"
    },
    {
     "data": {
      "image/png": "[encoded data removed]",
      "text/plain": [
       "<Figure size 1080x576 with 1 Axes>"
      ]
     },
     "metadata": {},
     "output_type": "display_data"
    }
   ],
   "source": [
    "sns.set(rc = {'figure.figsize':(15,8)})\n",
    "p = sns.lineplot(data=data[['close','Kalman_Filter','Moving Avg']])\n",
    "p.set_title(\"Close Price vs Kalman Filter vs Moving Average \")"
   ]
  }
 ],
 "metadata": {
  "kernelspec": {
   "display_name": "Python 3",
   "language": "python",
   "name": "python3"
  },
  "language_info": {
   "codemirror_mode": {
    "name": "ipython",
    "version": 3
   },
   "file_extension": ".py",
   "mimetype": "text/x-python",
   "name": "python",
   "nbconvert_exporter": "python",
   "pygments_lexer": "ipython3",
   "version": "3.7.12"
  },
  "papermill": {
   "default_parameters": {},
   "duration": 13.6675,
   "end_time": "2022-05-11T05:16:37.257707",
   "environment_variables": {},
   "exception": null,
   "input_path": "__notebook__.ipynb",
   "output_path": "__notebook__.ipynb",
   "parameters": {},
   "start_time": "2022-05-11T05:16:23.590207",
   "version": "2.3.4"
  }
 },
 "nbformat": 4,
 "nbformat_minor": 5
}
