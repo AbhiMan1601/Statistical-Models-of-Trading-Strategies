{
 "cells": [
  {
   "cell_type": "code",
   "execution_count": 1,
   "id": "567a421b",
   "metadata": {
    "_cell_guid": "b1076dfc-b9ad-4769-8c92-a6c4dae69d19",
    "_uuid": "8f2839f25d086af736a60e9eeb907d3b93b6e0e5",
    "execution": {
     "iopub.execute_input": "2022-05-10T13:30:47.539707Z",
     "iopub.status.busy": "2022-05-10T13:30:47.539222Z",
     "iopub.status.idle": "2022-05-10T13:30:47.552192Z",
     "shell.execute_reply": "2022-05-10T13:30:47.551233Z"
    },
    "papermill": {
     "duration": 0.056716,
     "end_time": "2022-05-10T13:30:47.554657",
     "exception": false,
     "start_time": "2022-05-10T13:30:47.497941",
     "status": "completed"
    },
    "tags": []
   },
   "outputs": [],
   "source": [
    "# This Python 3 environment comes with many helpful analytics libraries installed\n",
    "# It is defined by the kaggle/python Docker image: https://github.com/kaggle/docker-python\n",
    "# For example, here's several helpful packages to load\n",
    "\n",
    "import numpy as np # linear algebra\n",
    "import pandas as pd # data processing, CSV file I/O (e.g. pd.read_csv)\n",
    "\n",
    "# Input data files are available in the read-only \"../input/\" directory\n",
    "# For example, running this (by clicking run or pressing Shift+Enter) will list all files under the input directory\n",
    "\n",
    "import os\n",
    "for dirname, _, filenames in os.walk('/kaggle/input'):\n",
    "    for filename in filenames:\n",
    "        print(os.path.join(dirname, filename))\n",
    "\n",
    "# You can write up to 20GB to the current directory (/kaggle/working/) that gets preserved as output when you create a version using \"Save & Run All\" \n",
    "# You can also write temporary files to /kaggle/temp/, but they won't be saved outside of the current session"
   ]
  },
  {
   "cell_type": "code",
   "execution_count": 2,
   "id": "8c7b5130",
   "metadata": {
    "execution": {
     "iopub.execute_input": "2022-05-10T13:30:47.631022Z",
     "iopub.status.busy": "2022-05-10T13:30:47.630763Z",
     "iopub.status.idle": "2022-05-10T13:30:47.693376Z",
     "shell.execute_reply": "2022-05-10T13:30:47.692390Z"
    },
    "papermill": {
     "duration": 0.104112,
     "end_time": "2022-05-10T13:30:47.696566",
     "exception": false,
     "start_time": "2022-05-10T13:30:47.592454",
     "status": "completed"
    },
    "tags": []
   },
   "outputs": [],
   "source": [
    "import numpy as np\n",
    "import pandas as pd\n",
    "from pandas_datareader import data\n",
    "import matplotlib.pyplot as plt\n",
    "%matplotlib inline"
   ]
  },
  {
   "cell_type": "code",
   "execution_count": 3,
   "id": "b387bc85",
   "metadata": {
    "execution": {
     "iopub.execute_input": "2022-05-10T13:30:47.776210Z",
     "iopub.status.busy": "2022-05-10T13:30:47.775251Z",
     "iopub.status.idle": "2022-05-10T13:30:51.414779Z",
     "shell.execute_reply": "2022-05-10T13:30:51.414062Z"
    },
    "papermill": {
     "duration": 3.681844,
     "end_time": "2022-05-10T13:30:51.417230",
     "exception": false,
     "start_time": "2022-05-10T13:30:47.735386",
     "status": "completed"
    },
    "tags": []
   },
   "outputs": [
    {
     "data": {
      "text/html": [
       "<div>\n",
       "<style scoped>\n",
       "    .dataframe tbody tr th:only-of-type {\n",
       "        vertical-align: middle;\n",
       "    }\n",
       "\n",
       "    .dataframe tbody tr th {\n",
       "        vertical-align: top;\n",
       "    }\n",
       "\n",
       "    .dataframe thead tr th {\n",
       "        text-align: left;\n",
       "    }\n",
       "\n",
       "    .dataframe thead tr:last-of-type th {\n",
       "        text-align: right;\n",
       "    }\n",
       "</style>\n",
       "<table border=\"1\" class=\"dataframe\">\n",
       "  <thead>\n",
       "    <tr>\n",
       "      <th>Attributes</th>\n",
       "      <th colspan=\"5\" halign=\"left\">Adj Close</th>\n",
       "      <th colspan=\"5\" halign=\"left\">Close</th>\n",
       "      <th>...</th>\n",
       "      <th colspan=\"5\" halign=\"left\">Open</th>\n",
       "      <th colspan=\"5\" halign=\"left\">Volume</th>\n",
       "    </tr>\n",
       "    <tr>\n",
       "      <th>Symbols</th>\n",
       "      <th>GOOG</th>\n",
       "      <th>FB</th>\n",
       "      <th>AAPL</th>\n",
       "      <th>AMZN</th>\n",
       "      <th>NFLX</th>\n",
       "      <th>GOOG</th>\n",
       "      <th>FB</th>\n",
       "      <th>AAPL</th>\n",
       "      <th>AMZN</th>\n",
       "      <th>NFLX</th>\n",
       "      <th>...</th>\n",
       "      <th>GOOG</th>\n",
       "      <th>FB</th>\n",
       "      <th>AAPL</th>\n",
       "      <th>AMZN</th>\n",
       "      <th>NFLX</th>\n",
       "      <th>GOOG</th>\n",
       "      <th>FB</th>\n",
       "      <th>AAPL</th>\n",
       "      <th>AMZN</th>\n",
       "      <th>NFLX</th>\n",
       "    </tr>\n",
       "    <tr>\n",
       "      <th>Date</th>\n",
       "      <th></th>\n",
       "      <th></th>\n",
       "      <th></th>\n",
       "      <th></th>\n",
       "      <th></th>\n",
       "      <th></th>\n",
       "      <th></th>\n",
       "      <th></th>\n",
       "      <th></th>\n",
       "      <th></th>\n",
       "      <th></th>\n",
       "      <th></th>\n",
       "      <th></th>\n",
       "      <th></th>\n",
       "      <th></th>\n",
       "      <th></th>\n",
       "      <th></th>\n",
       "      <th></th>\n",
       "      <th></th>\n",
       "      <th></th>\n",
       "      <th></th>\n",
       "    </tr>\n",
       "  </thead>\n",
       "  <tbody>\n",
       "    <tr>\n",
       "      <th>2022-01-03</th>\n",
       "      <td>2901.489990</td>\n",
       "      <td>338.540009</td>\n",
       "      <td>181.511703</td>\n",
       "      <td>3408.090088</td>\n",
       "      <td>597.369995</td>\n",
       "      <td>2901.489990</td>\n",
       "      <td>338.540009</td>\n",
       "      <td>182.009995</td>\n",
       "      <td>3408.090088</td>\n",
       "      <td>597.369995</td>\n",
       "      <td>...</td>\n",
       "      <td>2889.510010</td>\n",
       "      <td>338.299988</td>\n",
       "      <td>177.830002</td>\n",
       "      <td>3351.000000</td>\n",
       "      <td>605.609985</td>\n",
       "      <td>1260700.0</td>\n",
       "      <td>14537900.0</td>\n",
       "      <td>104487900.0</td>\n",
       "      <td>3176000.0</td>\n",
       "      <td>3067500.0</td>\n",
       "    </tr>\n",
       "    <tr>\n",
       "      <th>2022-01-04</th>\n",
       "      <td>2888.330078</td>\n",
       "      <td>336.529999</td>\n",
       "      <td>179.208038</td>\n",
       "      <td>3350.439941</td>\n",
       "      <td>591.150024</td>\n",
       "      <td>2888.330078</td>\n",
       "      <td>336.529999</td>\n",
       "      <td>179.699997</td>\n",
       "      <td>3350.439941</td>\n",
       "      <td>591.150024</td>\n",
       "      <td>...</td>\n",
       "      <td>2911.010010</td>\n",
       "      <td>339.950012</td>\n",
       "      <td>182.630005</td>\n",
       "      <td>3408.760010</td>\n",
       "      <td>599.909973</td>\n",
       "      <td>1146400.0</td>\n",
       "      <td>15998000.0</td>\n",
       "      <td>99310400.0</td>\n",
       "      <td>3536300.0</td>\n",
       "      <td>4393100.0</td>\n",
       "    </tr>\n",
       "    <tr>\n",
       "      <th>2022-01-05</th>\n",
       "      <td>2753.070068</td>\n",
       "      <td>324.170013</td>\n",
       "      <td>174.441132</td>\n",
       "      <td>3287.139893</td>\n",
       "      <td>567.520020</td>\n",
       "      <td>2753.070068</td>\n",
       "      <td>324.170013</td>\n",
       "      <td>174.919998</td>\n",
       "      <td>3287.139893</td>\n",
       "      <td>567.520020</td>\n",
       "      <td>...</td>\n",
       "      <td>2883.620117</td>\n",
       "      <td>333.019989</td>\n",
       "      <td>179.610001</td>\n",
       "      <td>3337.659912</td>\n",
       "      <td>592.000000</td>\n",
       "      <td>2482100.0</td>\n",
       "      <td>20564500.0</td>\n",
       "      <td>94537600.0</td>\n",
       "      <td>3215100.0</td>\n",
       "      <td>4148700.0</td>\n",
       "    </tr>\n",
       "    <tr>\n",
       "      <th>2022-01-06</th>\n",
       "      <td>2751.020020</td>\n",
       "      <td>332.459991</td>\n",
       "      <td>171.529114</td>\n",
       "      <td>3265.080078</td>\n",
       "      <td>553.289978</td>\n",
       "      <td>2751.020020</td>\n",
       "      <td>332.459991</td>\n",
       "      <td>172.000000</td>\n",
       "      <td>3265.080078</td>\n",
       "      <td>553.289978</td>\n",
       "      <td>...</td>\n",
       "      <td>2749.949951</td>\n",
       "      <td>322.820007</td>\n",
       "      <td>172.699997</td>\n",
       "      <td>3269.010010</td>\n",
       "      <td>554.340027</td>\n",
       "      <td>1452500.0</td>\n",
       "      <td>27962800.0</td>\n",
       "      <td>96904000.0</td>\n",
       "      <td>2597900.0</td>\n",
       "      <td>5711800.0</td>\n",
       "    </tr>\n",
       "    <tr>\n",
       "      <th>2022-01-07</th>\n",
       "      <td>2740.090088</td>\n",
       "      <td>331.790009</td>\n",
       "      <td>171.698654</td>\n",
       "      <td>3251.080078</td>\n",
       "      <td>541.059998</td>\n",
       "      <td>2740.090088</td>\n",
       "      <td>331.790009</td>\n",
       "      <td>172.169998</td>\n",
       "      <td>3251.080078</td>\n",
       "      <td>541.059998</td>\n",
       "      <td>...</td>\n",
       "      <td>2758.100098</td>\n",
       "      <td>332.739990</td>\n",
       "      <td>172.889999</td>\n",
       "      <td>3276.780029</td>\n",
       "      <td>549.460022</td>\n",
       "      <td>970400.0</td>\n",
       "      <td>14722000.0</td>\n",
       "      <td>86709100.0</td>\n",
       "      <td>2330300.0</td>\n",
       "      <td>3382900.0</td>\n",
       "    </tr>\n",
       "  </tbody>\n",
       "</table>\n",
       "<p>5 rows × 30 columns</p>\n",
       "</div>"
      ],
      "text/plain": [
       "Attributes    Adj Close                                                   \\\n",
       "Symbols            GOOG          FB        AAPL         AMZN        NFLX   \n",
       "Date                                                                       \n",
       "2022-01-03  2901.489990  338.540009  181.511703  3408.090088  597.369995   \n",
       "2022-01-04  2888.330078  336.529999  179.208038  3350.439941  591.150024   \n",
       "2022-01-05  2753.070068  324.170013  174.441132  3287.139893  567.520020   \n",
       "2022-01-06  2751.020020  332.459991  171.529114  3265.080078  553.289978   \n",
       "2022-01-07  2740.090088  331.790009  171.698654  3251.080078  541.059998   \n",
       "\n",
       "Attributes        Close                                                   ...  \\\n",
       "Symbols            GOOG          FB        AAPL         AMZN        NFLX  ...   \n",
       "Date                                                                      ...   \n",
       "2022-01-03  2901.489990  338.540009  182.009995  3408.090088  597.369995  ...   \n",
       "2022-01-04  2888.330078  336.529999  179.699997  3350.439941  591.150024  ...   \n",
       "2022-01-05  2753.070068  324.170013  174.919998  3287.139893  567.520020  ...   \n",
       "2022-01-06  2751.020020  332.459991  172.000000  3265.080078  553.289978  ...   \n",
       "2022-01-07  2740.090088  331.790009  172.169998  3251.080078  541.059998  ...   \n",
       "\n",
       "Attributes         Open                                                   \\\n",
       "Symbols            GOOG          FB        AAPL         AMZN        NFLX   \n",
       "Date                                                                       \n",
       "2022-01-03  2889.510010  338.299988  177.830002  3351.000000  605.609985   \n",
       "2022-01-04  2911.010010  339.950012  182.630005  3408.760010  599.909973   \n",
       "2022-01-05  2883.620117  333.019989  179.610001  3337.659912  592.000000   \n",
       "2022-01-06  2749.949951  322.820007  172.699997  3269.010010  554.340027   \n",
       "2022-01-07  2758.100098  332.739990  172.889999  3276.780029  549.460022   \n",
       "\n",
       "Attributes     Volume                                                 \n",
       "Symbols          GOOG          FB         AAPL       AMZN       NFLX  \n",
       "Date                                                                  \n",
       "2022-01-03  1260700.0  14537900.0  104487900.0  3176000.0  3067500.0  \n",
       "2022-01-04  1146400.0  15998000.0   99310400.0  3536300.0  4393100.0  \n",
       "2022-01-05  2482100.0  20564500.0   94537600.0  3215100.0  4148700.0  \n",
       "2022-01-06  1452500.0  27962800.0   96904000.0  2597900.0  5711800.0  \n",
       "2022-01-07   970400.0  14722000.0   86709100.0  2330300.0  3382900.0  \n",
       "\n",
       "[5 rows x 30 columns]"
      ]
     },
     "execution_count": 3,
     "metadata": {},
     "output_type": "execute_result"
    }
   ],
   "source": [
    "portfolio = data.DataReader(['GOOG', 'FB','AAPL','AMZN','NFLX'], 'yahoo', start='2022/01/01', end='2022/04/30')\n",
    "portfolio.head()"
   ]
  },
  {
   "cell_type": "code",
   "execution_count": 4,
   "id": "8564923a",
   "metadata": {
    "execution": {
     "iopub.execute_input": "2022-05-10T13:30:51.496528Z",
     "iopub.status.busy": "2022-05-10T13:30:51.496154Z",
     "iopub.status.idle": "2022-05-10T13:30:51.506434Z",
     "shell.execute_reply": "2022-05-10T13:30:51.505737Z"
    },
    "papermill": {
     "duration": 0.052087,
     "end_time": "2022-05-10T13:30:51.508303",
     "exception": false,
     "start_time": "2022-05-10T13:30:51.456216",
     "status": "completed"
    },
    "tags": []
   },
   "outputs": [
    {
     "data": {
      "text/html": [
       "<div>\n",
       "<style scoped>\n",
       "    .dataframe tbody tr th:only-of-type {\n",
       "        vertical-align: middle;\n",
       "    }\n",
       "\n",
       "    .dataframe tbody tr th {\n",
       "        vertical-align: top;\n",
       "    }\n",
       "\n",
       "    .dataframe thead th {\n",
       "        text-align: right;\n",
       "    }\n",
       "</style>\n",
       "<table border=\"1\" class=\"dataframe\">\n",
       "  <thead>\n",
       "    <tr style=\"text-align: right;\">\n",
       "      <th>Symbols</th>\n",
       "      <th>GOOG</th>\n",
       "      <th>FB</th>\n",
       "      <th>AAPL</th>\n",
       "      <th>AMZN</th>\n",
       "      <th>NFLX</th>\n",
       "    </tr>\n",
       "    <tr>\n",
       "      <th>Date</th>\n",
       "      <th></th>\n",
       "      <th></th>\n",
       "      <th></th>\n",
       "      <th></th>\n",
       "      <th></th>\n",
       "    </tr>\n",
       "  </thead>\n",
       "  <tbody>\n",
       "    <tr>\n",
       "      <th>2022-01-03</th>\n",
       "      <td>2901.489990</td>\n",
       "      <td>338.540009</td>\n",
       "      <td>181.511703</td>\n",
       "      <td>3408.090088</td>\n",
       "      <td>597.369995</td>\n",
       "    </tr>\n",
       "    <tr>\n",
       "      <th>2022-01-04</th>\n",
       "      <td>2888.330078</td>\n",
       "      <td>336.529999</td>\n",
       "      <td>179.208038</td>\n",
       "      <td>3350.439941</td>\n",
       "      <td>591.150024</td>\n",
       "    </tr>\n",
       "    <tr>\n",
       "      <th>2022-01-05</th>\n",
       "      <td>2753.070068</td>\n",
       "      <td>324.170013</td>\n",
       "      <td>174.441132</td>\n",
       "      <td>3287.139893</td>\n",
       "      <td>567.520020</td>\n",
       "    </tr>\n",
       "    <tr>\n",
       "      <th>2022-01-06</th>\n",
       "      <td>2751.020020</td>\n",
       "      <td>332.459991</td>\n",
       "      <td>171.529114</td>\n",
       "      <td>3265.080078</td>\n",
       "      <td>553.289978</td>\n",
       "    </tr>\n",
       "    <tr>\n",
       "      <th>2022-01-07</th>\n",
       "      <td>2740.090088</td>\n",
       "      <td>331.790009</td>\n",
       "      <td>171.698654</td>\n",
       "      <td>3251.080078</td>\n",
       "      <td>541.059998</td>\n",
       "    </tr>\n",
       "  </tbody>\n",
       "</table>\n",
       "</div>"
      ],
      "text/plain": [
       "Symbols            GOOG          FB        AAPL         AMZN        NFLX\n",
       "Date                                                                    \n",
       "2022-01-03  2901.489990  338.540009  181.511703  3408.090088  597.369995\n",
       "2022-01-04  2888.330078  336.529999  179.208038  3350.439941  591.150024\n",
       "2022-01-05  2753.070068  324.170013  174.441132  3287.139893  567.520020\n",
       "2022-01-06  2751.020020  332.459991  171.529114  3265.080078  553.289978\n",
       "2022-01-07  2740.090088  331.790009  171.698654  3251.080078  541.059998"
      ]
     },
     "execution_count": 4,
     "metadata": {},
     "output_type": "execute_result"
    }
   ],
   "source": [
    "# Closing price\n",
    "port_close = portfolio['Adj Close']\n",
    "port_close.head()"
   ]
  },
  {
   "cell_type": "code",
   "execution_count": 5,
   "id": "297cb6e2",
   "metadata": {
    "execution": {
     "iopub.execute_input": "2022-05-10T13:30:51.588715Z",
     "iopub.status.busy": "2022-05-10T13:30:51.588481Z",
     "iopub.status.idle": "2022-05-10T13:30:51.597368Z",
     "shell.execute_reply": "2022-05-10T13:30:51.596599Z"
    },
    "papermill": {
     "duration": 0.051383,
     "end_time": "2022-05-10T13:30:51.599063",
     "exception": false,
     "start_time": "2022-05-10T13:30:51.547680",
     "status": "completed"
    },
    "tags": []
   },
   "outputs": [
    {
     "data": {
      "text/plain": [
       "Date\n",
       "2022-01-03         NaN\n",
       "2022-01-04   -0.004546\n",
       "2022-01-05   -0.047962\n",
       "2022-01-06   -0.000745\n",
       "2022-01-07   -0.003981\n",
       "Name: GOOG, dtype: float64"
      ]
     },
     "execution_count": 5,
     "metadata": {},
     "output_type": "execute_result"
    }
   ],
   "source": [
    "# log returns for covariance and correlation calculation\n",
    "google = port_close['GOOG'].pct_change().apply(lambda x: np.log(1+x))\n",
    "google.head()\n"
   ]
  },
  {
   "cell_type": "code",
   "execution_count": 6,
   "id": "0ae6f2e6",
   "metadata": {
    "execution": {
     "iopub.execute_input": "2022-05-10T13:30:51.679442Z",
     "iopub.status.busy": "2022-05-10T13:30:51.679213Z",
     "iopub.status.idle": "2022-05-10T13:30:51.684669Z",
     "shell.execute_reply": "2022-05-10T13:30:51.683714Z"
    },
    "papermill": {
     "duration": 0.048051,
     "end_time": "2022-05-10T13:30:51.686472",
     "exception": false,
     "start_time": "2022-05-10T13:30:51.638421",
     "status": "completed"
    },
    "tags": []
   },
   "outputs": [
    {
     "data": {
      "text/plain": [
       "0.3651138868902799"
      ]
     },
     "execution_count": 6,
     "metadata": {},
     "output_type": "execute_result"
    }
   ],
   "source": [
    "# Volatility\n",
    "var_google = google.var()\n",
    "np.sqrt(var_google * 250)"
   ]
  },
  {
   "cell_type": "code",
   "execution_count": 7,
   "id": "39e4fa48",
   "metadata": {
    "execution": {
     "iopub.execute_input": "2022-05-10T13:30:51.770386Z",
     "iopub.status.busy": "2022-05-10T13:30:51.770157Z",
     "iopub.status.idle": "2022-05-10T13:30:51.777319Z",
     "shell.execute_reply": "2022-05-10T13:30:51.776847Z"
    },
    "papermill": {
     "duration": 0.050093,
     "end_time": "2022-05-10T13:30:51.778933",
     "exception": false,
     "start_time": "2022-05-10T13:30:51.728840",
     "status": "completed"
    },
    "tags": []
   },
   "outputs": [
    {
     "data": {
      "text/plain": [
       "Date\n",
       "2022-01-03         NaN\n",
       "2022-01-04   -0.005955\n",
       "2022-01-05   -0.037419\n",
       "2022-01-06    0.025251\n",
       "2022-01-07   -0.002017\n",
       "Name: FB, dtype: float64"
      ]
     },
     "execution_count": 7,
     "metadata": {},
     "output_type": "execute_result"
    }
   ],
   "source": [
    "FB = port_close['FB'].pct_change().apply(lambda x: np.log(1+x))\n",
    "FB.head()"
   ]
  },
  {
   "cell_type": "code",
   "execution_count": 8,
   "id": "b07cd409",
   "metadata": {
    "execution": {
     "iopub.execute_input": "2022-05-10T13:30:51.861859Z",
     "iopub.status.busy": "2022-05-10T13:30:51.861598Z",
     "iopub.status.idle": "2022-05-10T13:30:51.866255Z",
     "shell.execute_reply": "2022-05-10T13:30:51.865785Z"
    },
    "papermill": {
     "duration": 0.048943,
     "end_time": "2022-05-10T13:30:51.868674",
     "exception": false,
     "start_time": "2022-05-10T13:30:51.819731",
     "status": "completed"
    },
    "tags": []
   },
   "outputs": [
    {
     "data": {
      "text/plain": [
       "0.7529022468622237"
      ]
     },
     "execution_count": 8,
     "metadata": {},
     "output_type": "execute_result"
    }
   ],
   "source": [
    "var_FB = FB.var()\n",
    "np.sqrt(var_FB * 250)"
   ]
  },
  {
   "cell_type": "code",
   "execution_count": 9,
   "id": "50675f2a",
   "metadata": {
    "execution": {
     "iopub.execute_input": "2022-05-10T13:30:51.956472Z",
     "iopub.status.busy": "2022-05-10T13:30:51.955696Z",
     "iopub.status.idle": "2022-05-10T13:30:51.964081Z",
     "shell.execute_reply": "2022-05-10T13:30:51.963355Z"
    },
    "papermill": {
     "duration": 0.054953,
     "end_time": "2022-05-10T13:30:51.966401",
     "exception": false,
     "start_time": "2022-05-10T13:30:51.911448",
     "status": "completed"
    },
    "tags": []
   },
   "outputs": [
    {
     "data": {
      "text/plain": [
       "Date\n",
       "2022-01-03         NaN\n",
       "2022-01-04   -0.012773\n",
       "2022-01-05   -0.026960\n",
       "2022-01-06   -0.016834\n",
       "2022-01-07    0.000988\n",
       "Name: AAPL, dtype: float64"
      ]
     },
     "execution_count": 9,
     "metadata": {},
     "output_type": "execute_result"
    }
   ],
   "source": [
    "apple = port_close['AAPL'].pct_change().apply(lambda x: np.log(1+x))\n",
    "apple.head()"
   ]
  },
  {
   "cell_type": "code",
   "execution_count": 10,
   "id": "0acefce3",
   "metadata": {
    "execution": {
     "iopub.execute_input": "2022-05-10T13:30:52.052104Z",
     "iopub.status.busy": "2022-05-10T13:30:52.051862Z",
     "iopub.status.idle": "2022-05-10T13:30:52.058688Z",
     "shell.execute_reply": "2022-05-10T13:30:52.057519Z"
    },
    "papermill": {
     "duration": 0.053419,
     "end_time": "2022-05-10T13:30:52.061411",
     "exception": false,
     "start_time": "2022-05-10T13:30:52.007992",
     "status": "completed"
    },
    "tags": []
   },
   "outputs": [
    {
     "data": {
      "text/plain": [
       "0.30844172455193863"
      ]
     },
     "execution_count": 10,
     "metadata": {},
     "output_type": "execute_result"
    }
   ],
   "source": [
    "var_apple = apple.var()\n",
    "np.sqrt(var_apple * 250)"
   ]
  },
  {
   "cell_type": "code",
   "execution_count": 11,
   "id": "9d8368f5",
   "metadata": {
    "execution": {
     "iopub.execute_input": "2022-05-10T13:30:52.147880Z",
     "iopub.status.busy": "2022-05-10T13:30:52.147645Z",
     "iopub.status.idle": "2022-05-10T13:30:52.155795Z",
     "shell.execute_reply": "2022-05-10T13:30:52.155208Z"
    },
    "papermill": {
     "duration": 0.05384,
     "end_time": "2022-05-10T13:30:52.157905",
     "exception": false,
     "start_time": "2022-05-10T13:30:52.104065",
     "status": "completed"
    },
    "tags": []
   },
   "outputs": [
    {
     "data": {
      "text/plain": [
       "Date\n",
       "2022-01-03         NaN\n",
       "2022-01-04   -0.017060\n",
       "2022-01-05   -0.019074\n",
       "2022-01-06   -0.006734\n",
       "2022-01-07   -0.004297\n",
       "Name: AMZN, dtype: float64"
      ]
     },
     "execution_count": 11,
     "metadata": {},
     "output_type": "execute_result"
    }
   ],
   "source": [
    "amazon = port_close['AMZN'].pct_change().apply(lambda x: np.log(1+x))\n",
    "amazon.head()"
   ]
  },
  {
   "cell_type": "code",
   "execution_count": 12,
   "id": "05030ad0",
   "metadata": {
    "execution": {
     "iopub.execute_input": "2022-05-10T13:30:52.244336Z",
     "iopub.status.busy": "2022-05-10T13:30:52.243917Z",
     "iopub.status.idle": "2022-05-10T13:30:52.249120Z",
     "shell.execute_reply": "2022-05-10T13:30:52.248673Z"
    },
    "papermill": {
     "duration": 0.050511,
     "end_time": "2022-05-10T13:30:52.250859",
     "exception": false,
     "start_time": "2022-05-10T13:30:52.200348",
     "status": "completed"
    },
    "tags": []
   },
   "outputs": [
    {
     "data": {
      "text/plain": [
       "0.5333709312766071"
      ]
     },
     "execution_count": 12,
     "metadata": {},
     "output_type": "execute_result"
    }
   ],
   "source": [
    "var_amazon = amazon.var()\n",
    "np.sqrt(var_amazon * 250)"
   ]
  },
  {
   "cell_type": "code",
   "execution_count": 13,
   "id": "205182e4",
   "metadata": {
    "execution": {
     "iopub.execute_input": "2022-05-10T13:30:52.341457Z",
     "iopub.status.busy": "2022-05-10T13:30:52.340894Z",
     "iopub.status.idle": "2022-05-10T13:30:52.349136Z",
     "shell.execute_reply": "2022-05-10T13:30:52.348496Z"
    },
    "papermill": {
     "duration": 0.057037,
     "end_time": "2022-05-10T13:30:52.350873",
     "exception": false,
     "start_time": "2022-05-10T13:30:52.293836",
     "status": "completed"
    },
    "tags": []
   },
   "outputs": [
    {
     "data": {
      "text/plain": [
       "Date\n",
       "2022-01-03         NaN\n",
       "2022-01-04   -0.010467\n",
       "2022-01-05   -0.040794\n",
       "2022-01-06   -0.025394\n",
       "2022-01-07   -0.022352\n",
       "Name: NFLX, dtype: float64"
      ]
     },
     "execution_count": 13,
     "metadata": {},
     "output_type": "execute_result"
    }
   ],
   "source": [
    "netflix = port_close['NFLX'].pct_change().apply(lambda x: np.log(1+x))\n",
    "netflix.head()"
   ]
  },
  {
   "cell_type": "code",
   "execution_count": 14,
   "id": "e1a26171",
   "metadata": {
    "execution": {
     "iopub.execute_input": "2022-05-10T13:30:52.415668Z",
     "iopub.status.busy": "2022-05-10T13:30:52.415227Z",
     "iopub.status.idle": "2022-05-10T13:30:52.420604Z",
     "shell.execute_reply": "2022-05-10T13:30:52.419876Z"
    },
    "papermill": {
     "duration": 0.039834,
     "end_time": "2022-05-10T13:30:52.422462",
     "exception": false,
     "start_time": "2022-05-10T13:30:52.382628",
     "status": "completed"
    },
    "tags": []
   },
   "outputs": [
    {
     "data": {
      "text/plain": [
       "0.9975451195240191"
      ]
     },
     "execution_count": 14,
     "metadata": {},
     "output_type": "execute_result"
    }
   ],
   "source": [
    "var_netflix = netflix.var()\n",
    "np.sqrt(var_netflix * 250)"
   ]
  },
  {
   "cell_type": "code",
   "execution_count": 15,
   "id": "165080df",
   "metadata": {
    "execution": {
     "iopub.execute_input": "2022-05-10T13:30:52.484940Z",
     "iopub.status.busy": "2022-05-10T13:30:52.484500Z",
     "iopub.status.idle": "2022-05-10T13:30:52.499157Z",
     "shell.execute_reply": "2022-05-10T13:30:52.498685Z"
    },
    "papermill": {
     "duration": 0.046723,
     "end_time": "2022-05-10T13:30:52.500799",
     "exception": false,
     "start_time": "2022-05-10T13:30:52.454076",
     "status": "completed"
    },
    "tags": []
   },
   "outputs": [
    {
     "data": {
      "text/html": [
       "<div>\n",
       "<style scoped>\n",
       "    .dataframe tbody tr th:only-of-type {\n",
       "        vertical-align: middle;\n",
       "    }\n",
       "\n",
       "    .dataframe tbody tr th {\n",
       "        vertical-align: top;\n",
       "    }\n",
       "\n",
       "    .dataframe thead th {\n",
       "        text-align: right;\n",
       "    }\n",
       "</style>\n",
       "<table border=\"1\" class=\"dataframe\">\n",
       "  <thead>\n",
       "    <tr style=\"text-align: right;\">\n",
       "      <th>Symbols</th>\n",
       "      <th>GOOG</th>\n",
       "      <th>FB</th>\n",
       "      <th>AAPL</th>\n",
       "      <th>AMZN</th>\n",
       "      <th>NFLX</th>\n",
       "    </tr>\n",
       "    <tr>\n",
       "      <th>Date</th>\n",
       "      <th></th>\n",
       "      <th></th>\n",
       "      <th></th>\n",
       "      <th></th>\n",
       "      <th></th>\n",
       "    </tr>\n",
       "  </thead>\n",
       "  <tbody>\n",
       "    <tr>\n",
       "      <th>2022-01-03</th>\n",
       "      <td>NaN</td>\n",
       "      <td>NaN</td>\n",
       "      <td>NaN</td>\n",
       "      <td>NaN</td>\n",
       "      <td>NaN</td>\n",
       "    </tr>\n",
       "    <tr>\n",
       "      <th>2022-01-04</th>\n",
       "      <td>-0.004546</td>\n",
       "      <td>-0.005955</td>\n",
       "      <td>-0.012773</td>\n",
       "      <td>-0.017060</td>\n",
       "      <td>-0.010467</td>\n",
       "    </tr>\n",
       "    <tr>\n",
       "      <th>2022-01-05</th>\n",
       "      <td>-0.047962</td>\n",
       "      <td>-0.037419</td>\n",
       "      <td>-0.026960</td>\n",
       "      <td>-0.019074</td>\n",
       "      <td>-0.040794</td>\n",
       "    </tr>\n",
       "    <tr>\n",
       "      <th>2022-01-06</th>\n",
       "      <td>-0.000745</td>\n",
       "      <td>0.025251</td>\n",
       "      <td>-0.016834</td>\n",
       "      <td>-0.006734</td>\n",
       "      <td>-0.025394</td>\n",
       "    </tr>\n",
       "    <tr>\n",
       "      <th>2022-01-07</th>\n",
       "      <td>-0.003981</td>\n",
       "      <td>-0.002017</td>\n",
       "      <td>0.000988</td>\n",
       "      <td>-0.004297</td>\n",
       "      <td>-0.022352</td>\n",
       "    </tr>\n",
       "  </tbody>\n",
       "</table>\n",
       "</div>"
      ],
      "text/plain": [
       "Symbols         GOOG        FB      AAPL      AMZN      NFLX\n",
       "Date                                                        \n",
       "2022-01-03       NaN       NaN       NaN       NaN       NaN\n",
       "2022-01-04 -0.004546 -0.005955 -0.012773 -0.017060 -0.010467\n",
       "2022-01-05 -0.047962 -0.037419 -0.026960 -0.019074 -0.040794\n",
       "2022-01-06 -0.000745  0.025251 -0.016834 -0.006734 -0.025394\n",
       "2022-01-07 -0.003981 -0.002017  0.000988 -0.004297 -0.022352"
      ]
     },
     "execution_count": 15,
     "metadata": {},
     "output_type": "execute_result"
    }
   ],
   "source": [
    "# Log of Percentage change\n",
    "log_pct = port_close.pct_change().apply(lambda x: np.log(1+x))\n",
    "log_pct.head()"
   ]
  },
  {
   "cell_type": "code",
   "execution_count": 16,
   "id": "a886cb50",
   "metadata": {
    "execution": {
     "iopub.execute_input": "2022-05-10T13:30:52.567473Z",
     "iopub.status.busy": "2022-05-10T13:30:52.566429Z",
     "iopub.status.idle": "2022-05-10T13:30:53.466357Z",
     "shell.execute_reply": "2022-05-10T13:30:53.465671Z"
    },
    "papermill": {
     "duration": 0.933801,
     "end_time": "2022-05-10T13:30:53.467803",
     "exception": false,
     "start_time": "2022-05-10T13:30:52.534002",
     "status": "completed"
    },
    "tags": []
   },
   "outputs": [
    {
     "data": {
      "text/html": [
       "<div>\n",
       "<style scoped>\n",
       "    .dataframe tbody tr th:only-of-type {\n",
       "        vertical-align: middle;\n",
       "    }\n",
       "\n",
       "    .dataframe tbody tr th {\n",
       "        vertical-align: top;\n",
       "    }\n",
       "\n",
       "    .dataframe thead th {\n",
       "        text-align: right;\n",
       "    }\n",
       "</style>\n",
       "<table border=\"1\" class=\"dataframe\">\n",
       "  <thead>\n",
       "    <tr style=\"text-align: right;\">\n",
       "      <th>Symbols</th>\n",
       "      <th>GOOG</th>\n",
       "      <th>FB</th>\n",
       "      <th>AAPL</th>\n",
       "      <th>AMZN</th>\n",
       "      <th>NFLX</th>\n",
       "    </tr>\n",
       "    <tr>\n",
       "      <th>Symbols</th>\n",
       "      <th></th>\n",
       "      <th></th>\n",
       "      <th></th>\n",
       "      <th></th>\n",
       "      <th></th>\n",
       "    </tr>\n",
       "  </thead>\n",
       "  <tbody>\n",
       "    <tr>\n",
       "      <th>GOOG</th>\n",
       "      <td>0.000533</td>\n",
       "      <td>0.000698</td>\n",
       "      <td>0.000349</td>\n",
       "      <td>0.000500</td>\n",
       "      <td>0.000579</td>\n",
       "    </tr>\n",
       "    <tr>\n",
       "      <th>FB</th>\n",
       "      <td>0.000698</td>\n",
       "      <td>0.002267</td>\n",
       "      <td>0.000494</td>\n",
       "      <td>0.000906</td>\n",
       "      <td>0.001397</td>\n",
       "    </tr>\n",
       "    <tr>\n",
       "      <th>AAPL</th>\n",
       "      <td>0.000349</td>\n",
       "      <td>0.000494</td>\n",
       "      <td>0.000381</td>\n",
       "      <td>0.000414</td>\n",
       "      <td>0.000420</td>\n",
       "    </tr>\n",
       "    <tr>\n",
       "      <th>AMZN</th>\n",
       "      <td>0.000500</td>\n",
       "      <td>0.000906</td>\n",
       "      <td>0.000414</td>\n",
       "      <td>0.001138</td>\n",
       "      <td>0.000960</td>\n",
       "    </tr>\n",
       "    <tr>\n",
       "      <th>NFLX</th>\n",
       "      <td>0.000579</td>\n",
       "      <td>0.001397</td>\n",
       "      <td>0.000420</td>\n",
       "      <td>0.000960</td>\n",
       "      <td>0.003980</td>\n",
       "    </tr>\n",
       "  </tbody>\n",
       "</table>\n",
       "</div>"
      ],
      "text/plain": [
       "Symbols      GOOG        FB      AAPL      AMZN      NFLX\n",
       "Symbols                                                  \n",
       "GOOG     0.000533  0.000698  0.000349  0.000500  0.000579\n",
       "FB       0.000698  0.002267  0.000494  0.000906  0.001397\n",
       "AAPL     0.000349  0.000494  0.000381  0.000414  0.000420\n",
       "AMZN     0.000500  0.000906  0.000414  0.001138  0.000960\n",
       "NFLX     0.000579  0.001397  0.000420  0.000960  0.003980"
      ]
     },
     "execution_count": 16,
     "metadata": {},
     "output_type": "execute_result"
    }
   ],
   "source": [
    "import seaborn as sns\n",
    "\n",
    "log_pct1 = log_pct.iloc[1: , :]\n",
    "\n",
    "# small covariance everywhere\n",
    "cov_matrix = log_pct1.cov()\n",
    "cov_matrix\n"
   ]
  },
  {
   "cell_type": "code",
   "execution_count": 17,
   "id": "5e35a8f3",
   "metadata": {
    "execution": {
     "iopub.execute_input": "2022-05-10T13:30:53.529662Z",
     "iopub.status.busy": "2022-05-10T13:30:53.529403Z",
     "iopub.status.idle": "2022-05-10T13:30:53.541777Z",
     "shell.execute_reply": "2022-05-10T13:30:53.540698Z"
    },
    "papermill": {
     "duration": 0.045171,
     "end_time": "2022-05-10T13:30:53.543435",
     "exception": false,
     "start_time": "2022-05-10T13:30:53.498264",
     "status": "completed"
    },
    "tags": []
   },
   "outputs": [
    {
     "data": {
      "text/html": [
       "<div>\n",
       "<style scoped>\n",
       "    .dataframe tbody tr th:only-of-type {\n",
       "        vertical-align: middle;\n",
       "    }\n",
       "\n",
       "    .dataframe tbody tr th {\n",
       "        vertical-align: top;\n",
       "    }\n",
       "\n",
       "    .dataframe thead th {\n",
       "        text-align: right;\n",
       "    }\n",
       "</style>\n",
       "<table border=\"1\" class=\"dataframe\">\n",
       "  <thead>\n",
       "    <tr style=\"text-align: right;\">\n",
       "      <th>Symbols</th>\n",
       "      <th>GOOG</th>\n",
       "      <th>FB</th>\n",
       "      <th>AAPL</th>\n",
       "      <th>AMZN</th>\n",
       "      <th>NFLX</th>\n",
       "    </tr>\n",
       "    <tr>\n",
       "      <th>Symbols</th>\n",
       "      <th></th>\n",
       "      <th></th>\n",
       "      <th></th>\n",
       "      <th></th>\n",
       "      <th></th>\n",
       "    </tr>\n",
       "  </thead>\n",
       "  <tbody>\n",
       "    <tr>\n",
       "      <th>GOOG</th>\n",
       "      <td>1.000000</td>\n",
       "      <td>0.634628</td>\n",
       "      <td>0.775024</td>\n",
       "      <td>0.641676</td>\n",
       "      <td>0.397163</td>\n",
       "    </tr>\n",
       "    <tr>\n",
       "      <th>FB</th>\n",
       "      <td>0.634628</td>\n",
       "      <td>1.000000</td>\n",
       "      <td>0.532107</td>\n",
       "      <td>0.563885</td>\n",
       "      <td>0.465179</td>\n",
       "    </tr>\n",
       "    <tr>\n",
       "      <th>AAPL</th>\n",
       "      <td>0.775024</td>\n",
       "      <td>0.532107</td>\n",
       "      <td>1.000000</td>\n",
       "      <td>0.628483</td>\n",
       "      <td>0.340871</td>\n",
       "    </tr>\n",
       "    <tr>\n",
       "      <th>AMZN</th>\n",
       "      <td>0.641676</td>\n",
       "      <td>0.563885</td>\n",
       "      <td>0.628483</td>\n",
       "      <td>1.000000</td>\n",
       "      <td>0.451103</td>\n",
       "    </tr>\n",
       "    <tr>\n",
       "      <th>NFLX</th>\n",
       "      <td>0.397163</td>\n",
       "      <td>0.465179</td>\n",
       "      <td>0.340871</td>\n",
       "      <td>0.451103</td>\n",
       "      <td>1.000000</td>\n",
       "    </tr>\n",
       "  </tbody>\n",
       "</table>\n",
       "</div>"
      ],
      "text/plain": [
       "Symbols      GOOG        FB      AAPL      AMZN      NFLX\n",
       "Symbols                                                  \n",
       "GOOG     1.000000  0.634628  0.775024  0.641676  0.397163\n",
       "FB       0.634628  1.000000  0.532107  0.563885  0.465179\n",
       "AAPL     0.775024  0.532107  1.000000  0.628483  0.340871\n",
       "AMZN     0.641676  0.563885  0.628483  1.000000  0.451103\n",
       "NFLX     0.397163  0.465179  0.340871  0.451103  1.000000"
      ]
     },
     "execution_count": 17,
     "metadata": {},
     "output_type": "execute_result"
    }
   ],
   "source": [
    "log_pct1.corr()\n",
    "# correlation is positive for all the stocks with positive covariation"
   ]
  },
  {
   "cell_type": "code",
   "execution_count": 18,
   "id": "5ca4c19c",
   "metadata": {
    "execution": {
     "iopub.execute_input": "2022-05-10T13:30:53.605125Z",
     "iopub.status.busy": "2022-05-10T13:30:53.604890Z",
     "iopub.status.idle": "2022-05-10T13:30:53.613997Z",
     "shell.execute_reply": "2022-05-10T13:30:53.612381Z"
    },
    "papermill": {
     "duration": 0.043128,
     "end_time": "2022-05-10T13:30:53.616537",
     "exception": false,
     "start_time": "2022-05-10T13:30:53.573409",
     "status": "completed"
    },
    "tags": []
   },
   "outputs": [
    {
     "data": {
      "text/plain": [
       "-0.0058228168898762835"
      ]
     },
     "execution_count": 18,
     "metadata": {},
     "output_type": "execute_result"
    }
   ],
   "source": [
    "# Define weights for allocation of expected returns\n",
    "w = [0.2, 0.2, 0.2, 0.2, 0.2]\n",
    "expected_return = ((log_pct1.mean())*w).sum()\n",
    "expected_return"
   ]
  },
  {
   "cell_type": "markdown",
   "id": "0da0864f",
   "metadata": {
    "papermill": {
     "duration": 0.046824,
     "end_time": "2022-05-10T13:30:53.710864",
     "exception": false,
     "start_time": "2022-05-10T13:30:53.664040",
     "status": "completed"
    },
    "tags": []
   },
   "source": [
    "# EFFICIENT FRONTIER"
   ]
  },
  {
   "cell_type": "code",
   "execution_count": 19,
   "id": "f93ad5a6",
   "metadata": {
    "execution": {
     "iopub.execute_input": "2022-05-10T13:30:53.805952Z",
     "iopub.status.busy": "2022-05-10T13:30:53.805734Z",
     "iopub.status.idle": "2022-05-10T13:30:53.822920Z",
     "shell.execute_reply": "2022-05-10T13:30:53.822250Z"
    },
    "papermill": {
     "duration": 0.066662,
     "end_time": "2022-05-10T13:30:53.824796",
     "exception": false,
     "start_time": "2022-05-10T13:30:53.758134",
     "status": "completed"
    },
    "tags": []
   },
   "outputs": [
    {
     "data": {
      "text/plain": [
       "Symbols\n",
       "GOOG   -0.049141\n",
       "FB     -0.123699\n",
       "AAPL   -0.031241\n",
       "AMZN   -0.049805\n",
       "NFLX   -0.206234\n",
       "dtype: float64"
      ]
     },
     "execution_count": 19,
     "metadata": {},
     "output_type": "execute_result"
    }
   ],
   "source": [
    "\n",
    "ind_er = port_close.resample('M').last().pct_change().mean()\n",
    "ind_er"
   ]
  },
  {
   "cell_type": "code",
   "execution_count": 20,
   "id": "255fc837",
   "metadata": {
    "execution": {
     "iopub.execute_input": "2022-05-10T13:30:53.920609Z",
     "iopub.status.busy": "2022-05-10T13:30:53.920241Z",
     "iopub.status.idle": "2022-05-10T13:30:53.930721Z",
     "shell.execute_reply": "2022-05-10T13:30:53.929594Z"
    },
    "papermill": {
     "duration": 0.060944,
     "end_time": "2022-05-10T13:30:53.932440",
     "exception": false,
     "start_time": "2022-05-10T13:30:53.871496",
     "status": "completed"
    },
    "tags": []
   },
   "outputs": [
    {
     "data": {
      "text/plain": [
       "Symbols\n",
       "GOOG    0.365114\n",
       "FB      0.752902\n",
       "AAPL    0.308442\n",
       "AMZN    0.533371\n",
       "NFLX    0.997545\n",
       "dtype: float64"
      ]
     },
     "execution_count": 20,
     "metadata": {},
     "output_type": "execute_result"
    }
   ],
   "source": [
    "# Volatility is given by the annual standard deviation. We multiply by 250 because there are 250 trading days/year.\n",
    "ann_sd = port_close.pct_change().apply(lambda x: np.log(1+x)).std().apply(lambda x: x*np.sqrt(250))\n",
    "ann_sd"
   ]
  },
  {
   "cell_type": "code",
   "execution_count": 21,
   "id": "b5c943e7",
   "metadata": {
    "execution": {
     "iopub.execute_input": "2022-05-10T13:30:54.027361Z",
     "iopub.status.busy": "2022-05-10T13:30:54.027099Z",
     "iopub.status.idle": "2022-05-10T13:30:54.038003Z",
     "shell.execute_reply": "2022-05-10T13:30:54.037178Z"
    },
    "papermill": {
     "duration": 0.060868,
     "end_time": "2022-05-10T13:30:54.039884",
     "exception": false,
     "start_time": "2022-05-10T13:30:53.979016",
     "status": "completed"
    },
    "tags": []
   },
   "outputs": [
    {
     "data": {
      "text/html": [
       "<div>\n",
       "<style scoped>\n",
       "    .dataframe tbody tr th:only-of-type {\n",
       "        vertical-align: middle;\n",
       "    }\n",
       "\n",
       "    .dataframe tbody tr th {\n",
       "        vertical-align: top;\n",
       "    }\n",
       "\n",
       "    .dataframe thead th {\n",
       "        text-align: right;\n",
       "    }\n",
       "</style>\n",
       "<table border=\"1\" class=\"dataframe\">\n",
       "  <thead>\n",
       "    <tr style=\"text-align: right;\">\n",
       "      <th></th>\n",
       "      <th>Returns</th>\n",
       "      <th>Volatility</th>\n",
       "    </tr>\n",
       "    <tr>\n",
       "      <th>Symbols</th>\n",
       "      <th></th>\n",
       "      <th></th>\n",
       "    </tr>\n",
       "  </thead>\n",
       "  <tbody>\n",
       "    <tr>\n",
       "      <th>GOOG</th>\n",
       "      <td>-0.049141</td>\n",
       "      <td>0.365114</td>\n",
       "    </tr>\n",
       "    <tr>\n",
       "      <th>FB</th>\n",
       "      <td>-0.123699</td>\n",
       "      <td>0.752902</td>\n",
       "    </tr>\n",
       "    <tr>\n",
       "      <th>AAPL</th>\n",
       "      <td>-0.031241</td>\n",
       "      <td>0.308442</td>\n",
       "    </tr>\n",
       "    <tr>\n",
       "      <th>AMZN</th>\n",
       "      <td>-0.049805</td>\n",
       "      <td>0.533371</td>\n",
       "    </tr>\n",
       "    <tr>\n",
       "      <th>NFLX</th>\n",
       "      <td>-0.206234</td>\n",
       "      <td>0.997545</td>\n",
       "    </tr>\n",
       "  </tbody>\n",
       "</table>\n",
       "</div>"
      ],
      "text/plain": [
       "          Returns  Volatility\n",
       "Symbols                      \n",
       "GOOG    -0.049141    0.365114\n",
       "FB      -0.123699    0.752902\n",
       "AAPL    -0.031241    0.308442\n",
       "AMZN    -0.049805    0.533371\n",
       "NFLX    -0.206234    0.997545"
      ]
     },
     "execution_count": 21,
     "metadata": {},
     "output_type": "execute_result"
    }
   ],
   "source": [
    "assets = pd.concat([ind_er, ann_sd], axis=1) # Creating a table for visualising returns and volatility of assets\n",
    "assets.columns = ['Returns', 'Volatility']\n",
    "assets"
   ]
  },
  {
   "cell_type": "code",
   "execution_count": 22,
   "id": "21612596",
   "metadata": {
    "execution": {
     "iopub.execute_input": "2022-05-10T13:30:54.120564Z",
     "iopub.status.busy": "2022-05-10T13:30:54.120305Z",
     "iopub.status.idle": "2022-05-10T13:30:54.125040Z",
     "shell.execute_reply": "2022-05-10T13:30:54.124164Z"
    },
    "papermill": {
     "duration": 0.040862,
     "end_time": "2022-05-10T13:30:54.127148",
     "exception": false,
     "start_time": "2022-05-10T13:30:54.086286",
     "status": "completed"
    },
    "tags": []
   },
   "outputs": [],
   "source": [
    "p_ret = [] # Define an empty array for portfolio returns\n",
    "p_vol = [] # Define an empty array for portfolio volatility\n",
    "p_weights = [] # Define an empty array for asset weights\n",
    "\n",
    "num_assets = len(port_close.columns)\n",
    "num_portfolios = 10000"
   ]
  },
  {
   "cell_type": "code",
   "execution_count": 23,
   "id": "a88cd628",
   "metadata": {
    "execution": {
     "iopub.execute_input": "2022-05-10T13:30:54.191219Z",
     "iopub.status.busy": "2022-05-10T13:30:54.190960Z",
     "iopub.status.idle": "2022-05-10T13:31:03.339381Z",
     "shell.execute_reply": "2022-05-10T13:31:03.338567Z"
    },
    "papermill": {
     "duration": 9.183043,
     "end_time": "2022-05-10T13:31:03.341491",
     "exception": false,
     "start_time": "2022-05-10T13:30:54.158448",
     "status": "completed"
    },
    "tags": []
   },
   "outputs": [],
   "source": [
    "for portfolio in range(num_portfolios):\n",
    "    weights = np.random.random(num_assets)\n",
    "    weights = weights/np.sum(weights)\n",
    "    p_weights.append(weights)\n",
    "    returns = np.dot(weights, ind_er) # Returns are the product of individual expected returns of asset and its \n",
    "                                      # weights \n",
    "    p_ret.append(returns)\n",
    "    var = cov_matrix.mul(weights, axis=0).mul(weights, axis=1).sum().sum()# Portfolio Variance\n",
    "    sd = np.sqrt(var) # Daily standard deviation\n",
    "    ann_sd = sd*np.sqrt(250) # Annual standard deviation = volatility\n",
    "    p_vol.append(ann_sd)"
   ]
  },
  {
   "cell_type": "code",
   "execution_count": 24,
   "id": "897f8035",
   "metadata": {
    "execution": {
     "iopub.execute_input": "2022-05-10T13:31:03.409837Z",
     "iopub.status.busy": "2022-05-10T13:31:03.409429Z",
     "iopub.status.idle": "2022-05-10T13:31:03.430424Z",
     "shell.execute_reply": "2022-05-10T13:31:03.429982Z"
    },
    "papermill": {
     "duration": 0.058117,
     "end_time": "2022-05-10T13:31:03.432625",
     "exception": false,
     "start_time": "2022-05-10T13:31:03.374508",
     "status": "completed"
    },
    "tags": []
   },
   "outputs": [
    {
     "name": "stdout",
     "output_type": "stream",
     "text": [
      "0 GOOG\n",
      "1 FB\n",
      "2 AAPL\n",
      "3 AMZN\n",
      "4 NFLX\n"
     ]
    }
   ],
   "source": [
    "data = {'Returns':p_ret, 'Volatility':p_vol}\n",
    "\n",
    "for counter, symbol in enumerate(port_close.columns.tolist()):\n",
    "    print(counter, symbol)\n",
    "    data[symbol+' weight'] = [w[counter] for w in p_weights]"
   ]
  },
  {
   "cell_type": "code",
   "execution_count": 25,
   "id": "c0f2d3fa",
   "metadata": {
    "execution": {
     "iopub.execute_input": "2022-05-10T13:31:03.532685Z",
     "iopub.status.busy": "2022-05-10T13:31:03.532411Z",
     "iopub.status.idle": "2022-05-10T13:31:03.558303Z",
     "shell.execute_reply": "2022-05-10T13:31:03.557470Z"
    },
    "papermill": {
     "duration": 0.077358,
     "end_time": "2022-05-10T13:31:03.560118",
     "exception": false,
     "start_time": "2022-05-10T13:31:03.482760",
     "status": "completed"
    },
    "tags": []
   },
   "outputs": [],
   "source": [
    "portfolios  = pd.DataFrame(data)"
   ]
  },
  {
   "cell_type": "code",
   "execution_count": 26,
   "id": "9e27be85",
   "metadata": {
    "execution": {
     "iopub.execute_input": "2022-05-10T13:31:03.626703Z",
     "iopub.status.busy": "2022-05-10T13:31:03.626171Z",
     "iopub.status.idle": "2022-05-10T13:31:03.942672Z",
     "shell.execute_reply": "2022-05-10T13:31:03.942063Z"
    },
    "papermill": {
     "duration": 0.352487,
     "end_time": "2022-05-10T13:31:03.945128",
     "exception": false,
     "start_time": "2022-05-10T13:31:03.592641",
     "status": "completed"
    },
    "tags": []
   },
   "outputs": [
    {
     "data": {
      "text/plain": [
       "<AxesSubplot:xlabel='Volatility', ylabel='Returns'>"
      ]
     },
     "execution_count": 26,
     "metadata": {},
     "output_type": "execute_result"
    },
    {
     "data": {
      "image/png": "[encoded data removed]",
      "text/plain": [
       "<Figure size 720x720 with 1 Axes>"
      ]
     },
     "metadata": {
      "needs_background": "light"
     },
     "output_type": "display_data"
    }
   ],
   "source": [
    "# Plot efficient frontier\n",
    "portfolios.plot.scatter(x='Volatility', y='Returns', marker='o', s=10, alpha=0.3, grid=True, figsize=[10,10])"
   ]
  },
  {
   "cell_type": "code",
   "execution_count": 27,
   "id": "c0dc4866",
   "metadata": {
    "execution": {
     "iopub.execute_input": "2022-05-10T13:31:04.049401Z",
     "iopub.status.busy": "2022-05-10T13:31:04.048957Z",
     "iopub.status.idle": "2022-05-10T13:31:04.057229Z",
     "shell.execute_reply": "2022-05-10T13:31:04.056317Z"
    },
    "papermill": {
     "duration": 0.063041,
     "end_time": "2022-05-10T13:31:04.059148",
     "exception": false,
     "start_time": "2022-05-10T13:31:03.996107",
     "status": "completed"
    },
    "tags": []
   },
   "outputs": [
    {
     "data": {
      "text/plain": [
       "Returns       -0.042333\n",
       "Volatility     0.358921\n",
       "GOOG weight    0.071571\n",
       "FB weight      0.023853\n",
       "AAPL weight    0.535661\n",
       "AMZN weight    0.364076\n",
       "NFLX weight    0.004838\n",
       "Name: 9108, dtype: float64"
      ]
     },
     "execution_count": 27,
     "metadata": {},
     "output_type": "execute_result"
    }
   ],
   "source": [
    "# Finding the optimal portfolio\n",
    "rf = 0.01 # risk factor\n",
    "optimal_risky_port = portfolios.iloc[((portfolios['Returns']-rf)/portfolios['Volatility']).idxmax()]\n",
    "optimal_risky_port"
   ]
  },
  {
   "cell_type": "code",
   "execution_count": 28,
   "id": "254658a1",
   "metadata": {
    "execution": {
     "iopub.execute_input": "2022-05-10T13:31:04.163048Z",
     "iopub.status.busy": "2022-05-10T13:31:04.162584Z",
     "iopub.status.idle": "2022-05-10T13:31:04.169897Z",
     "shell.execute_reply": "2022-05-10T13:31:04.168936Z"
    },
    "papermill": {
     "duration": 0.061307,
     "end_time": "2022-05-10T13:31:04.171607",
     "exception": false,
     "start_time": "2022-05-10T13:31:04.110300",
     "status": "completed"
    },
    "tags": []
   },
   "outputs": [
    {
     "data": {
      "text/plain": [
       "Returns       -0.039582\n",
       "Volatility     0.316776\n",
       "GOOG weight    0.144319\n",
       "FB weight      0.028115\n",
       "AAPL weight    0.743081\n",
       "AMZN weight    0.074319\n",
       "NFLX weight    0.010165\n",
       "Name: 6489, dtype: float64"
      ]
     },
     "execution_count": 28,
     "metadata": {},
     "output_type": "execute_result"
    }
   ],
   "source": [
    "min_vol_port = portfolios.iloc[portfolios['Volatility'].idxmin()]\n",
    "# idxmin() gives us the minimum value in the column specified.                               \n",
    "min_vol_port"
   ]
  },
  {
   "cell_type": "code",
   "execution_count": 29,
   "id": "233f363e",
   "metadata": {
    "execution": {
     "iopub.execute_input": "2022-05-10T13:31:04.276355Z",
     "iopub.status.busy": "2022-05-10T13:31:04.275898Z",
     "iopub.status.idle": "2022-05-10T13:31:04.512466Z",
     "shell.execute_reply": "2022-05-10T13:31:04.511477Z"
    },
    "papermill": {
     "duration": 0.291766,
     "end_time": "2022-05-10T13:31:04.514789",
     "exception": false,
     "start_time": "2022-05-10T13:31:04.223023",
     "status": "completed"
    },
    "tags": []
   },
   "outputs": [
    {
     "data": {
      "text/plain": [
       "<matplotlib.collections.PathCollection at 0x7f722900dfd0>"
      ]
     },
     "execution_count": 29,
     "metadata": {},
     "output_type": "execute_result"
    },
    {
     "data": {
      "image/png": "[encoded data removed]",
      "text/plain": [
       "<Figure size 720x720 with 1 Axes>"
      ]
     },
     "metadata": {
      "needs_background": "light"
     },
     "output_type": "display_data"
    }
   ],
   "source": [
    "# Plotting optimal portfolio\n",
    "plt.subplots(figsize=(10, 10))\n",
    "plt.scatter(portfolios['Volatility'], portfolios['Returns'],marker='o', s=10, alpha=0.3)\n",
    "plt.scatter(min_vol_port[1], min_vol_port[0], color='r', marker='*', s=500)\n",
    "plt.scatter(optimal_risky_port[1], optimal_risky_port[0], color='g', marker='*', s=500)"
   ]
  },
  {
   "cell_type": "markdown",
   "id": "ec1b0437",
   "metadata": {
    "papermill": {
     "duration": 0.055378,
     "end_time": "2022-05-10T13:31:04.625573",
     "exception": false,
     "start_time": "2022-05-10T13:31:04.570195",
     "status": "completed"
    },
    "tags": []
   },
   "source": [
    "An optimal risky portfolio can be considered as one that has highest Sharpe ratio.\n",
    "The green star represents the optimal risky portfolio.\n",
    "We can work similarly for Minimum Volatility portfolio"
   ]
  }
 ],
 "metadata": {
  "kernelspec": {
   "display_name": "Python 3",
   "language": "python",
   "name": "python3"
  },
  "language_info": {
   "codemirror_mode": {
    "name": "ipython",
    "version": 3
   },
   "file_extension": ".py",
   "mimetype": "text/x-python",
   "name": "python",
   "nbconvert_exporter": "python",
   "pygments_lexer": "ipython3",
   "version": "3.7.12"
  },
  "papermill": {
   "default_parameters": {},
   "duration": 26.032716,
   "end_time": "2022-05-10T13:31:05.501511",
   "environment_variables": {},
   "exception": null,
   "input_path": "__notebook__.ipynb",
   "output_path": "__notebook__.ipynb",
   "parameters": {},
   "start_time": "2022-05-10T13:30:39.468795",
   "version": "2.3.4"
  }
 },
 "nbformat": 4,
 "nbformat_minor": 5
}
