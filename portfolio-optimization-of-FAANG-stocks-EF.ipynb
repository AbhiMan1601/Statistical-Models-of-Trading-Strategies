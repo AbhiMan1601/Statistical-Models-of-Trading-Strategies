{
 "cells": [
  {
   "cell_type": "code",
   "execution_count": 1,
   "id": "fdff69b2",
   "metadata": {
    "_cell_guid": "b1076dfc-b9ad-4769-8c92-a6c4dae69d19",
    "_uuid": "8f2839f25d086af736a60e9eeb907d3b93b6e0e5",
    "execution": {
     "iopub.execute_input": "2022-05-10T13:27:45.876952Z",
     "iopub.status.busy": "2022-05-10T13:27:45.876311Z",
     "iopub.status.idle": "2022-05-10T13:27:45.889179Z",
     "shell.execute_reply": "2022-05-10T13:27:45.888535Z"
    },
    "papermill": {
     "duration": 0.059322,
     "end_time": "2022-05-10T13:27:45.891682",
     "exception": false,
     "start_time": "2022-05-10T13:27:45.832360",
     "status": "completed"
    },
    "tags": []
   },
   "outputs": [],
   "source": [
    "# This Python 3 environment comes with many helpful analytics libraries installed\n",
    "# It is defined by the kaggle/python Docker image: https://github.com/kaggle/docker-python\n",
    "# For example, here's several helpful packages to load\n",
    "\n",
    "import numpy as np # linear algebra\n",
    "import pandas as pd # data processing, CSV file I/O (e.g. pd.read_csv)\n",
    "\n",
    "# Input data files are available in the read-only \"../input/\" directory\n",
    "# For example, running this (by clicking run or pressing Shift+Enter) will list all files under the input directory\n",
    "\n",
    "import os\n",
    "for dirname, _, filenames in os.walk('/kaggle/input'):\n",
    "    for filename in filenames:\n",
    "        print(os.path.join(dirname, filename))\n",
    "\n",
    "# You can write up to 20GB to the current directory (/kaggle/working/) that gets preserved as output when you create a version using \"Save & Run All\" \n",
    "# You can also write temporary files to /kaggle/temp/, but they won't be saved outside of the current session"
   ]
  },
  {
   "cell_type": "code",
   "execution_count": 2,
   "id": "d88644ed",
   "metadata": {
    "execution": {
     "iopub.execute_input": "2022-05-10T13:27:45.955769Z",
     "iopub.status.busy": "2022-05-10T13:27:45.955182Z",
     "iopub.status.idle": "2022-05-10T13:27:46.010017Z",
     "shell.execute_reply": "2022-05-10T13:27:46.008746Z"
    },
    "papermill": {
     "duration": 0.089616,
     "end_time": "2022-05-10T13:27:46.012595",
     "exception": false,
     "start_time": "2022-05-10T13:27:45.922979",
     "status": "completed"
    },
    "tags": []
   },
   "outputs": [],
   "source": [
    "import numpy as np\n",
    "import pandas as pd\n",
    "from pandas_datareader import data\n",
    "import matplotlib.pyplot as plt\n",
    "%matplotlib inline"
   ]
  },
  {
   "cell_type": "code",
   "execution_count": 3,
   "id": "8762d23e",
   "metadata": {
    "execution": {
     "iopub.execute_input": "2022-05-10T13:27:46.075240Z",
     "iopub.status.busy": "2022-05-10T13:27:46.074904Z",
     "iopub.status.idle": "2022-05-10T13:27:50.127091Z",
     "shell.execute_reply": "2022-05-10T13:27:50.126204Z"
    },
    "papermill": {
     "duration": 4.086628,
     "end_time": "2022-05-10T13:27:50.129495",
     "exception": false,
     "start_time": "2022-05-10T13:27:46.042867",
     "status": "completed"
    },
    "tags": []
   },
   "outputs": [
    {
     "data": {
      "text/html": [
       "<div>\n",
       "<style scoped>\n",
       "    .dataframe tbody tr th:only-of-type {\n",
       "        vertical-align: middle;\n",
       "    }\n",
       "\n",
       "    .dataframe tbody tr th {\n",
       "        vertical-align: top;\n",
       "    }\n",
       "\n",
       "    .dataframe thead tr th {\n",
       "        text-align: left;\n",
       "    }\n",
       "\n",
       "    .dataframe thead tr:last-of-type th {\n",
       "        text-align: right;\n",
       "    }\n",
       "</style>\n",
       "<table border=\"1\" class=\"dataframe\">\n",
       "  <thead>\n",
       "    <tr>\n",
       "      <th>Attributes</th>\n",
       "      <th colspan=\"5\" halign=\"left\">Adj Close</th>\n",
       "      <th colspan=\"5\" halign=\"left\">Close</th>\n",
       "      <th>...</th>\n",
       "      <th colspan=\"5\" halign=\"left\">Open</th>\n",
       "      <th colspan=\"5\" halign=\"left\">Volume</th>\n",
       "    </tr>\n",
       "    <tr>\n",
       "      <th>Symbols</th>\n",
       "      <th>GOOG</th>\n",
       "      <th>FB</th>\n",
       "      <th>AAPL</th>\n",
       "      <th>AMZN</th>\n",
       "      <th>NFLX</th>\n",
       "      <th>GOOG</th>\n",
       "      <th>FB</th>\n",
       "      <th>AAPL</th>\n",
       "      <th>AMZN</th>\n",
       "      <th>NFLX</th>\n",
       "      <th>...</th>\n",
       "      <th>GOOG</th>\n",
       "      <th>FB</th>\n",
       "      <th>AAPL</th>\n",
       "      <th>AMZN</th>\n",
       "      <th>NFLX</th>\n",
       "      <th>GOOG</th>\n",
       "      <th>FB</th>\n",
       "      <th>AAPL</th>\n",
       "      <th>AMZN</th>\n",
       "      <th>NFLX</th>\n",
       "    </tr>\n",
       "    <tr>\n",
       "      <th>Date</th>\n",
       "      <th></th>\n",
       "      <th></th>\n",
       "      <th></th>\n",
       "      <th></th>\n",
       "      <th></th>\n",
       "      <th></th>\n",
       "      <th></th>\n",
       "      <th></th>\n",
       "      <th></th>\n",
       "      <th></th>\n",
       "      <th></th>\n",
       "      <th></th>\n",
       "      <th></th>\n",
       "      <th></th>\n",
       "      <th></th>\n",
       "      <th></th>\n",
       "      <th></th>\n",
       "      <th></th>\n",
       "      <th></th>\n",
       "      <th></th>\n",
       "      <th></th>\n",
       "    </tr>\n",
       "  </thead>\n",
       "  <tbody>\n",
       "    <tr>\n",
       "      <th>2022-01-03</th>\n",
       "      <td>2901.489990</td>\n",
       "      <td>338.540009</td>\n",
       "      <td>181.511703</td>\n",
       "      <td>3408.090088</td>\n",
       "      <td>597.369995</td>\n",
       "      <td>2901.489990</td>\n",
       "      <td>338.540009</td>\n",
       "      <td>182.009995</td>\n",
       "      <td>3408.090088</td>\n",
       "      <td>597.369995</td>\n",
       "      <td>...</td>\n",
       "      <td>2889.510010</td>\n",
       "      <td>338.299988</td>\n",
       "      <td>177.830002</td>\n",
       "      <td>3351.000000</td>\n",
       "      <td>605.609985</td>\n",
       "      <td>1260700.0</td>\n",
       "      <td>14537900.0</td>\n",
       "      <td>104487900.0</td>\n",
       "      <td>3176000.0</td>\n",
       "      <td>3067500.0</td>\n",
       "    </tr>\n",
       "    <tr>\n",
       "      <th>2022-01-04</th>\n",
       "      <td>2888.330078</td>\n",
       "      <td>336.529999</td>\n",
       "      <td>179.208038</td>\n",
       "      <td>3350.439941</td>\n",
       "      <td>591.150024</td>\n",
       "      <td>2888.330078</td>\n",
       "      <td>336.529999</td>\n",
       "      <td>179.699997</td>\n",
       "      <td>3350.439941</td>\n",
       "      <td>591.150024</td>\n",
       "      <td>...</td>\n",
       "      <td>2911.010010</td>\n",
       "      <td>339.950012</td>\n",
       "      <td>182.630005</td>\n",
       "      <td>3408.760010</td>\n",
       "      <td>599.909973</td>\n",
       "      <td>1146400.0</td>\n",
       "      <td>15998000.0</td>\n",
       "      <td>99310400.0</td>\n",
       "      <td>3536300.0</td>\n",
       "      <td>4393100.0</td>\n",
       "    </tr>\n",
       "    <tr>\n",
       "      <th>2022-01-05</th>\n",
       "      <td>2753.070068</td>\n",
       "      <td>324.170013</td>\n",
       "      <td>174.441132</td>\n",
       "      <td>3287.139893</td>\n",
       "      <td>567.520020</td>\n",
       "      <td>2753.070068</td>\n",
       "      <td>324.170013</td>\n",
       "      <td>174.919998</td>\n",
       "      <td>3287.139893</td>\n",
       "      <td>567.520020</td>\n",
       "      <td>...</td>\n",
       "      <td>2883.620117</td>\n",
       "      <td>333.019989</td>\n",
       "      <td>179.610001</td>\n",
       "      <td>3337.659912</td>\n",
       "      <td>592.000000</td>\n",
       "      <td>2482100.0</td>\n",
       "      <td>20564500.0</td>\n",
       "      <td>94537600.0</td>\n",
       "      <td>3215100.0</td>\n",
       "      <td>4148700.0</td>\n",
       "    </tr>\n",
       "    <tr>\n",
       "      <th>2022-01-06</th>\n",
       "      <td>2751.020020</td>\n",
       "      <td>332.459991</td>\n",
       "      <td>171.529114</td>\n",
       "      <td>3265.080078</td>\n",
       "      <td>553.289978</td>\n",
       "      <td>2751.020020</td>\n",
       "      <td>332.459991</td>\n",
       "      <td>172.000000</td>\n",
       "      <td>3265.080078</td>\n",
       "      <td>553.289978</td>\n",
       "      <td>...</td>\n",
       "      <td>2749.949951</td>\n",
       "      <td>322.820007</td>\n",
       "      <td>172.699997</td>\n",
       "      <td>3269.010010</td>\n",
       "      <td>554.340027</td>\n",
       "      <td>1452500.0</td>\n",
       "      <td>27962800.0</td>\n",
       "      <td>96904000.0</td>\n",
       "      <td>2597900.0</td>\n",
       "      <td>5711800.0</td>\n",
       "    </tr>\n",
       "    <tr>\n",
       "      <th>2022-01-07</th>\n",
       "      <td>2740.090088</td>\n",
       "      <td>331.790009</td>\n",
       "      <td>171.698654</td>\n",
       "      <td>3251.080078</td>\n",
       "      <td>541.059998</td>\n",
       "      <td>2740.090088</td>\n",
       "      <td>331.790009</td>\n",
       "      <td>172.169998</td>\n",
       "      <td>3251.080078</td>\n",
       "      <td>541.059998</td>\n",
       "      <td>...</td>\n",
       "      <td>2758.100098</td>\n",
       "      <td>332.739990</td>\n",
       "      <td>172.889999</td>\n",
       "      <td>3276.780029</td>\n",
       "      <td>549.460022</td>\n",
       "      <td>970400.0</td>\n",
       "      <td>14722000.0</td>\n",
       "      <td>86709100.0</td>\n",
       "      <td>2330300.0</td>\n",
       "      <td>3382900.0</td>\n",
       "    </tr>\n",
       "  </tbody>\n",
       "</table>\n",
       "<p>5 rows × 30 columns</p>\n",
       "</div>"
      ],
      "text/plain": [
       "Attributes    Adj Close                                                   \\\n",
       "Symbols            GOOG          FB        AAPL         AMZN        NFLX   \n",
       "Date                                                                       \n",
       "2022-01-03  2901.489990  338.540009  181.511703  3408.090088  597.369995   \n",
       "2022-01-04  2888.330078  336.529999  179.208038  3350.439941  591.150024   \n",
       "2022-01-05  2753.070068  324.170013  174.441132  3287.139893  567.520020   \n",
       "2022-01-06  2751.020020  332.459991  171.529114  3265.080078  553.289978   \n",
       "2022-01-07  2740.090088  331.790009  171.698654  3251.080078  541.059998   \n",
       "\n",
       "Attributes        Close                                                   ...  \\\n",
       "Symbols            GOOG          FB        AAPL         AMZN        NFLX  ...   \n",
       "Date                                                                      ...   \n",
       "2022-01-03  2901.489990  338.540009  182.009995  3408.090088  597.369995  ...   \n",
       "2022-01-04  2888.330078  336.529999  179.699997  3350.439941  591.150024  ...   \n",
       "2022-01-05  2753.070068  324.170013  174.919998  3287.139893  567.520020  ...   \n",
       "2022-01-06  2751.020020  332.459991  172.000000  3265.080078  553.289978  ...   \n",
       "2022-01-07  2740.090088  331.790009  172.169998  3251.080078  541.059998  ...   \n",
       "\n",
       "Attributes         Open                                                   \\\n",
       "Symbols            GOOG          FB        AAPL         AMZN        NFLX   \n",
       "Date                                                                       \n",
       "2022-01-03  2889.510010  338.299988  177.830002  3351.000000  605.609985   \n",
       "2022-01-04  2911.010010  339.950012  182.630005  3408.760010  599.909973   \n",
       "2022-01-05  2883.620117  333.019989  179.610001  3337.659912  592.000000   \n",
       "2022-01-06  2749.949951  322.820007  172.699997  3269.010010  554.340027   \n",
       "2022-01-07  2758.100098  332.739990  172.889999  3276.780029  549.460022   \n",
       "\n",
       "Attributes     Volume                                                 \n",
       "Symbols          GOOG          FB         AAPL       AMZN       NFLX  \n",
       "Date                                                                  \n",
       "2022-01-03  1260700.0  14537900.0  104487900.0  3176000.0  3067500.0  \n",
       "2022-01-04  1146400.0  15998000.0   99310400.0  3536300.0  4393100.0  \n",
       "2022-01-05  2482100.0  20564500.0   94537600.0  3215100.0  4148700.0  \n",
       "2022-01-06  1452500.0  27962800.0   96904000.0  2597900.0  5711800.0  \n",
       "2022-01-07   970400.0  14722000.0   86709100.0  2330300.0  3382900.0  \n",
       "\n",
       "[5 rows x 30 columns]"
      ]
     },
     "execution_count": 3,
     "metadata": {},
     "output_type": "execute_result"
    }
   ],
   "source": [
    "portfolio = data.DataReader(['GOOG', 'FB','AAPL','AMZN','NFLX'], 'yahoo', start='2022/01/01', end='2022/04/30')\n",
    "portfolio.head()"
   ]
  },
  {
   "cell_type": "code",
   "execution_count": 4,
   "id": "a7219b88",
   "metadata": {
    "execution": {
     "iopub.execute_input": "2022-05-10T13:27:50.193611Z",
     "iopub.status.busy": "2022-05-10T13:27:50.193287Z",
     "iopub.status.idle": "2022-05-10T13:27:50.206059Z",
     "shell.execute_reply": "2022-05-10T13:27:50.205456Z"
    },
    "papermill": {
     "duration": 0.047165,
     "end_time": "2022-05-10T13:27:50.208025",
     "exception": false,
     "start_time": "2022-05-10T13:27:50.160860",
     "status": "completed"
    },
    "tags": []
   },
   "outputs": [
    {
     "data": {
      "text/html": [
       "<div>\n",
       "<style scoped>\n",
       "    .dataframe tbody tr th:only-of-type {\n",
       "        vertical-align: middle;\n",
       "    }\n",
       "\n",
       "    .dataframe tbody tr th {\n",
       "        vertical-align: top;\n",
       "    }\n",
       "\n",
       "    .dataframe thead th {\n",
       "        text-align: right;\n",
       "    }\n",
       "</style>\n",
       "<table border=\"1\" class=\"dataframe\">\n",
       "  <thead>\n",
       "    <tr style=\"text-align: right;\">\n",
       "      <th>Symbols</th>\n",
       "      <th>GOOG</th>\n",
       "      <th>FB</th>\n",
       "      <th>AAPL</th>\n",
       "      <th>AMZN</th>\n",
       "      <th>NFLX</th>\n",
       "    </tr>\n",
       "    <tr>\n",
       "      <th>Date</th>\n",
       "      <th></th>\n",
       "      <th></th>\n",
       "      <th></th>\n",
       "      <th></th>\n",
       "      <th></th>\n",
       "    </tr>\n",
       "  </thead>\n",
       "  <tbody>\n",
       "    <tr>\n",
       "      <th>2022-01-03</th>\n",
       "      <td>2901.489990</td>\n",
       "      <td>338.540009</td>\n",
       "      <td>181.511703</td>\n",
       "      <td>3408.090088</td>\n",
       "      <td>597.369995</td>\n",
       "    </tr>\n",
       "    <tr>\n",
       "      <th>2022-01-04</th>\n",
       "      <td>2888.330078</td>\n",
       "      <td>336.529999</td>\n",
       "      <td>179.208038</td>\n",
       "      <td>3350.439941</td>\n",
       "      <td>591.150024</td>\n",
       "    </tr>\n",
       "    <tr>\n",
       "      <th>2022-01-05</th>\n",
       "      <td>2753.070068</td>\n",
       "      <td>324.170013</td>\n",
       "      <td>174.441132</td>\n",
       "      <td>3287.139893</td>\n",
       "      <td>567.520020</td>\n",
       "    </tr>\n",
       "    <tr>\n",
       "      <th>2022-01-06</th>\n",
       "      <td>2751.020020</td>\n",
       "      <td>332.459991</td>\n",
       "      <td>171.529114</td>\n",
       "      <td>3265.080078</td>\n",
       "      <td>553.289978</td>\n",
       "    </tr>\n",
       "    <tr>\n",
       "      <th>2022-01-07</th>\n",
       "      <td>2740.090088</td>\n",
       "      <td>331.790009</td>\n",
       "      <td>171.698654</td>\n",
       "      <td>3251.080078</td>\n",
       "      <td>541.059998</td>\n",
       "    </tr>\n",
       "  </tbody>\n",
       "</table>\n",
       "</div>"
      ],
      "text/plain": [
       "Symbols            GOOG          FB        AAPL         AMZN        NFLX\n",
       "Date                                                                    \n",
       "2022-01-03  2901.489990  338.540009  181.511703  3408.090088  597.369995\n",
       "2022-01-04  2888.330078  336.529999  179.208038  3350.439941  591.150024\n",
       "2022-01-05  2753.070068  324.170013  174.441132  3287.139893  567.520020\n",
       "2022-01-06  2751.020020  332.459991  171.529114  3265.080078  553.289978\n",
       "2022-01-07  2740.090088  331.790009  171.698654  3251.080078  541.059998"
      ]
     },
     "execution_count": 4,
     "metadata": {},
     "output_type": "execute_result"
    }
   ],
   "source": [
    "# Closing price\n",
    "port_close = portfolio['Adj Close']\n",
    "port_close.head()"
   ]
  },
  {
   "cell_type": "code",
   "execution_count": 5,
   "id": "b41a3638",
   "metadata": {
    "execution": {
     "iopub.execute_input": "2022-05-10T13:27:50.272997Z",
     "iopub.status.busy": "2022-05-10T13:27:50.272533Z",
     "iopub.status.idle": "2022-05-10T13:27:50.282503Z",
     "shell.execute_reply": "2022-05-10T13:27:50.281911Z"
    },
    "papermill": {
     "duration": 0.04473,
     "end_time": "2022-05-10T13:27:50.284357",
     "exception": false,
     "start_time": "2022-05-10T13:27:50.239627",
     "status": "completed"
    },
    "tags": []
   },
   "outputs": [
    {
     "data": {
      "text/plain": [
       "Date\n",
       "2022-01-03         NaN\n",
       "2022-01-04   -0.004546\n",
       "2022-01-05   -0.047962\n",
       "2022-01-06   -0.000745\n",
       "2022-01-07   -0.003981\n",
       "Name: GOOG, dtype: float64"
      ]
     },
     "execution_count": 5,
     "metadata": {},
     "output_type": "execute_result"
    }
   ],
   "source": [
    "# log returns for covariance and correlation calculation\n",
    "google = port_close['GOOG'].pct_change().apply(lambda x: np.log(1+x))\n",
    "google.head()\n"
   ]
  },
  {
   "cell_type": "code",
   "execution_count": 6,
   "id": "8fe4f581",
   "metadata": {
    "execution": {
     "iopub.execute_input": "2022-05-10T13:27:50.349702Z",
     "iopub.status.busy": "2022-05-10T13:27:50.349225Z",
     "iopub.status.idle": "2022-05-10T13:27:50.354958Z",
     "shell.execute_reply": "2022-05-10T13:27:50.354144Z"
    },
    "papermill": {
     "duration": 0.040914,
     "end_time": "2022-05-10T13:27:50.357012",
     "exception": false,
     "start_time": "2022-05-10T13:27:50.316098",
     "status": "completed"
    },
    "tags": []
   },
   "outputs": [
    {
     "data": {
      "text/plain": [
       "0.3651138868902799"
      ]
     },
     "execution_count": 6,
     "metadata": {},
     "output_type": "execute_result"
    }
   ],
   "source": [
    "# Volatility\n",
    "var_google = google.var()\n",
    "np.sqrt(var_google * 250)"
   ]
  },
  {
   "cell_type": "code",
   "execution_count": 7,
   "id": "0a35e157",
   "metadata": {
    "execution": {
     "iopub.execute_input": "2022-05-10T13:27:50.426244Z",
     "iopub.status.busy": "2022-05-10T13:27:50.425953Z",
     "iopub.status.idle": "2022-05-10T13:27:50.435304Z",
     "shell.execute_reply": "2022-05-10T13:27:50.434484Z"
    },
    "papermill": {
     "duration": 0.045121,
     "end_time": "2022-05-10T13:27:50.437621",
     "exception": false,
     "start_time": "2022-05-10T13:27:50.392500",
     "status": "completed"
    },
    "tags": []
   },
   "outputs": [
    {
     "data": {
      "text/plain": [
       "Date\n",
       "2022-01-03         NaN\n",
       "2022-01-04   -0.005955\n",
       "2022-01-05   -0.037419\n",
       "2022-01-06    0.025251\n",
       "2022-01-07   -0.002017\n",
       "Name: FB, dtype: float64"
      ]
     },
     "execution_count": 7,
     "metadata": {},
     "output_type": "execute_result"
    }
   ],
   "source": [
    "FB = port_close['FB'].pct_change().apply(lambda x: np.log(1+x))\n",
    "FB.head()"
   ]
  },
  {
   "cell_type": "code",
   "execution_count": 8,
   "id": "49694f71",
   "metadata": {
    "execution": {
     "iopub.execute_input": "2022-05-10T13:27:50.507212Z",
     "iopub.status.busy": "2022-05-10T13:27:50.506666Z",
     "iopub.status.idle": "2022-05-10T13:27:50.513337Z",
     "shell.execute_reply": "2022-05-10T13:27:50.512666Z"
    },
    "papermill": {
     "duration": 0.043931,
     "end_time": "2022-05-10T13:27:50.515287",
     "exception": false,
     "start_time": "2022-05-10T13:27:50.471356",
     "status": "completed"
    },
    "tags": []
   },
   "outputs": [
    {
     "data": {
      "text/plain": [
       "0.7529022468622237"
      ]
     },
     "execution_count": 8,
     "metadata": {},
     "output_type": "execute_result"
    }
   ],
   "source": [
    "var_FB = FB.var()\n",
    "np.sqrt(var_FB * 250)"
   ]
  },
  {
   "cell_type": "code",
   "execution_count": 9,
   "id": "ed85f01b",
   "metadata": {
    "execution": {
     "iopub.execute_input": "2022-05-10T13:27:50.583891Z",
     "iopub.status.busy": "2022-05-10T13:27:50.583308Z",
     "iopub.status.idle": "2022-05-10T13:27:50.593154Z",
     "shell.execute_reply": "2022-05-10T13:27:50.592276Z"
    },
    "papermill": {
     "duration": 0.046216,
     "end_time": "2022-05-10T13:27:50.595240",
     "exception": false,
     "start_time": "2022-05-10T13:27:50.549024",
     "status": "completed"
    },
    "tags": []
   },
   "outputs": [
    {
     "data": {
      "text/plain": [
       "Date\n",
       "2022-01-03         NaN\n",
       "2022-01-04   -0.012773\n",
       "2022-01-05   -0.026960\n",
       "2022-01-06   -0.016834\n",
       "2022-01-07    0.000988\n",
       "Name: AAPL, dtype: float64"
      ]
     },
     "execution_count": 9,
     "metadata": {},
     "output_type": "execute_result"
    }
   ],
   "source": [
    "apple = port_close['AAPL'].pct_change().apply(lambda x: np.log(1+x))\n",
    "apple.head()"
   ]
  },
  {
   "cell_type": "code",
   "execution_count": 10,
   "id": "ab8ad26b",
   "metadata": {
    "execution": {
     "iopub.execute_input": "2022-05-10T13:27:50.664341Z",
     "iopub.status.busy": "2022-05-10T13:27:50.663801Z",
     "iopub.status.idle": "2022-05-10T13:27:50.670296Z",
     "shell.execute_reply": "2022-05-10T13:27:50.669576Z"
    },
    "papermill": {
     "duration": 0.043593,
     "end_time": "2022-05-10T13:27:50.672256",
     "exception": false,
     "start_time": "2022-05-10T13:27:50.628663",
     "status": "completed"
    },
    "tags": []
   },
   "outputs": [
    {
     "data": {
      "text/plain": [
       "0.30844172455193863"
      ]
     },
     "execution_count": 10,
     "metadata": {},
     "output_type": "execute_result"
    }
   ],
   "source": [
    "var_apple = apple.var()\n",
    "np.sqrt(var_apple * 250)"
   ]
  },
  {
   "cell_type": "code",
   "execution_count": 11,
   "id": "e809f77a",
   "metadata": {
    "execution": {
     "iopub.execute_input": "2022-05-10T13:27:50.742816Z",
     "iopub.status.busy": "2022-05-10T13:27:50.742251Z",
     "iopub.status.idle": "2022-05-10T13:27:50.752245Z",
     "shell.execute_reply": "2022-05-10T13:27:50.751443Z"
    },
    "papermill": {
     "duration": 0.047465,
     "end_time": "2022-05-10T13:27:50.754272",
     "exception": false,
     "start_time": "2022-05-10T13:27:50.706807",
     "status": "completed"
    },
    "tags": []
   },
   "outputs": [
    {
     "data": {
      "text/plain": [
       "Date\n",
       "2022-01-03         NaN\n",
       "2022-01-04   -0.017060\n",
       "2022-01-05   -0.019074\n",
       "2022-01-06   -0.006734\n",
       "2022-01-07   -0.004297\n",
       "Name: AMZN, dtype: float64"
      ]
     },
     "execution_count": 11,
     "metadata": {},
     "output_type": "execute_result"
    }
   ],
   "source": [
    "amazon = port_close['AMZN'].pct_change().apply(lambda x: np.log(1+x))\n",
    "amazon.head()"
   ]
  },
  {
   "cell_type": "code",
   "execution_count": 12,
   "id": "f3e895e6",
   "metadata": {
    "execution": {
     "iopub.execute_input": "2022-05-10T13:27:50.826037Z",
     "iopub.status.busy": "2022-05-10T13:27:50.825475Z",
     "iopub.status.idle": "2022-05-10T13:27:50.832229Z",
     "shell.execute_reply": "2022-05-10T13:27:50.831589Z"
    },
    "papermill": {
     "duration": 0.045236,
     "end_time": "2022-05-10T13:27:50.834126",
     "exception": false,
     "start_time": "2022-05-10T13:27:50.788890",
     "status": "completed"
    },
    "tags": []
   },
   "outputs": [
    {
     "data": {
      "text/plain": [
       "0.5333709312766071"
      ]
     },
     "execution_count": 12,
     "metadata": {},
     "output_type": "execute_result"
    }
   ],
   "source": [
    "var_amazon = amazon.var()\n",
    "np.sqrt(var_amazon * 250)"
   ]
  },
  {
   "cell_type": "code",
   "execution_count": 13,
   "id": "d162c7cf",
   "metadata": {
    "execution": {
     "iopub.execute_input": "2022-05-10T13:27:50.906240Z",
     "iopub.status.busy": "2022-05-10T13:27:50.905939Z",
     "iopub.status.idle": "2022-05-10T13:27:50.915685Z",
     "shell.execute_reply": "2022-05-10T13:27:50.914826Z"
    },
    "papermill": {
     "duration": 0.049254,
     "end_time": "2022-05-10T13:27:50.918044",
     "exception": false,
     "start_time": "2022-05-10T13:27:50.868790",
     "status": "completed"
    },
    "tags": []
   },
   "outputs": [
    {
     "data": {
      "text/plain": [
       "Date\n",
       "2022-01-03         NaN\n",
       "2022-01-04   -0.010467\n",
       "2022-01-05   -0.040794\n",
       "2022-01-06   -0.025394\n",
       "2022-01-07   -0.022352\n",
       "Name: NFLX, dtype: float64"
      ]
     },
     "execution_count": 13,
     "metadata": {},
     "output_type": "execute_result"
    }
   ],
   "source": [
    "netflix = port_close['NFLX'].pct_change().apply(lambda x: np.log(1+x))\n",
    "netflix.head()"
   ]
  },
  {
   "cell_type": "code",
   "execution_count": 14,
   "id": "3957cb6a",
   "metadata": {
    "execution": {
     "iopub.execute_input": "2022-05-10T13:27:50.990302Z",
     "iopub.status.busy": "2022-05-10T13:27:50.989880Z",
     "iopub.status.idle": "2022-05-10T13:27:50.996380Z",
     "shell.execute_reply": "2022-05-10T13:27:50.995465Z"
    },
    "papermill": {
     "duration": 0.044897,
     "end_time": "2022-05-10T13:27:50.998478",
     "exception": false,
     "start_time": "2022-05-10T13:27:50.953581",
     "status": "completed"
    },
    "tags": []
   },
   "outputs": [
    {
     "data": {
      "text/plain": [
       "0.9975451195240191"
      ]
     },
     "execution_count": 14,
     "metadata": {},
     "output_type": "execute_result"
    }
   ],
   "source": [
    "var_netflix = netflix.var()\n",
    "np.sqrt(var_netflix * 250)"
   ]
  },
  {
   "cell_type": "code",
   "execution_count": 15,
   "id": "376b1b46",
   "metadata": {
    "execution": {
     "iopub.execute_input": "2022-05-10T13:27:51.071418Z",
     "iopub.status.busy": "2022-05-10T13:27:51.071061Z",
     "iopub.status.idle": "2022-05-10T13:27:51.086195Z",
     "shell.execute_reply": "2022-05-10T13:27:51.085594Z"
    },
    "papermill": {
     "duration": 0.054006,
     "end_time": "2022-05-10T13:27:51.088350",
     "exception": false,
     "start_time": "2022-05-10T13:27:51.034344",
     "status": "completed"
    },
    "tags": []
   },
   "outputs": [
    {
     "data": {
      "text/html": [
       "<div>\n",
       "<style scoped>\n",
       "    .dataframe tbody tr th:only-of-type {\n",
       "        vertical-align: middle;\n",
       "    }\n",
       "\n",
       "    .dataframe tbody tr th {\n",
       "        vertical-align: top;\n",
       "    }\n",
       "\n",
       "    .dataframe thead th {\n",
       "        text-align: right;\n",
       "    }\n",
       "</style>\n",
       "<table border=\"1\" class=\"dataframe\">\n",
       "  <thead>\n",
       "    <tr style=\"text-align: right;\">\n",
       "      <th>Symbols</th>\n",
       "      <th>GOOG</th>\n",
       "      <th>FB</th>\n",
       "      <th>AAPL</th>\n",
       "      <th>AMZN</th>\n",
       "      <th>NFLX</th>\n",
       "    </tr>\n",
       "    <tr>\n",
       "      <th>Date</th>\n",
       "      <th></th>\n",
       "      <th></th>\n",
       "      <th></th>\n",
       "      <th></th>\n",
       "      <th></th>\n",
       "    </tr>\n",
       "  </thead>\n",
       "  <tbody>\n",
       "    <tr>\n",
       "      <th>2022-01-03</th>\n",
       "      <td>NaN</td>\n",
       "      <td>NaN</td>\n",
       "      <td>NaN</td>\n",
       "      <td>NaN</td>\n",
       "      <td>NaN</td>\n",
       "    </tr>\n",
       "    <tr>\n",
       "      <th>2022-01-04</th>\n",
       "      <td>-0.004546</td>\n",
       "      <td>-0.005955</td>\n",
       "      <td>-0.012773</td>\n",
       "      <td>-0.017060</td>\n",
       "      <td>-0.010467</td>\n",
       "    </tr>\n",
       "    <tr>\n",
       "      <th>2022-01-05</th>\n",
       "      <td>-0.047962</td>\n",
       "      <td>-0.037419</td>\n",
       "      <td>-0.026960</td>\n",
       "      <td>-0.019074</td>\n",
       "      <td>-0.040794</td>\n",
       "    </tr>\n",
       "    <tr>\n",
       "      <th>2022-01-06</th>\n",
       "      <td>-0.000745</td>\n",
       "      <td>0.025251</td>\n",
       "      <td>-0.016834</td>\n",
       "      <td>-0.006734</td>\n",
       "      <td>-0.025394</td>\n",
       "    </tr>\n",
       "    <tr>\n",
       "      <th>2022-01-07</th>\n",
       "      <td>-0.003981</td>\n",
       "      <td>-0.002017</td>\n",
       "      <td>0.000988</td>\n",
       "      <td>-0.004297</td>\n",
       "      <td>-0.022352</td>\n",
       "    </tr>\n",
       "  </tbody>\n",
       "</table>\n",
       "</div>"
      ],
      "text/plain": [
       "Symbols         GOOG        FB      AAPL      AMZN      NFLX\n",
       "Date                                                        \n",
       "2022-01-03       NaN       NaN       NaN       NaN       NaN\n",
       "2022-01-04 -0.004546 -0.005955 -0.012773 -0.017060 -0.010467\n",
       "2022-01-05 -0.047962 -0.037419 -0.026960 -0.019074 -0.040794\n",
       "2022-01-06 -0.000745  0.025251 -0.016834 -0.006734 -0.025394\n",
       "2022-01-07 -0.003981 -0.002017  0.000988 -0.004297 -0.022352"
      ]
     },
     "execution_count": 15,
     "metadata": {},
     "output_type": "execute_result"
    }
   ],
   "source": [
    "# Log of Percentage change\n",
    "log_pct = port_close.pct_change().apply(lambda x: np.log(1+x))\n",
    "log_pct.head()"
   ]
  },
  {
   "cell_type": "code",
   "execution_count": 16,
   "id": "171babb6",
   "metadata": {
    "execution": {
     "iopub.execute_input": "2022-05-10T13:27:51.161725Z",
     "iopub.status.busy": "2022-05-10T13:27:51.160955Z",
     "iopub.status.idle": "2022-05-10T13:27:52.127026Z",
     "shell.execute_reply": "2022-05-10T13:27:52.126319Z"
    },
    "papermill": {
     "duration": 1.004969,
     "end_time": "2022-05-10T13:27:52.129020",
     "exception": false,
     "start_time": "2022-05-10T13:27:51.124051",
     "status": "completed"
    },
    "tags": []
   },
   "outputs": [
    {
     "data": {
      "text/html": [
       "<div>\n",
       "<style scoped>\n",
       "    .dataframe tbody tr th:only-of-type {\n",
       "        vertical-align: middle;\n",
       "    }\n",
       "\n",
       "    .dataframe tbody tr th {\n",
       "        vertical-align: top;\n",
       "    }\n",
       "\n",
       "    .dataframe thead th {\n",
       "        text-align: right;\n",
       "    }\n",
       "</style>\n",
       "<table border=\"1\" class=\"dataframe\">\n",
       "  <thead>\n",
       "    <tr style=\"text-align: right;\">\n",
       "      <th>Symbols</th>\n",
       "      <th>GOOG</th>\n",
       "      <th>FB</th>\n",
       "      <th>AAPL</th>\n",
       "      <th>AMZN</th>\n",
       "      <th>NFLX</th>\n",
       "    </tr>\n",
       "    <tr>\n",
       "      <th>Symbols</th>\n",
       "      <th></th>\n",
       "      <th></th>\n",
       "      <th></th>\n",
       "      <th></th>\n",
       "      <th></th>\n",
       "    </tr>\n",
       "  </thead>\n",
       "  <tbody>\n",
       "    <tr>\n",
       "      <th>GOOG</th>\n",
       "      <td>0.000533</td>\n",
       "      <td>0.000698</td>\n",
       "      <td>0.000349</td>\n",
       "      <td>0.000500</td>\n",
       "      <td>0.000579</td>\n",
       "    </tr>\n",
       "    <tr>\n",
       "      <th>FB</th>\n",
       "      <td>0.000698</td>\n",
       "      <td>0.002267</td>\n",
       "      <td>0.000494</td>\n",
       "      <td>0.000906</td>\n",
       "      <td>0.001397</td>\n",
       "    </tr>\n",
       "    <tr>\n",
       "      <th>AAPL</th>\n",
       "      <td>0.000349</td>\n",
       "      <td>0.000494</td>\n",
       "      <td>0.000381</td>\n",
       "      <td>0.000414</td>\n",
       "      <td>0.000420</td>\n",
       "    </tr>\n",
       "    <tr>\n",
       "      <th>AMZN</th>\n",
       "      <td>0.000500</td>\n",
       "      <td>0.000906</td>\n",
       "      <td>0.000414</td>\n",
       "      <td>0.001138</td>\n",
       "      <td>0.000960</td>\n",
       "    </tr>\n",
       "    <tr>\n",
       "      <th>NFLX</th>\n",
       "      <td>0.000579</td>\n",
       "      <td>0.001397</td>\n",
       "      <td>0.000420</td>\n",
       "      <td>0.000960</td>\n",
       "      <td>0.003980</td>\n",
       "    </tr>\n",
       "  </tbody>\n",
       "</table>\n",
       "</div>"
      ],
      "text/plain": [
       "Symbols      GOOG        FB      AAPL      AMZN      NFLX\n",
       "Symbols                                                  \n",
       "GOOG     0.000533  0.000698  0.000349  0.000500  0.000579\n",
       "FB       0.000698  0.002267  0.000494  0.000906  0.001397\n",
       "AAPL     0.000349  0.000494  0.000381  0.000414  0.000420\n",
       "AMZN     0.000500  0.000906  0.000414  0.001138  0.000960\n",
       "NFLX     0.000579  0.001397  0.000420  0.000960  0.003980"
      ]
     },
     "execution_count": 16,
     "metadata": {},
     "output_type": "execute_result"
    }
   ],
   "source": [
    "import seaborn as sns\n",
    "\n",
    "log_pct1 = log_pct.iloc[1: , :]\n",
    "\n",
    "# small covariance everywhere\n",
    "cov_matrix = log_pct1.cov()\n",
    "cov_matrix\n"
   ]
  },
  {
   "cell_type": "code",
   "execution_count": 17,
   "id": "bf56a9c2",
   "metadata": {
    "execution": {
     "iopub.execute_input": "2022-05-10T13:27:52.203551Z",
     "iopub.status.busy": "2022-05-10T13:27:52.203235Z",
     "iopub.status.idle": "2022-05-10T13:27:52.217016Z",
     "shell.execute_reply": "2022-05-10T13:27:52.216112Z"
    },
    "papermill": {
     "duration": 0.054208,
     "end_time": "2022-05-10T13:27:52.219353",
     "exception": false,
     "start_time": "2022-05-10T13:27:52.165145",
     "status": "completed"
    },
    "tags": []
   },
   "outputs": [
    {
     "data": {
      "text/html": [
       "<div>\n",
       "<style scoped>\n",
       "    .dataframe tbody tr th:only-of-type {\n",
       "        vertical-align: middle;\n",
       "    }\n",
       "\n",
       "    .dataframe tbody tr th {\n",
       "        vertical-align: top;\n",
       "    }\n",
       "\n",
       "    .dataframe thead th {\n",
       "        text-align: right;\n",
       "    }\n",
       "</style>\n",
       "<table border=\"1\" class=\"dataframe\">\n",
       "  <thead>\n",
       "    <tr style=\"text-align: right;\">\n",
       "      <th>Symbols</th>\n",
       "      <th>GOOG</th>\n",
       "      <th>FB</th>\n",
       "      <th>AAPL</th>\n",
       "      <th>AMZN</th>\n",
       "      <th>NFLX</th>\n",
       "    </tr>\n",
       "    <tr>\n",
       "      <th>Symbols</th>\n",
       "      <th></th>\n",
       "      <th></th>\n",
       "      <th></th>\n",
       "      <th></th>\n",
       "      <th></th>\n",
       "    </tr>\n",
       "  </thead>\n",
       "  <tbody>\n",
       "    <tr>\n",
       "      <th>GOOG</th>\n",
       "      <td>1.000000</td>\n",
       "      <td>0.634628</td>\n",
       "      <td>0.775024</td>\n",
       "      <td>0.641676</td>\n",
       "      <td>0.397163</td>\n",
       "    </tr>\n",
       "    <tr>\n",
       "      <th>FB</th>\n",
       "      <td>0.634628</td>\n",
       "      <td>1.000000</td>\n",
       "      <td>0.532107</td>\n",
       "      <td>0.563885</td>\n",
       "      <td>0.465179</td>\n",
       "    </tr>\n",
       "    <tr>\n",
       "      <th>AAPL</th>\n",
       "      <td>0.775024</td>\n",
       "      <td>0.532107</td>\n",
       "      <td>1.000000</td>\n",
       "      <td>0.628483</td>\n",
       "      <td>0.340871</td>\n",
       "    </tr>\n",
       "    <tr>\n",
       "      <th>AMZN</th>\n",
       "      <td>0.641676</td>\n",
       "      <td>0.563885</td>\n",
       "      <td>0.628483</td>\n",
       "      <td>1.000000</td>\n",
       "      <td>0.451103</td>\n",
       "    </tr>\n",
       "    <tr>\n",
       "      <th>NFLX</th>\n",
       "      <td>0.397163</td>\n",
       "      <td>0.465179</td>\n",
       "      <td>0.340871</td>\n",
       "      <td>0.451103</td>\n",
       "      <td>1.000000</td>\n",
       "    </tr>\n",
       "  </tbody>\n",
       "</table>\n",
       "</div>"
      ],
      "text/plain": [
       "Symbols      GOOG        FB      AAPL      AMZN      NFLX\n",
       "Symbols                                                  \n",
       "GOOG     1.000000  0.634628  0.775024  0.641676  0.397163\n",
       "FB       0.634628  1.000000  0.532107  0.563885  0.465179\n",
       "AAPL     0.775024  0.532107  1.000000  0.628483  0.340871\n",
       "AMZN     0.641676  0.563885  0.628483  1.000000  0.451103\n",
       "NFLX     0.397163  0.465179  0.340871  0.451103  1.000000"
      ]
     },
     "execution_count": 17,
     "metadata": {},
     "output_type": "execute_result"
    }
   ],
   "source": [
    "log_pct1.corr()\n",
    "# correlation is positive for all the stocks with positive covariation"
   ]
  },
  {
   "cell_type": "code",
   "execution_count": 18,
   "id": "d91e46ee",
   "metadata": {
    "execution": {
     "iopub.execute_input": "2022-05-10T13:27:52.295545Z",
     "iopub.status.busy": "2022-05-10T13:27:52.295019Z",
     "iopub.status.idle": "2022-05-10T13:27:52.303287Z",
     "shell.execute_reply": "2022-05-10T13:27:52.302480Z"
    },
    "papermill": {
     "duration": 0.049243,
     "end_time": "2022-05-10T13:27:52.305288",
     "exception": false,
     "start_time": "2022-05-10T13:27:52.256045",
     "status": "completed"
    },
    "tags": []
   },
   "outputs": [
    {
     "data": {
      "text/plain": [
       "-0.0058228168898762835"
      ]
     },
     "execution_count": 18,
     "metadata": {},
     "output_type": "execute_result"
    }
   ],
   "source": [
    "# Define weights for allocation of expected returns\n",
    "w = [0.2, 0.2, 0.2, 0.2, 0.2]\n",
    "expected_return = ((log_pct1.mean())*w).sum()\n",
    "expected_return"
   ]
  },
  {
   "cell_type": "markdown",
   "id": "11333b18",
   "metadata": {
    "papermill": {
     "duration": 0.036926,
     "end_time": "2022-05-10T13:27:52.379244",
     "exception": false,
     "start_time": "2022-05-10T13:27:52.342318",
     "status": "completed"
    },
    "tags": []
   },
   "source": [
    "# EFFICIENT FRONTIER"
   ]
  },
  {
   "cell_type": "code",
   "execution_count": 19,
   "id": "4c5e39b9",
   "metadata": {
    "execution": {
     "iopub.execute_input": "2022-05-10T13:27:52.456783Z",
     "iopub.status.busy": "2022-05-10T13:27:52.456199Z",
     "iopub.status.idle": "2022-05-10T13:27:52.475989Z",
     "shell.execute_reply": "2022-05-10T13:27:52.475130Z"
    },
    "papermill": {
     "duration": 0.060979,
     "end_time": "2022-05-10T13:27:52.478093",
     "exception": false,
     "start_time": "2022-05-10T13:27:52.417114",
     "status": "completed"
    },
    "tags": []
   },
   "outputs": [
    {
     "data": {
      "text/plain": [
       "Symbols\n",
       "GOOG   -0.049141\n",
       "FB     -0.123699\n",
       "AAPL   -0.031241\n",
       "AMZN   -0.049805\n",
       "NFLX   -0.206234\n",
       "dtype: float64"
      ]
     },
     "execution_count": 19,
     "metadata": {},
     "output_type": "execute_result"
    }
   ],
   "source": [
    "\n",
    "ind_er = port_close.resample('M').last().pct_change().mean()\n",
    "ind_er"
   ]
  },
  {
   "cell_type": "code",
   "execution_count": 20,
   "id": "bd90bdf6",
   "metadata": {
    "execution": {
     "iopub.execute_input": "2022-05-10T13:27:52.556404Z",
     "iopub.status.busy": "2022-05-10T13:27:52.555837Z",
     "iopub.status.idle": "2022-05-10T13:27:52.568725Z",
     "shell.execute_reply": "2022-05-10T13:27:52.567818Z"
    },
    "papermill": {
     "duration": 0.054136,
     "end_time": "2022-05-10T13:27:52.570793",
     "exception": false,
     "start_time": "2022-05-10T13:27:52.516657",
     "status": "completed"
    },
    "tags": []
   },
   "outputs": [
    {
     "data": {
      "text/plain": [
       "Symbols\n",
       "GOOG    0.365114\n",
       "FB      0.752902\n",
       "AAPL    0.308442\n",
       "AMZN    0.533371\n",
       "NFLX    0.997545\n",
       "dtype: float64"
      ]
     },
     "execution_count": 20,
     "metadata": {},
     "output_type": "execute_result"
    }
   ],
   "source": [
    "# Volatility is given by the annual standard deviation. We multiply by 250 because there are 250 trading days/year.\n",
    "ann_sd = port_close.pct_change().apply(lambda x: np.log(1+x)).std().apply(lambda x: x*np.sqrt(250))\n",
    "ann_sd"
   ]
  },
  {
   "cell_type": "code",
   "execution_count": 21,
   "id": "7455230f",
   "metadata": {
    "execution": {
     "iopub.execute_input": "2022-05-10T13:27:52.649094Z",
     "iopub.status.busy": "2022-05-10T13:27:52.648563Z",
     "iopub.status.idle": "2022-05-10T13:27:52.660278Z",
     "shell.execute_reply": "2022-05-10T13:27:52.659480Z"
    },
    "papermill": {
     "duration": 0.053713,
     "end_time": "2022-05-10T13:27:52.662458",
     "exception": false,
     "start_time": "2022-05-10T13:27:52.608745",
     "status": "completed"
    },
    "tags": []
   },
   "outputs": [
    {
     "data": {
      "text/html": [
       "<div>\n",
       "<style scoped>\n",
       "    .dataframe tbody tr th:only-of-type {\n",
       "        vertical-align: middle;\n",
       "    }\n",
       "\n",
       "    .dataframe tbody tr th {\n",
       "        vertical-align: top;\n",
       "    }\n",
       "\n",
       "    .dataframe thead th {\n",
       "        text-align: right;\n",
       "    }\n",
       "</style>\n",
       "<table border=\"1\" class=\"dataframe\">\n",
       "  <thead>\n",
       "    <tr style=\"text-align: right;\">\n",
       "      <th></th>\n",
       "      <th>Returns</th>\n",
       "      <th>Volatility</th>\n",
       "    </tr>\n",
       "    <tr>\n",
       "      <th>Symbols</th>\n",
       "      <th></th>\n",
       "      <th></th>\n",
       "    </tr>\n",
       "  </thead>\n",
       "  <tbody>\n",
       "    <tr>\n",
       "      <th>GOOG</th>\n",
       "      <td>-0.049141</td>\n",
       "      <td>0.365114</td>\n",
       "    </tr>\n",
       "    <tr>\n",
       "      <th>FB</th>\n",
       "      <td>-0.123699</td>\n",
       "      <td>0.752902</td>\n",
       "    </tr>\n",
       "    <tr>\n",
       "      <th>AAPL</th>\n",
       "      <td>-0.031241</td>\n",
       "      <td>0.308442</td>\n",
       "    </tr>\n",
       "    <tr>\n",
       "      <th>AMZN</th>\n",
       "      <td>-0.049805</td>\n",
       "      <td>0.533371</td>\n",
       "    </tr>\n",
       "    <tr>\n",
       "      <th>NFLX</th>\n",
       "      <td>-0.206234</td>\n",
       "      <td>0.997545</td>\n",
       "    </tr>\n",
       "  </tbody>\n",
       "</table>\n",
       "</div>"
      ],
      "text/plain": [
       "          Returns  Volatility\n",
       "Symbols                      \n",
       "GOOG    -0.049141    0.365114\n",
       "FB      -0.123699    0.752902\n",
       "AAPL    -0.031241    0.308442\n",
       "AMZN    -0.049805    0.533371\n",
       "NFLX    -0.206234    0.997545"
      ]
     },
     "execution_count": 21,
     "metadata": {},
     "output_type": "execute_result"
    }
   ],
   "source": [
    "assets = pd.concat([ind_er, ann_sd], axis=1) # Creating a table for visualising returns and volatility of assets\n",
    "assets.columns = ['Returns', 'Volatility']\n",
    "assets"
   ]
  },
  {
   "cell_type": "code",
   "execution_count": 22,
   "id": "9679c5db",
   "metadata": {
    "execution": {
     "iopub.execute_input": "2022-05-10T13:27:52.741898Z",
     "iopub.status.busy": "2022-05-10T13:27:52.741304Z",
     "iopub.status.idle": "2022-05-10T13:27:52.746209Z",
     "shell.execute_reply": "2022-05-10T13:27:52.745636Z"
    },
    "papermill": {
     "duration": 0.047002,
     "end_time": "2022-05-10T13:27:52.748238",
     "exception": false,
     "start_time": "2022-05-10T13:27:52.701236",
     "status": "completed"
    },
    "tags": []
   },
   "outputs": [],
   "source": [
    "p_ret = [] # Define an empty array for portfolio returns\n",
    "p_vol = [] # Define an empty array for portfolio volatility\n",
    "p_weights = [] # Define an empty array for asset weights\n",
    "\n",
    "num_assets = len(port_close.columns)\n",
    "num_portfolios = 10000"
   ]
  },
  {
   "cell_type": "code",
   "execution_count": 23,
   "id": "c39f66a2",
   "metadata": {
    "execution": {
     "iopub.execute_input": "2022-05-10T13:27:52.828105Z",
     "iopub.status.busy": "2022-05-10T13:27:52.827591Z",
     "iopub.status.idle": "2022-05-10T13:28:04.903201Z",
     "shell.execute_reply": "2022-05-10T13:28:04.902050Z"
    },
    "papermill": {
     "duration": 12.119768,
     "end_time": "2022-05-10T13:28:04.906598",
     "exception": false,
     "start_time": "2022-05-10T13:27:52.786830",
     "status": "completed"
    },
    "tags": []
   },
   "outputs": [],
   "source": [
    "for portfolio in range(num_portfolios):\n",
    "    weights = np.random.random(num_assets)\n",
    "    weights = weights/np.sum(weights)\n",
    "    p_weights.append(weights)\n",
    "    returns = np.dot(weights, ind_er) # Returns are the product of individual expected returns of asset and its \n",
    "                                      # weights \n",
    "    p_ret.append(returns)\n",
    "    var = cov_matrix.mul(weights, axis=0).mul(weights, axis=1).sum().sum()# Portfolio Variance\n",
    "    sd = np.sqrt(var) # Daily standard deviation\n",
    "    ann_sd = sd*np.sqrt(250) # Annual standard deviation = volatility\n",
    "    p_vol.append(ann_sd)"
   ]
  },
  {
   "cell_type": "code",
   "execution_count": 24,
   "id": "65bc5cc8",
   "metadata": {
    "execution": {
     "iopub.execute_input": "2022-05-10T13:28:04.992104Z",
     "iopub.status.busy": "2022-05-10T13:28:04.991552Z",
     "iopub.status.idle": "2022-05-10T13:28:05.011084Z",
     "shell.execute_reply": "2022-05-10T13:28:05.010226Z"
    },
    "papermill": {
     "duration": 0.063639,
     "end_time": "2022-05-10T13:28:05.013672",
     "exception": false,
     "start_time": "2022-05-10T13:28:04.950033",
     "status": "completed"
    },
    "tags": []
   },
   "outputs": [
    {
     "name": "stdout",
     "output_type": "stream",
     "text": [
      "0 GOOG\n",
      "1 FB\n",
      "2 AAPL\n",
      "3 AMZN\n",
      "4 NFLX\n"
     ]
    }
   ],
   "source": [
    "data = {'Returns':p_ret, 'Volatility':p_vol}\n",
    "\n",
    "for counter, symbol in enumerate(port_close.columns.tolist()):\n",
    "    print(counter, symbol)\n",
    "    data[symbol+' weight'] = [w[counter] for w in p_weights]"
   ]
  },
  {
   "cell_type": "code",
   "execution_count": 25,
   "id": "db8ec9b9",
   "metadata": {
    "execution": {
     "iopub.execute_input": "2022-05-10T13:28:05.095132Z",
     "iopub.status.busy": "2022-05-10T13:28:05.094387Z",
     "iopub.status.idle": "2022-05-10T13:28:05.123373Z",
     "shell.execute_reply": "2022-05-10T13:28:05.122744Z"
    },
    "papermill": {
     "duration": 0.072623,
     "end_time": "2022-05-10T13:28:05.125541",
     "exception": false,
     "start_time": "2022-05-10T13:28:05.052918",
     "status": "completed"
    },
    "tags": []
   },
   "outputs": [],
   "source": [
    "portfolios  = pd.DataFrame(data)"
   ]
  },
  {
   "cell_type": "code",
   "execution_count": 26,
   "id": "740fc148",
   "metadata": {
    "execution": {
     "iopub.execute_input": "2022-05-10T13:28:05.205143Z",
     "iopub.status.busy": "2022-05-10T13:28:05.204627Z",
     "iopub.status.idle": "2022-05-10T13:28:05.551747Z",
     "shell.execute_reply": "2022-05-10T13:28:05.550863Z"
    },
    "papermill": {
     "duration": 0.389757,
     "end_time": "2022-05-10T13:28:05.554118",
     "exception": false,
     "start_time": "2022-05-10T13:28:05.164361",
     "status": "completed"
    },
    "tags": []
   },
   "outputs": [
    {
     "data": {
      "text/plain": [
       "<AxesSubplot:xlabel='Volatility', ylabel='Returns'>"
      ]
     },
     "execution_count": 26,
     "metadata": {},
     "output_type": "execute_result"
    },
    {
     "data": {
      "image/png": "[encoded data removed]",
      "text/plain": [
       "<Figure size 720x720 with 1 Axes>"
      ]
     },
     "metadata": {
      "needs_background": "light"
     },
     "output_type": "display_data"
    }
   ],
   "source": [
    "# Plot efficient frontier\n",
    "portfolios.plot.scatter(x='Volatility', y='Returns', marker='o', s=10, alpha=0.3, grid=True, figsize=[10,10])"
   ]
  },
  {
   "cell_type": "code",
   "execution_count": 27,
   "id": "ee88df98",
   "metadata": {
    "execution": {
     "iopub.execute_input": "2022-05-10T13:28:05.641581Z",
     "iopub.status.busy": "2022-05-10T13:28:05.641035Z",
     "iopub.status.idle": "2022-05-10T13:28:05.650165Z",
     "shell.execute_reply": "2022-05-10T13:28:05.649358Z"
    },
    "papermill": {
     "duration": 0.055228,
     "end_time": "2022-05-10T13:28:05.652049",
     "exception": false,
     "start_time": "2022-05-10T13:28:05.596821",
     "status": "completed"
    },
    "tags": []
   },
   "outputs": [
    {
     "data": {
      "text/plain": [
       "Returns       -0.052216\n",
       "Volatility     0.452521\n",
       "GOOG weight    0.264545\n",
       "FB weight      0.036831\n",
       "AAPL weight    0.019334\n",
       "AMZN weight    0.677860\n",
       "NFLX weight    0.001430\n",
       "Name: 2467, dtype: float64"
      ]
     },
     "execution_count": 27,
     "metadata": {},
     "output_type": "execute_result"
    }
   ],
   "source": [
    "# Finding the optimal portfolio\n",
    "rf = 0.01 # risk factor\n",
    "optimal_risky_port = portfolios.iloc[((portfolios['Returns']-rf)/portfolios['Volatility']).idxmax()]\n",
    "optimal_risky_port"
   ]
  },
  {
   "cell_type": "code",
   "execution_count": 28,
   "id": "7ef000cd",
   "metadata": {
    "execution": {
     "iopub.execute_input": "2022-05-10T13:28:05.739574Z",
     "iopub.status.busy": "2022-05-10T13:28:05.739300Z",
     "iopub.status.idle": "2022-05-10T13:28:05.746772Z",
     "shell.execute_reply": "2022-05-10T13:28:05.746167Z"
    },
    "papermill": {
     "duration": 0.05401,
     "end_time": "2022-05-10T13:28:05.748748",
     "exception": false,
     "start_time": "2022-05-10T13:28:05.694738",
     "status": "completed"
    },
    "tags": []
   },
   "outputs": [
    {
     "data": {
      "text/plain": [
       "Returns       -0.038166\n",
       "Volatility     0.312606\n",
       "GOOG weight    0.287797\n",
       "FB weight      0.011362\n",
       "AAPL weight    0.663748\n",
       "AMZN weight    0.036871\n",
       "NFLX weight    0.000222\n",
       "Name: 3679, dtype: float64"
      ]
     },
     "execution_count": 28,
     "metadata": {},
     "output_type": "execute_result"
    }
   ],
   "source": [
    "min_vol_port = portfolios.iloc[portfolios['Volatility'].idxmin()]\n",
    "# idxmin() gives us the minimum value in the column specified.                               \n",
    "min_vol_port"
   ]
  },
  {
   "cell_type": "code",
   "execution_count": 29,
   "id": "dd55019f",
   "metadata": {
    "execution": {
     "iopub.execute_input": "2022-05-10T13:28:05.836583Z",
     "iopub.status.busy": "2022-05-10T13:28:05.836159Z",
     "iopub.status.idle": "2022-05-10T13:28:06.114223Z",
     "shell.execute_reply": "2022-05-10T13:28:06.113163Z"
    },
    "papermill": {
     "duration": 0.325227,
     "end_time": "2022-05-10T13:28:06.117148",
     "exception": false,
     "start_time": "2022-05-10T13:28:05.791921",
     "status": "completed"
    },
    "tags": []
   },
   "outputs": [
    {
     "data": {
      "text/plain": [
       "<matplotlib.collections.PathCollection at 0x7efca8eb7650>"
      ]
     },
     "execution_count": 29,
     "metadata": {},
     "output_type": "execute_result"
    },
    {
     "data": {
      "image/png": "[encoded data removed]",
      "text/plain": [
       "<Figure size 720x720 with 1 Axes>"
      ]
     },
     "metadata": {
      "needs_background": "light"
     },
     "output_type": "display_data"
    }
   ],
   "source": [
    "# Plotting optimal portfolio\n",
    "plt.subplots(figsize=(10, 10))\n",
    "plt.scatter(portfolios['Volatility'], portfolios['Returns'],marker='o', s=10, alpha=0.3)\n",
    "plt.scatter(min_vol_port[1], min_vol_port[0], color='r', marker='*', s=500)\n",
    "plt.scatter(optimal_risky_port[1], optimal_risky_port[0], color='g', marker='*', s=500)"
   ]
  }
 ],
 "metadata": {
  "kernelspec": {
   "display_name": "Python 3",
   "language": "python",
   "name": "python3"
  },
  "language_info": {
   "codemirror_mode": {
    "name": "ipython",
    "version": 3
   },
   "file_extension": ".py",
   "mimetype": "text/x-python",
   "name": "python",
   "nbconvert_exporter": "python",
   "pygments_lexer": "ipython3",
   "version": "3.7.12"
  },
  "papermill": {
   "default_parameters": {},
   "duration": 31.098966,
   "end_time": "2022-05-10T13:28:06.886120",
   "environment_variables": {},
   "exception": null,
   "input_path": "__notebook__.ipynb",
   "output_path": "__notebook__.ipynb",
   "parameters": {},
   "start_time": "2022-05-10T13:27:35.787154",
   "version": "2.3.4"
  }
 },
 "nbformat": 4,
 "nbformat_minor": 5
}
