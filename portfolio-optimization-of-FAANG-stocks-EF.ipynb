{
 "cells": [
  {
   "cell_type": "code",
   "execution_count": 1,
   "id": "70108ebd",
   "metadata": {
    "_cell_guid": "b1076dfc-b9ad-4769-8c92-a6c4dae69d19",
    "_uuid": "8f2839f25d086af736a60e9eeb907d3b93b6e0e5",
    "execution": {
     "iopub.execute_input": "2022-05-10T13:34:47.252749Z",
     "iopub.status.busy": "2022-05-10T13:34:47.252251Z",
     "iopub.status.idle": "2022-05-10T13:34:47.260767Z",
     "shell.execute_reply": "2022-05-10T13:34:47.260243Z"
    },
    "papermill": {
     "duration": 0.035418,
     "end_time": "2022-05-10T13:34:47.262516",
     "exception": false,
     "start_time": "2022-05-10T13:34:47.227098",
     "status": "completed"
    },
    "tags": []
   },
   "outputs": [],
   "source": [
    "# This Python 3 environment comes with many helpful analytics libraries installed\n",
    "# It is defined by the kaggle/python Docker image: https://github.com/kaggle/docker-python\n",
    "# For example, here's several helpful packages to load\n",
    "\n",
    "import numpy as np # linear algebra\n",
    "import pandas as pd # data processing, CSV file I/O (e.g. pd.read_csv)\n",
    "\n",
    "# Input data files are available in the read-only \"../input/\" directory\n",
    "# For example, running this (by clicking run or pressing Shift+Enter) will list all files under the input directory\n",
    "\n",
    "import os\n",
    "for dirname, _, filenames in os.walk('/kaggle/input'):\n",
    "    for filename in filenames:\n",
    "        print(os.path.join(dirname, filename))\n",
    "\n",
    "# You can write up to 20GB to the current directory (/kaggle/working/) that gets preserved as output when you create a version using \"Save & Run All\" \n",
    "# You can also write temporary files to /kaggle/temp/, but they won't be saved outside of the current session"
   ]
  },
  {
   "cell_type": "code",
   "execution_count": 2,
   "id": "65501a06",
   "metadata": {
    "execution": {
     "iopub.execute_input": "2022-05-10T13:34:47.308695Z",
     "iopub.status.busy": "2022-05-10T13:34:47.308267Z",
     "iopub.status.idle": "2022-05-10T13:34:47.356701Z",
     "shell.execute_reply": "2022-05-10T13:34:47.356116Z"
    },
    "papermill": {
     "duration": 0.073806,
     "end_time": "2022-05-10T13:34:47.358707",
     "exception": false,
     "start_time": "2022-05-10T13:34:47.284901",
     "status": "completed"
    },
    "tags": []
   },
   "outputs": [],
   "source": [
    "import numpy as np\n",
    "import pandas as pd\n",
    "from pandas_datareader import data\n",
    "import matplotlib.pyplot as plt\n",
    "%matplotlib inline"
   ]
  },
  {
   "cell_type": "code",
   "execution_count": 3,
   "id": "8dae3cba",
   "metadata": {
    "execution": {
     "iopub.execute_input": "2022-05-10T13:34:47.404757Z",
     "iopub.status.busy": "2022-05-10T13:34:47.404039Z",
     "iopub.status.idle": "2022-05-10T13:34:53.963108Z",
     "shell.execute_reply": "2022-05-10T13:34:53.962220Z"
    },
    "papermill": {
     "duration": 6.584553,
     "end_time": "2022-05-10T13:34:53.965674",
     "exception": false,
     "start_time": "2022-05-10T13:34:47.381121",
     "status": "completed"
    },
    "tags": []
   },
   "outputs": [
    {
     "data": {
      "text/html": [
       "<div>\n",
       "<style scoped>\n",
       "    .dataframe tbody tr th:only-of-type {\n",
       "        vertical-align: middle;\n",
       "    }\n",
       "\n",
       "    .dataframe tbody tr th {\n",
       "        vertical-align: top;\n",
       "    }\n",
       "\n",
       "    .dataframe thead tr th {\n",
       "        text-align: left;\n",
       "    }\n",
       "\n",
       "    .dataframe thead tr:last-of-type th {\n",
       "        text-align: right;\n",
       "    }\n",
       "</style>\n",
       "<table border=\"1\" class=\"dataframe\">\n",
       "  <thead>\n",
       "    <tr>\n",
       "      <th>Attributes</th>\n",
       "      <th colspan=\"5\" halign=\"left\">Adj Close</th>\n",
       "      <th colspan=\"5\" halign=\"left\">Close</th>\n",
       "      <th>...</th>\n",
       "      <th colspan=\"5\" halign=\"left\">Open</th>\n",
       "      <th colspan=\"5\" halign=\"left\">Volume</th>\n",
       "    </tr>\n",
       "    <tr>\n",
       "      <th>Symbols</th>\n",
       "      <th>GOOG</th>\n",
       "      <th>FB</th>\n",
       "      <th>AAPL</th>\n",
       "      <th>AMZN</th>\n",
       "      <th>NFLX</th>\n",
       "      <th>GOOG</th>\n",
       "      <th>FB</th>\n",
       "      <th>AAPL</th>\n",
       "      <th>AMZN</th>\n",
       "      <th>NFLX</th>\n",
       "      <th>...</th>\n",
       "      <th>GOOG</th>\n",
       "      <th>FB</th>\n",
       "      <th>AAPL</th>\n",
       "      <th>AMZN</th>\n",
       "      <th>NFLX</th>\n",
       "      <th>GOOG</th>\n",
       "      <th>FB</th>\n",
       "      <th>AAPL</th>\n",
       "      <th>AMZN</th>\n",
       "      <th>NFLX</th>\n",
       "    </tr>\n",
       "    <tr>\n",
       "      <th>Date</th>\n",
       "      <th></th>\n",
       "      <th></th>\n",
       "      <th></th>\n",
       "      <th></th>\n",
       "      <th></th>\n",
       "      <th></th>\n",
       "      <th></th>\n",
       "      <th></th>\n",
       "      <th></th>\n",
       "      <th></th>\n",
       "      <th></th>\n",
       "      <th></th>\n",
       "      <th></th>\n",
       "      <th></th>\n",
       "      <th></th>\n",
       "      <th></th>\n",
       "      <th></th>\n",
       "      <th></th>\n",
       "      <th></th>\n",
       "      <th></th>\n",
       "      <th></th>\n",
       "    </tr>\n",
       "  </thead>\n",
       "  <tbody>\n",
       "    <tr>\n",
       "      <th>2022-01-03</th>\n",
       "      <td>2901.489990</td>\n",
       "      <td>338.540009</td>\n",
       "      <td>181.511703</td>\n",
       "      <td>3408.090088</td>\n",
       "      <td>597.369995</td>\n",
       "      <td>2901.489990</td>\n",
       "      <td>338.540009</td>\n",
       "      <td>182.009995</td>\n",
       "      <td>3408.090088</td>\n",
       "      <td>597.369995</td>\n",
       "      <td>...</td>\n",
       "      <td>2889.510010</td>\n",
       "      <td>338.299988</td>\n",
       "      <td>177.830002</td>\n",
       "      <td>3351.000000</td>\n",
       "      <td>605.609985</td>\n",
       "      <td>1260700.0</td>\n",
       "      <td>14537900.0</td>\n",
       "      <td>104487900.0</td>\n",
       "      <td>3176000.0</td>\n",
       "      <td>3067500.0</td>\n",
       "    </tr>\n",
       "    <tr>\n",
       "      <th>2022-01-04</th>\n",
       "      <td>2888.330078</td>\n",
       "      <td>336.529999</td>\n",
       "      <td>179.208038</td>\n",
       "      <td>3350.439941</td>\n",
       "      <td>591.150024</td>\n",
       "      <td>2888.330078</td>\n",
       "      <td>336.529999</td>\n",
       "      <td>179.699997</td>\n",
       "      <td>3350.439941</td>\n",
       "      <td>591.150024</td>\n",
       "      <td>...</td>\n",
       "      <td>2911.010010</td>\n",
       "      <td>339.950012</td>\n",
       "      <td>182.630005</td>\n",
       "      <td>3408.760010</td>\n",
       "      <td>599.909973</td>\n",
       "      <td>1146400.0</td>\n",
       "      <td>15998000.0</td>\n",
       "      <td>99310400.0</td>\n",
       "      <td>3536300.0</td>\n",
       "      <td>4393100.0</td>\n",
       "    </tr>\n",
       "    <tr>\n",
       "      <th>2022-01-05</th>\n",
       "      <td>2753.070068</td>\n",
       "      <td>324.170013</td>\n",
       "      <td>174.441116</td>\n",
       "      <td>3287.139893</td>\n",
       "      <td>567.520020</td>\n",
       "      <td>2753.070068</td>\n",
       "      <td>324.170013</td>\n",
       "      <td>174.919998</td>\n",
       "      <td>3287.139893</td>\n",
       "      <td>567.520020</td>\n",
       "      <td>...</td>\n",
       "      <td>2883.620117</td>\n",
       "      <td>333.019989</td>\n",
       "      <td>179.610001</td>\n",
       "      <td>3337.659912</td>\n",
       "      <td>592.000000</td>\n",
       "      <td>2482100.0</td>\n",
       "      <td>20564500.0</td>\n",
       "      <td>94537600.0</td>\n",
       "      <td>3215100.0</td>\n",
       "      <td>4148700.0</td>\n",
       "    </tr>\n",
       "    <tr>\n",
       "      <th>2022-01-06</th>\n",
       "      <td>2751.020020</td>\n",
       "      <td>332.459991</td>\n",
       "      <td>171.529129</td>\n",
       "      <td>3265.080078</td>\n",
       "      <td>553.289978</td>\n",
       "      <td>2751.020020</td>\n",
       "      <td>332.459991</td>\n",
       "      <td>172.000000</td>\n",
       "      <td>3265.080078</td>\n",
       "      <td>553.289978</td>\n",
       "      <td>...</td>\n",
       "      <td>2749.949951</td>\n",
       "      <td>322.820007</td>\n",
       "      <td>172.699997</td>\n",
       "      <td>3269.010010</td>\n",
       "      <td>554.340027</td>\n",
       "      <td>1452500.0</td>\n",
       "      <td>27962800.0</td>\n",
       "      <td>96904000.0</td>\n",
       "      <td>2597900.0</td>\n",
       "      <td>5711800.0</td>\n",
       "    </tr>\n",
       "    <tr>\n",
       "      <th>2022-01-07</th>\n",
       "      <td>2740.090088</td>\n",
       "      <td>331.790009</td>\n",
       "      <td>171.698654</td>\n",
       "      <td>3251.080078</td>\n",
       "      <td>541.059998</td>\n",
       "      <td>2740.090088</td>\n",
       "      <td>331.790009</td>\n",
       "      <td>172.169998</td>\n",
       "      <td>3251.080078</td>\n",
       "      <td>541.059998</td>\n",
       "      <td>...</td>\n",
       "      <td>2758.100098</td>\n",
       "      <td>332.739990</td>\n",
       "      <td>172.889999</td>\n",
       "      <td>3276.780029</td>\n",
       "      <td>549.460022</td>\n",
       "      <td>970400.0</td>\n",
       "      <td>14722000.0</td>\n",
       "      <td>86709100.0</td>\n",
       "      <td>2330300.0</td>\n",
       "      <td>3382900.0</td>\n",
       "    </tr>\n",
       "  </tbody>\n",
       "</table>\n",
       "<p>5 rows × 30 columns</p>\n",
       "</div>"
      ],
      "text/plain": [
       "Attributes    Adj Close                                                   \\\n",
       "Symbols            GOOG          FB        AAPL         AMZN        NFLX   \n",
       "Date                                                                       \n",
       "2022-01-03  2901.489990  338.540009  181.511703  3408.090088  597.369995   \n",
       "2022-01-04  2888.330078  336.529999  179.208038  3350.439941  591.150024   \n",
       "2022-01-05  2753.070068  324.170013  174.441116  3287.139893  567.520020   \n",
       "2022-01-06  2751.020020  332.459991  171.529129  3265.080078  553.289978   \n",
       "2022-01-07  2740.090088  331.790009  171.698654  3251.080078  541.059998   \n",
       "\n",
       "Attributes        Close                                                   ...  \\\n",
       "Symbols            GOOG          FB        AAPL         AMZN        NFLX  ...   \n",
       "Date                                                                      ...   \n",
       "2022-01-03  2901.489990  338.540009  182.009995  3408.090088  597.369995  ...   \n",
       "2022-01-04  2888.330078  336.529999  179.699997  3350.439941  591.150024  ...   \n",
       "2022-01-05  2753.070068  324.170013  174.919998  3287.139893  567.520020  ...   \n",
       "2022-01-06  2751.020020  332.459991  172.000000  3265.080078  553.289978  ...   \n",
       "2022-01-07  2740.090088  331.790009  172.169998  3251.080078  541.059998  ...   \n",
       "\n",
       "Attributes         Open                                                   \\\n",
       "Symbols            GOOG          FB        AAPL         AMZN        NFLX   \n",
       "Date                                                                       \n",
       "2022-01-03  2889.510010  338.299988  177.830002  3351.000000  605.609985   \n",
       "2022-01-04  2911.010010  339.950012  182.630005  3408.760010  599.909973   \n",
       "2022-01-05  2883.620117  333.019989  179.610001  3337.659912  592.000000   \n",
       "2022-01-06  2749.949951  322.820007  172.699997  3269.010010  554.340027   \n",
       "2022-01-07  2758.100098  332.739990  172.889999  3276.780029  549.460022   \n",
       "\n",
       "Attributes     Volume                                                 \n",
       "Symbols          GOOG          FB         AAPL       AMZN       NFLX  \n",
       "Date                                                                  \n",
       "2022-01-03  1260700.0  14537900.0  104487900.0  3176000.0  3067500.0  \n",
       "2022-01-04  1146400.0  15998000.0   99310400.0  3536300.0  4393100.0  \n",
       "2022-01-05  2482100.0  20564500.0   94537600.0  3215100.0  4148700.0  \n",
       "2022-01-06  1452500.0  27962800.0   96904000.0  2597900.0  5711800.0  \n",
       "2022-01-07   970400.0  14722000.0   86709100.0  2330300.0  3382900.0  \n",
       "\n",
       "[5 rows x 30 columns]"
      ]
     },
     "execution_count": 3,
     "metadata": {},
     "output_type": "execute_result"
    }
   ],
   "source": [
    "portfolio = data.DataReader(['GOOG', 'FB','AAPL','AMZN','NFLX'], 'yahoo', start='2022/01/01', end='2022/04/30')\n",
    "portfolio.head()"
   ]
  },
  {
   "cell_type": "code",
   "execution_count": 4,
   "id": "e7a101bf",
   "metadata": {
    "execution": {
     "iopub.execute_input": "2022-05-10T13:34:54.013941Z",
     "iopub.status.busy": "2022-05-10T13:34:54.013285Z",
     "iopub.status.idle": "2022-05-10T13:34:54.027063Z",
     "shell.execute_reply": "2022-05-10T13:34:54.026439Z"
    },
    "papermill": {
     "duration": 0.04009,
     "end_time": "2022-05-10T13:34:54.028850",
     "exception": false,
     "start_time": "2022-05-10T13:34:53.988760",
     "status": "completed"
    },
    "tags": []
   },
   "outputs": [
    {
     "data": {
      "text/html": [
       "<div>\n",
       "<style scoped>\n",
       "    .dataframe tbody tr th:only-of-type {\n",
       "        vertical-align: middle;\n",
       "    }\n",
       "\n",
       "    .dataframe tbody tr th {\n",
       "        vertical-align: top;\n",
       "    }\n",
       "\n",
       "    .dataframe thead th {\n",
       "        text-align: right;\n",
       "    }\n",
       "</style>\n",
       "<table border=\"1\" class=\"dataframe\">\n",
       "  <thead>\n",
       "    <tr style=\"text-align: right;\">\n",
       "      <th>Symbols</th>\n",
       "      <th>GOOG</th>\n",
       "      <th>FB</th>\n",
       "      <th>AAPL</th>\n",
       "      <th>AMZN</th>\n",
       "      <th>NFLX</th>\n",
       "    </tr>\n",
       "    <tr>\n",
       "      <th>Date</th>\n",
       "      <th></th>\n",
       "      <th></th>\n",
       "      <th></th>\n",
       "      <th></th>\n",
       "      <th></th>\n",
       "    </tr>\n",
       "  </thead>\n",
       "  <tbody>\n",
       "    <tr>\n",
       "      <th>2022-01-03</th>\n",
       "      <td>2901.489990</td>\n",
       "      <td>338.540009</td>\n",
       "      <td>181.511703</td>\n",
       "      <td>3408.090088</td>\n",
       "      <td>597.369995</td>\n",
       "    </tr>\n",
       "    <tr>\n",
       "      <th>2022-01-04</th>\n",
       "      <td>2888.330078</td>\n",
       "      <td>336.529999</td>\n",
       "      <td>179.208038</td>\n",
       "      <td>3350.439941</td>\n",
       "      <td>591.150024</td>\n",
       "    </tr>\n",
       "    <tr>\n",
       "      <th>2022-01-05</th>\n",
       "      <td>2753.070068</td>\n",
       "      <td>324.170013</td>\n",
       "      <td>174.441116</td>\n",
       "      <td>3287.139893</td>\n",
       "      <td>567.520020</td>\n",
       "    </tr>\n",
       "    <tr>\n",
       "      <th>2022-01-06</th>\n",
       "      <td>2751.020020</td>\n",
       "      <td>332.459991</td>\n",
       "      <td>171.529129</td>\n",
       "      <td>3265.080078</td>\n",
       "      <td>553.289978</td>\n",
       "    </tr>\n",
       "    <tr>\n",
       "      <th>2022-01-07</th>\n",
       "      <td>2740.090088</td>\n",
       "      <td>331.790009</td>\n",
       "      <td>171.698654</td>\n",
       "      <td>3251.080078</td>\n",
       "      <td>541.059998</td>\n",
       "    </tr>\n",
       "  </tbody>\n",
       "</table>\n",
       "</div>"
      ],
      "text/plain": [
       "Symbols            GOOG          FB        AAPL         AMZN        NFLX\n",
       "Date                                                                    \n",
       "2022-01-03  2901.489990  338.540009  181.511703  3408.090088  597.369995\n",
       "2022-01-04  2888.330078  336.529999  179.208038  3350.439941  591.150024\n",
       "2022-01-05  2753.070068  324.170013  174.441116  3287.139893  567.520020\n",
       "2022-01-06  2751.020020  332.459991  171.529129  3265.080078  553.289978\n",
       "2022-01-07  2740.090088  331.790009  171.698654  3251.080078  541.059998"
      ]
     },
     "execution_count": 4,
     "metadata": {},
     "output_type": "execute_result"
    }
   ],
   "source": [
    "# Closing price\n",
    "port_close = portfolio['Adj Close']\n",
    "port_close.head()"
   ]
  },
  {
   "cell_type": "code",
   "execution_count": 5,
   "id": "2e5c7ba0",
   "metadata": {
    "execution": {
     "iopub.execute_input": "2022-05-10T13:34:54.078558Z",
     "iopub.status.busy": "2022-05-10T13:34:54.078219Z",
     "iopub.status.idle": "2022-05-10T13:34:54.087977Z",
     "shell.execute_reply": "2022-05-10T13:34:54.087462Z"
    },
    "papermill": {
     "duration": 0.037417,
     "end_time": "2022-05-10T13:34:54.089535",
     "exception": false,
     "start_time": "2022-05-10T13:34:54.052118",
     "status": "completed"
    },
    "tags": []
   },
   "outputs": [
    {
     "data": {
      "text/plain": [
       "Date\n",
       "2022-01-03         NaN\n",
       "2022-01-04   -0.004546\n",
       "2022-01-05   -0.047962\n",
       "2022-01-06   -0.000745\n",
       "2022-01-07   -0.003981\n",
       "Name: GOOG, dtype: float64"
      ]
     },
     "execution_count": 5,
     "metadata": {},
     "output_type": "execute_result"
    }
   ],
   "source": [
    "# log returns for covariance and correlation calculation\n",
    "google = port_close['GOOG'].pct_change().apply(lambda x: np.log(1+x))\n",
    "google.head()\n"
   ]
  },
  {
   "cell_type": "code",
   "execution_count": 6,
   "id": "cb0b39ba",
   "metadata": {
    "execution": {
     "iopub.execute_input": "2022-05-10T13:34:54.140601Z",
     "iopub.status.busy": "2022-05-10T13:34:54.139816Z",
     "iopub.status.idle": "2022-05-10T13:34:54.145519Z",
     "shell.execute_reply": "2022-05-10T13:34:54.144977Z"
    },
    "papermill": {
     "duration": 0.0332,
     "end_time": "2022-05-10T13:34:54.147146",
     "exception": false,
     "start_time": "2022-05-10T13:34:54.113946",
     "status": "completed"
    },
    "tags": []
   },
   "outputs": [
    {
     "data": {
      "text/plain": [
       "0.3651138868902799"
      ]
     },
     "execution_count": 6,
     "metadata": {},
     "output_type": "execute_result"
    }
   ],
   "source": [
    "# Volatility\n",
    "var_google = google.var()\n",
    "np.sqrt(var_google * 250)"
   ]
  },
  {
   "cell_type": "code",
   "execution_count": 7,
   "id": "bd41456f",
   "metadata": {
    "execution": {
     "iopub.execute_input": "2022-05-10T13:34:54.199428Z",
     "iopub.status.busy": "2022-05-10T13:34:54.198712Z",
     "iopub.status.idle": "2022-05-10T13:34:54.206835Z",
     "shell.execute_reply": "2022-05-10T13:34:54.206066Z"
    },
    "papermill": {
     "duration": 0.035217,
     "end_time": "2022-05-10T13:34:54.208677",
     "exception": false,
     "start_time": "2022-05-10T13:34:54.173460",
     "status": "completed"
    },
    "tags": []
   },
   "outputs": [
    {
     "data": {
      "text/plain": [
       "Date\n",
       "2022-01-03         NaN\n",
       "2022-01-04   -0.005955\n",
       "2022-01-05   -0.037419\n",
       "2022-01-06    0.025251\n",
       "2022-01-07   -0.002017\n",
       "Name: FB, dtype: float64"
      ]
     },
     "execution_count": 7,
     "metadata": {},
     "output_type": "execute_result"
    }
   ],
   "source": [
    "FB = port_close['FB'].pct_change().apply(lambda x: np.log(1+x))\n",
    "FB.head()"
   ]
  },
  {
   "cell_type": "code",
   "execution_count": 8,
   "id": "0b854401",
   "metadata": {
    "execution": {
     "iopub.execute_input": "2022-05-10T13:34:54.261601Z",
     "iopub.status.busy": "2022-05-10T13:34:54.261129Z",
     "iopub.status.idle": "2022-05-10T13:34:54.266153Z",
     "shell.execute_reply": "2022-05-10T13:34:54.265408Z"
    },
    "papermill": {
     "duration": 0.033518,
     "end_time": "2022-05-10T13:34:54.267722",
     "exception": false,
     "start_time": "2022-05-10T13:34:54.234204",
     "status": "completed"
    },
    "tags": []
   },
   "outputs": [
    {
     "data": {
      "text/plain": [
       "0.7529022468622237"
      ]
     },
     "execution_count": 8,
     "metadata": {},
     "output_type": "execute_result"
    }
   ],
   "source": [
    "var_FB = FB.var()\n",
    "np.sqrt(var_FB * 250)"
   ]
  },
  {
   "cell_type": "code",
   "execution_count": 9,
   "id": "c9b0736a",
   "metadata": {
    "execution": {
     "iopub.execute_input": "2022-05-10T13:34:54.318726Z",
     "iopub.status.busy": "2022-05-10T13:34:54.317883Z",
     "iopub.status.idle": "2022-05-10T13:34:54.326346Z",
     "shell.execute_reply": "2022-05-10T13:34:54.325625Z"
    },
    "papermill": {
     "duration": 0.036125,
     "end_time": "2022-05-10T13:34:54.328321",
     "exception": false,
     "start_time": "2022-05-10T13:34:54.292196",
     "status": "completed"
    },
    "tags": []
   },
   "outputs": [
    {
     "data": {
      "text/plain": [
       "Date\n",
       "2022-01-03         NaN\n",
       "2022-01-04   -0.012773\n",
       "2022-01-05   -0.026960\n",
       "2022-01-06   -0.016834\n",
       "2022-01-07    0.000988\n",
       "Name: AAPL, dtype: float64"
      ]
     },
     "execution_count": 9,
     "metadata": {},
     "output_type": "execute_result"
    }
   ],
   "source": [
    "apple = port_close['AAPL'].pct_change().apply(lambda x: np.log(1+x))\n",
    "apple.head()"
   ]
  },
  {
   "cell_type": "code",
   "execution_count": 10,
   "id": "b60b72db",
   "metadata": {
    "execution": {
     "iopub.execute_input": "2022-05-10T13:34:54.379972Z",
     "iopub.status.busy": "2022-05-10T13:34:54.379426Z",
     "iopub.status.idle": "2022-05-10T13:34:54.385295Z",
     "shell.execute_reply": "2022-05-10T13:34:54.384685Z"
    },
    "papermill": {
     "duration": 0.033402,
     "end_time": "2022-05-10T13:34:54.387036",
     "exception": false,
     "start_time": "2022-05-10T13:34:54.353634",
     "status": "completed"
    },
    "tags": []
   },
   "outputs": [
    {
     "data": {
      "text/plain": [
       "0.30844169028900653"
      ]
     },
     "execution_count": 10,
     "metadata": {},
     "output_type": "execute_result"
    }
   ],
   "source": [
    "var_apple = apple.var()\n",
    "np.sqrt(var_apple * 250)"
   ]
  },
  {
   "cell_type": "code",
   "execution_count": 11,
   "id": "fed8ef67",
   "metadata": {
    "execution": {
     "iopub.execute_input": "2022-05-10T13:34:54.439109Z",
     "iopub.status.busy": "2022-05-10T13:34:54.438732Z",
     "iopub.status.idle": "2022-05-10T13:34:54.447217Z",
     "shell.execute_reply": "2022-05-10T13:34:54.446530Z"
    },
    "papermill": {
     "duration": 0.037088,
     "end_time": "2022-05-10T13:34:54.449125",
     "exception": false,
     "start_time": "2022-05-10T13:34:54.412037",
     "status": "completed"
    },
    "tags": []
   },
   "outputs": [
    {
     "data": {
      "text/plain": [
       "Date\n",
       "2022-01-03         NaN\n",
       "2022-01-04   -0.017060\n",
       "2022-01-05   -0.019074\n",
       "2022-01-06   -0.006734\n",
       "2022-01-07   -0.004297\n",
       "Name: AMZN, dtype: float64"
      ]
     },
     "execution_count": 11,
     "metadata": {},
     "output_type": "execute_result"
    }
   ],
   "source": [
    "amazon = port_close['AMZN'].pct_change().apply(lambda x: np.log(1+x))\n",
    "amazon.head()"
   ]
  },
  {
   "cell_type": "code",
   "execution_count": 12,
   "id": "9690e791",
   "metadata": {
    "execution": {
     "iopub.execute_input": "2022-05-10T13:34:54.500902Z",
     "iopub.status.busy": "2022-05-10T13:34:54.500648Z",
     "iopub.status.idle": "2022-05-10T13:34:54.506672Z",
     "shell.execute_reply": "2022-05-10T13:34:54.505834Z"
    },
    "papermill": {
     "duration": 0.034473,
     "end_time": "2022-05-10T13:34:54.508830",
     "exception": false,
     "start_time": "2022-05-10T13:34:54.474357",
     "status": "completed"
    },
    "tags": []
   },
   "outputs": [
    {
     "data": {
      "text/plain": [
       "0.5333709312766071"
      ]
     },
     "execution_count": 12,
     "metadata": {},
     "output_type": "execute_result"
    }
   ],
   "source": [
    "var_amazon = amazon.var()\n",
    "np.sqrt(var_amazon * 250)"
   ]
  },
  {
   "cell_type": "code",
   "execution_count": 13,
   "id": "4ae67013",
   "metadata": {
    "execution": {
     "iopub.execute_input": "2022-05-10T13:34:54.562367Z",
     "iopub.status.busy": "2022-05-10T13:34:54.561985Z",
     "iopub.status.idle": "2022-05-10T13:34:54.570259Z",
     "shell.execute_reply": "2022-05-10T13:34:54.569504Z"
    },
    "papermill": {
     "duration": 0.036694,
     "end_time": "2022-05-10T13:34:54.571940",
     "exception": false,
     "start_time": "2022-05-10T13:34:54.535246",
     "status": "completed"
    },
    "tags": []
   },
   "outputs": [
    {
     "data": {
      "text/plain": [
       "Date\n",
       "2022-01-03         NaN\n",
       "2022-01-04   -0.010467\n",
       "2022-01-05   -0.040794\n",
       "2022-01-06   -0.025394\n",
       "2022-01-07   -0.022352\n",
       "Name: NFLX, dtype: float64"
      ]
     },
     "execution_count": 13,
     "metadata": {},
     "output_type": "execute_result"
    }
   ],
   "source": [
    "netflix = port_close['NFLX'].pct_change().apply(lambda x: np.log(1+x))\n",
    "netflix.head()"
   ]
  },
  {
   "cell_type": "code",
   "execution_count": 14,
   "id": "aa893fe8",
   "metadata": {
    "execution": {
     "iopub.execute_input": "2022-05-10T13:34:54.624335Z",
     "iopub.status.busy": "2022-05-10T13:34:54.624066Z",
     "iopub.status.idle": "2022-05-10T13:34:54.630137Z",
     "shell.execute_reply": "2022-05-10T13:34:54.629542Z"
    },
    "papermill": {
     "duration": 0.034431,
     "end_time": "2022-05-10T13:34:54.631787",
     "exception": false,
     "start_time": "2022-05-10T13:34:54.597356",
     "status": "completed"
    },
    "tags": []
   },
   "outputs": [
    {
     "data": {
      "text/plain": [
       "0.9975451195240191"
      ]
     },
     "execution_count": 14,
     "metadata": {},
     "output_type": "execute_result"
    }
   ],
   "source": [
    "var_netflix = netflix.var()\n",
    "np.sqrt(var_netflix * 250)"
   ]
  },
  {
   "cell_type": "code",
   "execution_count": 15,
   "id": "e1b85ddf",
   "metadata": {
    "execution": {
     "iopub.execute_input": "2022-05-10T13:34:54.685091Z",
     "iopub.status.busy": "2022-05-10T13:34:54.684843Z",
     "iopub.status.idle": "2022-05-10T13:34:54.699504Z",
     "shell.execute_reply": "2022-05-10T13:34:54.698535Z"
    },
    "papermill": {
     "duration": 0.043801,
     "end_time": "2022-05-10T13:34:54.701458",
     "exception": false,
     "start_time": "2022-05-10T13:34:54.657657",
     "status": "completed"
    },
    "tags": []
   },
   "outputs": [
    {
     "data": {
      "text/html": [
       "<div>\n",
       "<style scoped>\n",
       "    .dataframe tbody tr th:only-of-type {\n",
       "        vertical-align: middle;\n",
       "    }\n",
       "\n",
       "    .dataframe tbody tr th {\n",
       "        vertical-align: top;\n",
       "    }\n",
       "\n",
       "    .dataframe thead th {\n",
       "        text-align: right;\n",
       "    }\n",
       "</style>\n",
       "<table border=\"1\" class=\"dataframe\">\n",
       "  <thead>\n",
       "    <tr style=\"text-align: right;\">\n",
       "      <th>Symbols</th>\n",
       "      <th>GOOG</th>\n",
       "      <th>FB</th>\n",
       "      <th>AAPL</th>\n",
       "      <th>AMZN</th>\n",
       "      <th>NFLX</th>\n",
       "    </tr>\n",
       "    <tr>\n",
       "      <th>Date</th>\n",
       "      <th></th>\n",
       "      <th></th>\n",
       "      <th></th>\n",
       "      <th></th>\n",
       "      <th></th>\n",
       "    </tr>\n",
       "  </thead>\n",
       "  <tbody>\n",
       "    <tr>\n",
       "      <th>2022-01-03</th>\n",
       "      <td>NaN</td>\n",
       "      <td>NaN</td>\n",
       "      <td>NaN</td>\n",
       "      <td>NaN</td>\n",
       "      <td>NaN</td>\n",
       "    </tr>\n",
       "    <tr>\n",
       "      <th>2022-01-04</th>\n",
       "      <td>-0.004546</td>\n",
       "      <td>-0.005955</td>\n",
       "      <td>-0.012773</td>\n",
       "      <td>-0.017060</td>\n",
       "      <td>-0.010467</td>\n",
       "    </tr>\n",
       "    <tr>\n",
       "      <th>2022-01-05</th>\n",
       "      <td>-0.047962</td>\n",
       "      <td>-0.037419</td>\n",
       "      <td>-0.026960</td>\n",
       "      <td>-0.019074</td>\n",
       "      <td>-0.040794</td>\n",
       "    </tr>\n",
       "    <tr>\n",
       "      <th>2022-01-06</th>\n",
       "      <td>-0.000745</td>\n",
       "      <td>0.025251</td>\n",
       "      <td>-0.016834</td>\n",
       "      <td>-0.006734</td>\n",
       "      <td>-0.025394</td>\n",
       "    </tr>\n",
       "    <tr>\n",
       "      <th>2022-01-07</th>\n",
       "      <td>-0.003981</td>\n",
       "      <td>-0.002017</td>\n",
       "      <td>0.000988</td>\n",
       "      <td>-0.004297</td>\n",
       "      <td>-0.022352</td>\n",
       "    </tr>\n",
       "  </tbody>\n",
       "</table>\n",
       "</div>"
      ],
      "text/plain": [
       "Symbols         GOOG        FB      AAPL      AMZN      NFLX\n",
       "Date                                                        \n",
       "2022-01-03       NaN       NaN       NaN       NaN       NaN\n",
       "2022-01-04 -0.004546 -0.005955 -0.012773 -0.017060 -0.010467\n",
       "2022-01-05 -0.047962 -0.037419 -0.026960 -0.019074 -0.040794\n",
       "2022-01-06 -0.000745  0.025251 -0.016834 -0.006734 -0.025394\n",
       "2022-01-07 -0.003981 -0.002017  0.000988 -0.004297 -0.022352"
      ]
     },
     "execution_count": 15,
     "metadata": {},
     "output_type": "execute_result"
    }
   ],
   "source": [
    "# Log of Percentage change\n",
    "log_pct = port_close.pct_change().apply(lambda x: np.log(1+x))\n",
    "log_pct.head()"
   ]
  },
  {
   "cell_type": "code",
   "execution_count": 16,
   "id": "73e65bfd",
   "metadata": {
    "execution": {
     "iopub.execute_input": "2022-05-10T13:34:54.755930Z",
     "iopub.status.busy": "2022-05-10T13:34:54.755678Z",
     "iopub.status.idle": "2022-05-10T13:34:55.674286Z",
     "shell.execute_reply": "2022-05-10T13:34:55.673527Z"
    },
    "papermill": {
     "duration": 0.948121,
     "end_time": "2022-05-10T13:34:55.676105",
     "exception": false,
     "start_time": "2022-05-10T13:34:54.727984",
     "status": "completed"
    },
    "tags": []
   },
   "outputs": [
    {
     "data": {
      "text/html": [
       "<div>\n",
       "<style scoped>\n",
       "    .dataframe tbody tr th:only-of-type {\n",
       "        vertical-align: middle;\n",
       "    }\n",
       "\n",
       "    .dataframe tbody tr th {\n",
       "        vertical-align: top;\n",
       "    }\n",
       "\n",
       "    .dataframe thead th {\n",
       "        text-align: right;\n",
       "    }\n",
       "</style>\n",
       "<table border=\"1\" class=\"dataframe\">\n",
       "  <thead>\n",
       "    <tr style=\"text-align: right;\">\n",
       "      <th>Symbols</th>\n",
       "      <th>GOOG</th>\n",
       "      <th>FB</th>\n",
       "      <th>AAPL</th>\n",
       "      <th>AMZN</th>\n",
       "      <th>NFLX</th>\n",
       "    </tr>\n",
       "    <tr>\n",
       "      <th>Symbols</th>\n",
       "      <th></th>\n",
       "      <th></th>\n",
       "      <th></th>\n",
       "      <th></th>\n",
       "      <th></th>\n",
       "    </tr>\n",
       "  </thead>\n",
       "  <tbody>\n",
       "    <tr>\n",
       "      <th>GOOG</th>\n",
       "      <td>0.000533</td>\n",
       "      <td>0.000698</td>\n",
       "      <td>0.000349</td>\n",
       "      <td>0.000500</td>\n",
       "      <td>0.000579</td>\n",
       "    </tr>\n",
       "    <tr>\n",
       "      <th>FB</th>\n",
       "      <td>0.000698</td>\n",
       "      <td>0.002267</td>\n",
       "      <td>0.000494</td>\n",
       "      <td>0.000906</td>\n",
       "      <td>0.001397</td>\n",
       "    </tr>\n",
       "    <tr>\n",
       "      <th>AAPL</th>\n",
       "      <td>0.000349</td>\n",
       "      <td>0.000494</td>\n",
       "      <td>0.000381</td>\n",
       "      <td>0.000414</td>\n",
       "      <td>0.000420</td>\n",
       "    </tr>\n",
       "    <tr>\n",
       "      <th>AMZN</th>\n",
       "      <td>0.000500</td>\n",
       "      <td>0.000906</td>\n",
       "      <td>0.000414</td>\n",
       "      <td>0.001138</td>\n",
       "      <td>0.000960</td>\n",
       "    </tr>\n",
       "    <tr>\n",
       "      <th>NFLX</th>\n",
       "      <td>0.000579</td>\n",
       "      <td>0.001397</td>\n",
       "      <td>0.000420</td>\n",
       "      <td>0.000960</td>\n",
       "      <td>0.003980</td>\n",
       "    </tr>\n",
       "  </tbody>\n",
       "</table>\n",
       "</div>"
      ],
      "text/plain": [
       "Symbols      GOOG        FB      AAPL      AMZN      NFLX\n",
       "Symbols                                                  \n",
       "GOOG     0.000533  0.000698  0.000349  0.000500  0.000579\n",
       "FB       0.000698  0.002267  0.000494  0.000906  0.001397\n",
       "AAPL     0.000349  0.000494  0.000381  0.000414  0.000420\n",
       "AMZN     0.000500  0.000906  0.000414  0.001138  0.000960\n",
       "NFLX     0.000579  0.001397  0.000420  0.000960  0.003980"
      ]
     },
     "execution_count": 16,
     "metadata": {},
     "output_type": "execute_result"
    }
   ],
   "source": [
    "import seaborn as sns\n",
    "\n",
    "log_pct1 = log_pct.iloc[1: , :]\n",
    "\n",
    "# small covariance everywhere\n",
    "cov_matrix = log_pct1.cov()\n",
    "cov_matrix\n"
   ]
  },
  {
   "cell_type": "code",
   "execution_count": 17,
   "id": "9b1bfba5",
   "metadata": {
    "execution": {
     "iopub.execute_input": "2022-05-10T13:34:55.731592Z",
     "iopub.status.busy": "2022-05-10T13:34:55.730794Z",
     "iopub.status.idle": "2022-05-10T13:34:55.741368Z",
     "shell.execute_reply": "2022-05-10T13:34:55.740853Z"
    },
    "papermill": {
     "duration": 0.040086,
     "end_time": "2022-05-10T13:34:55.742996",
     "exception": false,
     "start_time": "2022-05-10T13:34:55.702910",
     "status": "completed"
    },
    "tags": []
   },
   "outputs": [
    {
     "data": {
      "text/html": [
       "<div>\n",
       "<style scoped>\n",
       "    .dataframe tbody tr th:only-of-type {\n",
       "        vertical-align: middle;\n",
       "    }\n",
       "\n",
       "    .dataframe tbody tr th {\n",
       "        vertical-align: top;\n",
       "    }\n",
       "\n",
       "    .dataframe thead th {\n",
       "        text-align: right;\n",
       "    }\n",
       "</style>\n",
       "<table border=\"1\" class=\"dataframe\">\n",
       "  <thead>\n",
       "    <tr style=\"text-align: right;\">\n",
       "      <th>Symbols</th>\n",
       "      <th>GOOG</th>\n",
       "      <th>FB</th>\n",
       "      <th>AAPL</th>\n",
       "      <th>AMZN</th>\n",
       "      <th>NFLX</th>\n",
       "    </tr>\n",
       "    <tr>\n",
       "      <th>Symbols</th>\n",
       "      <th></th>\n",
       "      <th></th>\n",
       "      <th></th>\n",
       "      <th></th>\n",
       "      <th></th>\n",
       "    </tr>\n",
       "  </thead>\n",
       "  <tbody>\n",
       "    <tr>\n",
       "      <th>GOOG</th>\n",
       "      <td>1.000000</td>\n",
       "      <td>0.634628</td>\n",
       "      <td>0.775024</td>\n",
       "      <td>0.641676</td>\n",
       "      <td>0.397163</td>\n",
       "    </tr>\n",
       "    <tr>\n",
       "      <th>FB</th>\n",
       "      <td>0.634628</td>\n",
       "      <td>1.000000</td>\n",
       "      <td>0.532107</td>\n",
       "      <td>0.563885</td>\n",
       "      <td>0.465179</td>\n",
       "    </tr>\n",
       "    <tr>\n",
       "      <th>AAPL</th>\n",
       "      <td>0.775024</td>\n",
       "      <td>0.532107</td>\n",
       "      <td>1.000000</td>\n",
       "      <td>0.628483</td>\n",
       "      <td>0.340871</td>\n",
       "    </tr>\n",
       "    <tr>\n",
       "      <th>AMZN</th>\n",
       "      <td>0.641676</td>\n",
       "      <td>0.563885</td>\n",
       "      <td>0.628483</td>\n",
       "      <td>1.000000</td>\n",
       "      <td>0.451103</td>\n",
       "    </tr>\n",
       "    <tr>\n",
       "      <th>NFLX</th>\n",
       "      <td>0.397163</td>\n",
       "      <td>0.465179</td>\n",
       "      <td>0.340871</td>\n",
       "      <td>0.451103</td>\n",
       "      <td>1.000000</td>\n",
       "    </tr>\n",
       "  </tbody>\n",
       "</table>\n",
       "</div>"
      ],
      "text/plain": [
       "Symbols      GOOG        FB      AAPL      AMZN      NFLX\n",
       "Symbols                                                  \n",
       "GOOG     1.000000  0.634628  0.775024  0.641676  0.397163\n",
       "FB       0.634628  1.000000  0.532107  0.563885  0.465179\n",
       "AAPL     0.775024  0.532107  1.000000  0.628483  0.340871\n",
       "AMZN     0.641676  0.563885  0.628483  1.000000  0.451103\n",
       "NFLX     0.397163  0.465179  0.340871  0.451103  1.000000"
      ]
     },
     "execution_count": 17,
     "metadata": {},
     "output_type": "execute_result"
    }
   ],
   "source": [
    "log_pct1.corr()\n",
    "# correlation is positive for all the stocks with positive covariation"
   ]
  },
  {
   "cell_type": "code",
   "execution_count": 18,
   "id": "625a5966",
   "metadata": {
    "execution": {
     "iopub.execute_input": "2022-05-10T13:34:55.799200Z",
     "iopub.status.busy": "2022-05-10T13:34:55.798729Z",
     "iopub.status.idle": "2022-05-10T13:34:55.804827Z",
     "shell.execute_reply": "2022-05-10T13:34:55.804347Z"
    },
    "papermill": {
     "duration": 0.036101,
     "end_time": "2022-05-10T13:34:55.806395",
     "exception": false,
     "start_time": "2022-05-10T13:34:55.770294",
     "status": "completed"
    },
    "tags": []
   },
   "outputs": [
    {
     "data": {
      "text/plain": [
       "-0.0058228168898762835"
      ]
     },
     "execution_count": 18,
     "metadata": {},
     "output_type": "execute_result"
    }
   ],
   "source": [
    "# Define weights for allocation of expected returns\n",
    "w = [0.2, 0.2, 0.2, 0.2, 0.2]\n",
    "expected_return = ((log_pct1.mean())*w).sum()\n",
    "expected_return"
   ]
  },
  {
   "cell_type": "markdown",
   "id": "d9732233",
   "metadata": {
    "papermill": {
     "duration": 0.028218,
     "end_time": "2022-05-10T13:34:55.862314",
     "exception": false,
     "start_time": "2022-05-10T13:34:55.834096",
     "status": "completed"
    },
    "tags": []
   },
   "source": [
    "# EFFICIENT FRONTIER"
   ]
  },
  {
   "cell_type": "code",
   "execution_count": 19,
   "id": "a928e5b9",
   "metadata": {
    "execution": {
     "iopub.execute_input": "2022-05-10T13:34:55.919039Z",
     "iopub.status.busy": "2022-05-10T13:34:55.918526Z",
     "iopub.status.idle": "2022-05-10T13:34:55.935513Z",
     "shell.execute_reply": "2022-05-10T13:34:55.934923Z"
    },
    "papermill": {
     "duration": 0.047412,
     "end_time": "2022-05-10T13:34:55.937126",
     "exception": false,
     "start_time": "2022-05-10T13:34:55.889714",
     "status": "completed"
    },
    "tags": []
   },
   "outputs": [
    {
     "data": {
      "text/plain": [
       "Symbols\n",
       "GOOG   -0.049141\n",
       "FB     -0.123699\n",
       "AAPL   -0.031241\n",
       "AMZN   -0.049805\n",
       "NFLX   -0.206234\n",
       "dtype: float64"
      ]
     },
     "execution_count": 19,
     "metadata": {},
     "output_type": "execute_result"
    }
   ],
   "source": [
    "\n",
    "ind_er = port_close.resample('M').last().pct_change().mean()\n",
    "ind_er"
   ]
  },
  {
   "cell_type": "code",
   "execution_count": 20,
   "id": "eea87a4e",
   "metadata": {
    "execution": {
     "iopub.execute_input": "2022-05-10T13:34:55.994449Z",
     "iopub.status.busy": "2022-05-10T13:34:55.993939Z",
     "iopub.status.idle": "2022-05-10T13:34:56.004881Z",
     "shell.execute_reply": "2022-05-10T13:34:56.004042Z"
    },
    "papermill": {
     "duration": 0.041856,
     "end_time": "2022-05-10T13:34:56.006752",
     "exception": false,
     "start_time": "2022-05-10T13:34:55.964896",
     "status": "completed"
    },
    "tags": []
   },
   "outputs": [
    {
     "data": {
      "text/plain": [
       "Symbols\n",
       "GOOG    0.365114\n",
       "FB      0.752902\n",
       "AAPL    0.308442\n",
       "AMZN    0.533371\n",
       "NFLX    0.997545\n",
       "dtype: float64"
      ]
     },
     "execution_count": 20,
     "metadata": {},
     "output_type": "execute_result"
    }
   ],
   "source": [
    "# Volatility is given by the annual standard deviation. We multiply by 250 because there are 250 trading days/year.\n",
    "ann_sd = port_close.pct_change().apply(lambda x: np.log(1+x)).std().apply(lambda x: x*np.sqrt(250))\n",
    "ann_sd"
   ]
  },
  {
   "cell_type": "code",
   "execution_count": 21,
   "id": "7e7586ed",
   "metadata": {
    "execution": {
     "iopub.execute_input": "2022-05-10T13:34:56.065612Z",
     "iopub.status.busy": "2022-05-10T13:34:56.065033Z",
     "iopub.status.idle": "2022-05-10T13:34:56.074486Z",
     "shell.execute_reply": "2022-05-10T13:34:56.073787Z"
    },
    "papermill": {
     "duration": 0.040627,
     "end_time": "2022-05-10T13:34:56.076154",
     "exception": false,
     "start_time": "2022-05-10T13:34:56.035527",
     "status": "completed"
    },
    "tags": []
   },
   "outputs": [
    {
     "data": {
      "text/html": [
       "<div>\n",
       "<style scoped>\n",
       "    .dataframe tbody tr th:only-of-type {\n",
       "        vertical-align: middle;\n",
       "    }\n",
       "\n",
       "    .dataframe tbody tr th {\n",
       "        vertical-align: top;\n",
       "    }\n",
       "\n",
       "    .dataframe thead th {\n",
       "        text-align: right;\n",
       "    }\n",
       "</style>\n",
       "<table border=\"1\" class=\"dataframe\">\n",
       "  <thead>\n",
       "    <tr style=\"text-align: right;\">\n",
       "      <th></th>\n",
       "      <th>Returns</th>\n",
       "      <th>Volatility</th>\n",
       "    </tr>\n",
       "    <tr>\n",
       "      <th>Symbols</th>\n",
       "      <th></th>\n",
       "      <th></th>\n",
       "    </tr>\n",
       "  </thead>\n",
       "  <tbody>\n",
       "    <tr>\n",
       "      <th>GOOG</th>\n",
       "      <td>-0.049141</td>\n",
       "      <td>0.365114</td>\n",
       "    </tr>\n",
       "    <tr>\n",
       "      <th>FB</th>\n",
       "      <td>-0.123699</td>\n",
       "      <td>0.752902</td>\n",
       "    </tr>\n",
       "    <tr>\n",
       "      <th>AAPL</th>\n",
       "      <td>-0.031241</td>\n",
       "      <td>0.308442</td>\n",
       "    </tr>\n",
       "    <tr>\n",
       "      <th>AMZN</th>\n",
       "      <td>-0.049805</td>\n",
       "      <td>0.533371</td>\n",
       "    </tr>\n",
       "    <tr>\n",
       "      <th>NFLX</th>\n",
       "      <td>-0.206234</td>\n",
       "      <td>0.997545</td>\n",
       "    </tr>\n",
       "  </tbody>\n",
       "</table>\n",
       "</div>"
      ],
      "text/plain": [
       "          Returns  Volatility\n",
       "Symbols                      \n",
       "GOOG    -0.049141    0.365114\n",
       "FB      -0.123699    0.752902\n",
       "AAPL    -0.031241    0.308442\n",
       "AMZN    -0.049805    0.533371\n",
       "NFLX    -0.206234    0.997545"
      ]
     },
     "execution_count": 21,
     "metadata": {},
     "output_type": "execute_result"
    }
   ],
   "source": [
    "assets = pd.concat([ind_er, ann_sd], axis=1) # Creating a table for visualising returns and volatility of assets\n",
    "assets.columns = ['Returns', 'Volatility']\n",
    "assets"
   ]
  },
  {
   "cell_type": "code",
   "execution_count": 22,
   "id": "e593788e",
   "metadata": {
    "execution": {
     "iopub.execute_input": "2022-05-10T13:34:56.134930Z",
     "iopub.status.busy": "2022-05-10T13:34:56.134439Z",
     "iopub.status.idle": "2022-05-10T13:34:56.138237Z",
     "shell.execute_reply": "2022-05-10T13:34:56.137686Z"
    },
    "papermill": {
     "duration": 0.035347,
     "end_time": "2022-05-10T13:34:56.139942",
     "exception": false,
     "start_time": "2022-05-10T13:34:56.104595",
     "status": "completed"
    },
    "tags": []
   },
   "outputs": [],
   "source": [
    "p_ret = [] # Define an empty array for portfolio returns\n",
    "p_vol = [] # Define an empty array for portfolio volatility\n",
    "p_weights = [] # Define an empty array for asset weights\n",
    "\n",
    "num_assets = len(port_close.columns)\n",
    "num_portfolios = 10000"
   ]
  },
  {
   "cell_type": "code",
   "execution_count": 23,
   "id": "eb6caf3d",
   "metadata": {
    "execution": {
     "iopub.execute_input": "2022-05-10T13:34:56.199256Z",
     "iopub.status.busy": "2022-05-10T13:34:56.198721Z",
     "iopub.status.idle": "2022-05-10T13:35:07.409846Z",
     "shell.execute_reply": "2022-05-10T13:35:07.408941Z"
    },
    "papermill": {
     "duration": 11.243358,
     "end_time": "2022-05-10T13:35:07.412273",
     "exception": false,
     "start_time": "2022-05-10T13:34:56.168915",
     "status": "completed"
    },
    "tags": []
   },
   "outputs": [],
   "source": [
    "for portfolio in range(num_portfolios):\n",
    "    weights = np.random.random(num_assets)\n",
    "    weights = weights/np.sum(weights)\n",
    "    p_weights.append(weights)\n",
    "    returns = np.dot(weights, ind_er) # Returns are the product of individual expected returns of asset and its \n",
    "                                      # weights \n",
    "    p_ret.append(returns)\n",
    "    var = cov_matrix.mul(weights, axis=0).mul(weights, axis=1).sum().sum()# Portfolio Variance\n",
    "    sd = np.sqrt(var) # Daily standard deviation\n",
    "    ann_sd = sd*np.sqrt(250) # Annual standard deviation = volatility\n",
    "    p_vol.append(ann_sd)"
   ]
  },
  {
   "cell_type": "code",
   "execution_count": 24,
   "id": "8f48eded",
   "metadata": {
    "execution": {
     "iopub.execute_input": "2022-05-10T13:35:07.472803Z",
     "iopub.status.busy": "2022-05-10T13:35:07.472515Z",
     "iopub.status.idle": "2022-05-10T13:35:07.487583Z",
     "shell.execute_reply": "2022-05-10T13:35:07.486954Z"
    },
    "papermill": {
     "duration": 0.048715,
     "end_time": "2022-05-10T13:35:07.489575",
     "exception": false,
     "start_time": "2022-05-10T13:35:07.440860",
     "status": "completed"
    },
    "tags": []
   },
   "outputs": [
    {
     "name": "stdout",
     "output_type": "stream",
     "text": [
      "0 GOOG\n",
      "1 FB\n",
      "2 AAPL\n",
      "3 AMZN\n",
      "4 NFLX\n"
     ]
    }
   ],
   "source": [
    "data = {'Returns':p_ret, 'Volatility':p_vol}\n",
    "\n",
    "for counter, symbol in enumerate(port_close.columns.tolist()):\n",
    "    print(counter, symbol)\n",
    "    data[symbol+' weight'] = [w[counter] for w in p_weights]"
   ]
  },
  {
   "cell_type": "code",
   "execution_count": 25,
   "id": "85d65c3f",
   "metadata": {
    "execution": {
     "iopub.execute_input": "2022-05-10T13:35:07.552520Z",
     "iopub.status.busy": "2022-05-10T13:35:07.551977Z",
     "iopub.status.idle": "2022-05-10T13:35:07.570530Z",
     "shell.execute_reply": "2022-05-10T13:35:07.569844Z"
    },
    "papermill": {
     "duration": 0.053092,
     "end_time": "2022-05-10T13:35:07.572404",
     "exception": false,
     "start_time": "2022-05-10T13:35:07.519312",
     "status": "completed"
    },
    "tags": []
   },
   "outputs": [],
   "source": [
    "portfolios  = pd.DataFrame(data)"
   ]
  },
  {
   "cell_type": "code",
   "execution_count": 26,
   "id": "1f4e5a39",
   "metadata": {
    "execution": {
     "iopub.execute_input": "2022-05-10T13:35:07.633502Z",
     "iopub.status.busy": "2022-05-10T13:35:07.633000Z",
     "iopub.status.idle": "2022-05-10T13:35:07.972366Z",
     "shell.execute_reply": "2022-05-10T13:35:07.971777Z"
    },
    "papermill": {
     "duration": 0.373294,
     "end_time": "2022-05-10T13:35:07.975098",
     "exception": false,
     "start_time": "2022-05-10T13:35:07.601804",
     "status": "completed"
    },
    "tags": []
   },
   "outputs": [
    {
     "data": {
      "text/plain": [
       "<AxesSubplot:xlabel='Volatility', ylabel='Returns'>"
      ]
     },
     "execution_count": 26,
     "metadata": {},
     "output_type": "execute_result"
    },
    {
     "data": {
      "image/png": "[encoded data removed]",
      "text/plain": [
       "<Figure size 720x720 with 1 Axes>"
      ]
     },
     "metadata": {
      "needs_background": "light"
     },
     "output_type": "display_data"
    }
   ],
   "source": [
    "# Plot efficient frontier\n",
    "portfolios.plot.scatter(x='Volatility', y='Returns', marker='o', s=10, alpha=0.3, grid=True, figsize=[10,10])"
   ]
  },
  {
   "cell_type": "code",
   "execution_count": 27,
   "id": "cbc18be1",
   "metadata": {
    "execution": {
     "iopub.execute_input": "2022-05-10T13:35:08.041760Z",
     "iopub.status.busy": "2022-05-10T13:35:08.040823Z",
     "iopub.status.idle": "2022-05-10T13:35:08.049131Z",
     "shell.execute_reply": "2022-05-10T13:35:08.048605Z"
    },
    "papermill": {
     "duration": 0.043492,
     "end_time": "2022-05-10T13:35:08.050707",
     "exception": false,
     "start_time": "2022-05-10T13:35:08.007215",
     "status": "completed"
    },
    "tags": []
   },
   "outputs": [
    {
     "data": {
      "text/plain": [
       "Returns       -0.054945\n",
       "Volatility     0.478231\n",
       "GOOG weight    0.016654\n",
       "FB weight      0.000800\n",
       "AAPL weight    0.146950\n",
       "AMZN weight    0.785605\n",
       "NFLX weight    0.049990\n",
       "Name: 4119, dtype: float64"
      ]
     },
     "execution_count": 27,
     "metadata": {},
     "output_type": "execute_result"
    }
   ],
   "source": [
    "# Finding the optimal portfolio\n",
    "rf = 0.01 # risk factor\n",
    "optimal_risky_port = portfolios.iloc[((portfolios['Returns']-rf)/portfolios['Volatility']).idxmax()]\n",
    "optimal_risky_port"
   ]
  },
  {
   "cell_type": "code",
   "execution_count": 28,
   "id": "d3fdf138",
   "metadata": {
    "execution": {
     "iopub.execute_input": "2022-05-10T13:35:08.117575Z",
     "iopub.status.busy": "2022-05-10T13:35:08.116708Z",
     "iopub.status.idle": "2022-05-10T13:35:08.124231Z",
     "shell.execute_reply": "2022-05-10T13:35:08.123704Z"
    },
    "papermill": {
     "duration": 0.042624,
     "end_time": "2022-05-10T13:35:08.126084",
     "exception": false,
     "start_time": "2022-05-10T13:35:08.083460",
     "status": "completed"
    },
    "tags": []
   },
   "outputs": [
    {
     "data": {
      "text/plain": [
       "Returns       -0.044671\n",
       "Volatility     0.318901\n",
       "GOOG weight    0.290163\n",
       "FB weight      0.029602\n",
       "AAPL weight    0.630625\n",
       "AMZN weight    0.020344\n",
       "NFLX weight    0.029267\n",
       "Name: 9906, dtype: float64"
      ]
     },
     "execution_count": 28,
     "metadata": {},
     "output_type": "execute_result"
    }
   ],
   "source": [
    "min_vol_port = portfolios.iloc[portfolios['Volatility'].idxmin()]\n",
    "# idxmin() gives us the minimum value in the column specified.                               \n",
    "min_vol_port"
   ]
  },
  {
   "cell_type": "code",
   "execution_count": 29,
   "id": "088f80ed",
   "metadata": {
    "execution": {
     "iopub.execute_input": "2022-05-10T13:35:08.192927Z",
     "iopub.status.busy": "2022-05-10T13:35:08.192513Z",
     "iopub.status.idle": "2022-05-10T13:35:08.436892Z",
     "shell.execute_reply": "2022-05-10T13:35:08.436161Z"
    },
    "papermill": {
     "duration": 0.28016,
     "end_time": "2022-05-10T13:35:08.439025",
     "exception": false,
     "start_time": "2022-05-10T13:35:08.158865",
     "status": "completed"
    },
    "tags": []
   },
   "outputs": [
    {
     "data": {
      "text/plain": [
       "<matplotlib.collections.PathCollection at 0x7f5cbedc7bd0>"
      ]
     },
     "execution_count": 29,
     "metadata": {},
     "output_type": "execute_result"
    },
    {
     "data": {
      "image/png": "[encoded data removed]",
      "text/plain": [
       "<Figure size 720x720 with 1 Axes>"
      ]
     },
     "metadata": {
      "needs_background": "light"
     },
     "output_type": "display_data"
    }
   ],
   "source": [
    "# Plotting optimal portfolio\n",
    "plt.subplots(figsize=(10, 10))\n",
    "plt.scatter(portfolios['Volatility'], portfolios['Returns'],marker='o', s=10, alpha=0.3)\n",
    "plt.scatter(min_vol_port[1], min_vol_port[0], color='r', marker='*', s=500)\n",
    "plt.scatter(optimal_risky_port[1], optimal_risky_port[0], color='g', marker='*', s=500)"
   ]
  },
  {
   "cell_type": "markdown",
   "id": "196acc54",
   "metadata": {
    "papermill": {
     "duration": 0.048073,
     "end_time": "2022-05-10T13:35:08.526074",
     "exception": false,
     "start_time": "2022-05-10T13:35:08.478001",
     "status": "completed"
    },
    "tags": []
   },
   "source": [
    "An optimal risky portfolio can be considered as one that has highest Sharpe ratio.\n",
    "The green star represents the optimal risky portfolio.\n",
    "The red star represents the Minimum Volatility portfolio"
   ]
  }
 ],
 "metadata": {
  "kernelspec": {
   "display_name": "Python 3",
   "language": "python",
   "name": "python3"
  },
  "language_info": {
   "codemirror_mode": {
    "name": "ipython",
    "version": 3
   },
   "file_extension": ".py",
   "mimetype": "text/x-python",
   "name": "python",
   "nbconvert_exporter": "python",
   "pygments_lexer": "ipython3",
   "version": "3.7.12"
  },
  "papermill": {
   "default_parameters": {},
   "duration": 30.203437,
   "end_time": "2022-05-10T13:35:09.286453",
   "environment_variables": {},
   "exception": null,
   "input_path": "__notebook__.ipynb",
   "output_path": "__notebook__.ipynb",
   "parameters": {},
   "start_time": "2022-05-10T13:34:39.083016",
   "version": "2.3.4"
  }
 },
 "nbformat": 4,
 "nbformat_minor": 5
}
