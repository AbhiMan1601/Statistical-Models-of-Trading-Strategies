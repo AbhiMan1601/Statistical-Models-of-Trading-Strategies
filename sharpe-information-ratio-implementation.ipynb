{
 "cells": [
  {
   "cell_type": "code",
   "execution_count": 1,
   "id": "3ee7eca2",
   "metadata": {
    "_cell_guid": "b1076dfc-b9ad-4769-8c92-a6c4dae69d19",
    "_uuid": "8f2839f25d086af736a60e9eeb907d3b93b6e0e5",
    "execution": {
     "iopub.execute_input": "2022-05-05T12:53:02.006358Z",
     "iopub.status.busy": "2022-05-05T12:53:02.005634Z",
     "iopub.status.idle": "2022-05-05T12:53:02.027115Z",
     "shell.execute_reply": "2022-05-05T12:53:02.026235Z"
    },
    "papermill": {
     "duration": 0.046656,
     "end_time": "2022-05-05T12:53:02.030677",
     "exception": false,
     "start_time": "2022-05-05T12:53:01.984021",
     "status": "completed"
    },
    "tags": []
   },
   "outputs": [
    {
     "name": "stdout",
     "output_type": "stream",
     "text": [
      "/kaggle/input/invstodata/HINDALCO_1D (1).xlsx - HINDALCO.csv\n",
      "/kaggle/input/nifty50/NSEI.csv\n"
     ]
    }
   ],
   "source": [
    "# This Python 3 environment comes with many helpful analytics libraries installed\n",
    "# It is defined by the kaggle/python Docker image: https://github.com/kaggle/docker-python\n",
    "# For example, here's several helpful packages to load\n",
    "\n",
    "import numpy as np # linear algebra\n",
    "import pandas as pd # data processing, CSV file I/O (e.g. pd.read_csv)\n",
    "\n",
    "# Input data files are available in the read-only \"../input/\" directory\n",
    "# For example, running this (by clicking run or pressing Shift+Enter) will list all files under the input directory\n",
    "\n",
    "import os\n",
    "for dirname, _, filenames in os.walk('/kaggle/input'):\n",
    "    for filename in filenames:\n",
    "        print(os.path.join(dirname, filename))\n",
    "\n",
    "# You can write up to 20GB to the current directory (/kaggle/working/) that gets preserved as output when you create a version using \"Save & Run All\" \n",
    "# You can also write temporary files to /kaggle/temp/, but they won't be saved outside of the current session"
   ]
  },
  {
   "cell_type": "code",
   "execution_count": 2,
   "id": "3635b60d",
   "metadata": {
    "execution": {
     "iopub.execute_input": "2022-05-05T12:53:02.072238Z",
     "iopub.status.busy": "2022-05-05T12:53:02.071669Z",
     "iopub.status.idle": "2022-05-05T12:53:02.119674Z",
     "shell.execute_reply": "2022-05-05T12:53:02.118530Z"
    },
    "papermill": {
     "duration": 0.070657,
     "end_time": "2022-05-05T12:53:02.122084",
     "exception": false,
     "start_time": "2022-05-05T12:53:02.051427",
     "status": "completed"
    },
    "tags": []
   },
   "outputs": [
    {
     "data": {
      "text/html": [
       "<div>\n",
       "<style scoped>\n",
       "    .dataframe tbody tr th:only-of-type {\n",
       "        vertical-align: middle;\n",
       "    }\n",
       "\n",
       "    .dataframe tbody tr th {\n",
       "        vertical-align: top;\n",
       "    }\n",
       "\n",
       "    .dataframe thead th {\n",
       "        text-align: right;\n",
       "    }\n",
       "</style>\n",
       "<table border=\"1\" class=\"dataframe\">\n",
       "  <thead>\n",
       "    <tr style=\"text-align: right;\">\n",
       "      <th></th>\n",
       "      <th>datetime</th>\n",
       "      <th>close</th>\n",
       "      <th>high</th>\n",
       "      <th>low</th>\n",
       "      <th>open</th>\n",
       "      <th>volume</th>\n",
       "      <th>instrument</th>\n",
       "      <th>Unnamed: 7</th>\n",
       "      <th>Unnamed: 8</th>\n",
       "      <th>Unnamed: 9</th>\n",
       "      <th>Unnamed: 10</th>\n",
       "      <th>Unnamed: 11</th>\n",
       "    </tr>\n",
       "  </thead>\n",
       "  <tbody>\n",
       "    <tr>\n",
       "      <th>0</th>\n",
       "      <td>2014-01-24 00:00:00</td>\n",
       "      <td>114.00</td>\n",
       "      <td>115.35</td>\n",
       "      <td>113.00</td>\n",
       "      <td>113.15</td>\n",
       "      <td>5737135</td>\n",
       "      <td>HINDALCO</td>\n",
       "      <td>NaN</td>\n",
       "      <td>NaN</td>\n",
       "      <td>NaN</td>\n",
       "      <td>NaN</td>\n",
       "      <td>NaN</td>\n",
       "    </tr>\n",
       "    <tr>\n",
       "      <th>1</th>\n",
       "      <td>2014-01-27 00:00:00</td>\n",
       "      <td>111.10</td>\n",
       "      <td>112.70</td>\n",
       "      <td>109.30</td>\n",
       "      <td>112.00</td>\n",
       "      <td>8724577</td>\n",
       "      <td>HINDALCO</td>\n",
       "      <td>NaN</td>\n",
       "      <td>NaN</td>\n",
       "      <td>NaN</td>\n",
       "      <td>NaN</td>\n",
       "      <td>NaN</td>\n",
       "    </tr>\n",
       "    <tr>\n",
       "      <th>2</th>\n",
       "      <td>2014-01-28 00:00:00</td>\n",
       "      <td>113.80</td>\n",
       "      <td>115.00</td>\n",
       "      <td>109.75</td>\n",
       "      <td>110.00</td>\n",
       "      <td>4513345</td>\n",
       "      <td>HINDALCO</td>\n",
       "      <td>NaN</td>\n",
       "      <td>NaN</td>\n",
       "      <td>NaN</td>\n",
       "      <td>NaN</td>\n",
       "      <td>NaN</td>\n",
       "    </tr>\n",
       "    <tr>\n",
       "      <th>3</th>\n",
       "      <td>2014-01-29 00:00:00</td>\n",
       "      <td>111.75</td>\n",
       "      <td>114.75</td>\n",
       "      <td>111.15</td>\n",
       "      <td>114.50</td>\n",
       "      <td>4713458</td>\n",
       "      <td>HINDALCO</td>\n",
       "      <td>NaN</td>\n",
       "      <td>NaN</td>\n",
       "      <td>NaN</td>\n",
       "      <td>NaN</td>\n",
       "      <td>NaN</td>\n",
       "    </tr>\n",
       "    <tr>\n",
       "      <th>4</th>\n",
       "      <td>2014-01-30 00:00:00</td>\n",
       "      <td>108.10</td>\n",
       "      <td>110.70</td>\n",
       "      <td>107.60</td>\n",
       "      <td>110.20</td>\n",
       "      <td>5077231</td>\n",
       "      <td>HINDALCO</td>\n",
       "      <td>NaN</td>\n",
       "      <td>NaN</td>\n",
       "      <td>NaN</td>\n",
       "      <td>NaN</td>\n",
       "      <td>NaN</td>\n",
       "    </tr>\n",
       "  </tbody>\n",
       "</table>\n",
       "</div>"
      ],
      "text/plain": [
       "              datetime   close    high     low    open   volume instrument  \\\n",
       "0  2014-01-24 00:00:00  114.00  115.35  113.00  113.15  5737135   HINDALCO   \n",
       "1  2014-01-27 00:00:00  111.10  112.70  109.30  112.00  8724577   HINDALCO   \n",
       "2  2014-01-28 00:00:00  113.80  115.00  109.75  110.00  4513345   HINDALCO   \n",
       "3  2014-01-29 00:00:00  111.75  114.75  111.15  114.50  4713458   HINDALCO   \n",
       "4  2014-01-30 00:00:00  108.10  110.70  107.60  110.20  5077231   HINDALCO   \n",
       "\n",
       "   Unnamed: 7  Unnamed: 8  Unnamed: 9  Unnamed: 10  Unnamed: 11  \n",
       "0         NaN         NaN         NaN          NaN          NaN  \n",
       "1         NaN         NaN         NaN          NaN          NaN  \n",
       "2         NaN         NaN         NaN          NaN          NaN  \n",
       "3         NaN         NaN         NaN          NaN          NaN  \n",
       "4         NaN         NaN         NaN          NaN          NaN  "
      ]
     },
     "execution_count": 2,
     "metadata": {},
     "output_type": "execute_result"
    }
   ],
   "source": [
    "file = pd.read_csv(\"/kaggle/input/invstodata/HINDALCO_1D (1).xlsx - HINDALCO.csv\")\n",
    "file.head()"
   ]
  },
  {
   "cell_type": "code",
   "execution_count": 3,
   "id": "67de0d24",
   "metadata": {
    "execution": {
     "iopub.execute_input": "2022-05-05T12:53:02.163092Z",
     "iopub.status.busy": "2022-05-05T12:53:02.162755Z",
     "iopub.status.idle": "2022-05-05T12:53:02.189535Z",
     "shell.execute_reply": "2022-05-05T12:53:02.188797Z"
    },
    "papermill": {
     "duration": 0.05081,
     "end_time": "2022-05-05T12:53:02.192370",
     "exception": false,
     "start_time": "2022-05-05T12:53:02.141560",
     "status": "completed"
    },
    "tags": []
   },
   "outputs": [
    {
     "name": "stdout",
     "output_type": "stream",
     "text": [
      "<class 'pandas.core.frame.DataFrame'>\n",
      "RangeIndex: 1215 entries, 0 to 1214\n",
      "Data columns (total 12 columns):\n",
      " #   Column       Non-Null Count  Dtype  \n",
      "---  ------       --------------  -----  \n",
      " 0   datetime     1215 non-null   object \n",
      " 1   close        1215 non-null   float64\n",
      " 2   high         1215 non-null   float64\n",
      " 3   low          1215 non-null   float64\n",
      " 4   open         1215 non-null   float64\n",
      " 5   volume       1215 non-null   int64  \n",
      " 6   instrument   1215 non-null   object \n",
      " 7   Unnamed: 7   0 non-null      float64\n",
      " 8   Unnamed: 8   3 non-null      float64\n",
      " 9   Unnamed: 9   1 non-null      float64\n",
      " 10  Unnamed: 10  0 non-null      float64\n",
      " 11  Unnamed: 11  1 non-null      float64\n",
      "dtypes: float64(9), int64(1), object(2)\n",
      "memory usage: 114.0+ KB\n"
     ]
    }
   ],
   "source": [
    "file.info()"
   ]
  },
  {
   "cell_type": "code",
   "execution_count": 4,
   "id": "f7a8d657",
   "metadata": {
    "execution": {
     "iopub.execute_input": "2022-05-05T12:53:02.235747Z",
     "iopub.status.busy": "2022-05-05T12:53:02.235425Z",
     "iopub.status.idle": "2022-05-05T12:53:02.243019Z",
     "shell.execute_reply": "2022-05-05T12:53:02.242271Z"
    },
    "papermill": {
     "duration": 0.03081,
     "end_time": "2022-05-05T12:53:02.244753",
     "exception": false,
     "start_time": "2022-05-05T12:53:02.213943",
     "status": "completed"
    },
    "tags": []
   },
   "outputs": [],
   "source": [
    "# We need to clean the data of the NaN values\n",
    "clean_data = file.drop(columns = ['Unnamed: 7','Unnamed: 8','Unnamed: 9','Unnamed: 10','Unnamed: 11'])"
   ]
  },
  {
   "cell_type": "code",
   "execution_count": 5,
   "id": "3821c4e9",
   "metadata": {
    "execution": {
     "iopub.execute_input": "2022-05-05T12:53:02.287671Z",
     "iopub.status.busy": "2022-05-05T12:53:02.287144Z",
     "iopub.status.idle": "2022-05-05T12:53:02.300411Z",
     "shell.execute_reply": "2022-05-05T12:53:02.299693Z"
    },
    "papermill": {
     "duration": 0.037466,
     "end_time": "2022-05-05T12:53:02.302310",
     "exception": false,
     "start_time": "2022-05-05T12:53:02.264844",
     "status": "completed"
    },
    "tags": []
   },
   "outputs": [
    {
     "data": {
      "text/html": [
       "<div>\n",
       "<style scoped>\n",
       "    .dataframe tbody tr th:only-of-type {\n",
       "        vertical-align: middle;\n",
       "    }\n",
       "\n",
       "    .dataframe tbody tr th {\n",
       "        vertical-align: top;\n",
       "    }\n",
       "\n",
       "    .dataframe thead th {\n",
       "        text-align: right;\n",
       "    }\n",
       "</style>\n",
       "<table border=\"1\" class=\"dataframe\">\n",
       "  <thead>\n",
       "    <tr style=\"text-align: right;\">\n",
       "      <th></th>\n",
       "      <th>datetime</th>\n",
       "      <th>close</th>\n",
       "      <th>high</th>\n",
       "      <th>low</th>\n",
       "      <th>open</th>\n",
       "      <th>volume</th>\n",
       "      <th>instrument</th>\n",
       "    </tr>\n",
       "  </thead>\n",
       "  <tbody>\n",
       "    <tr>\n",
       "      <th>0</th>\n",
       "      <td>2014-01-24 00:00:00</td>\n",
       "      <td>114.00</td>\n",
       "      <td>115.35</td>\n",
       "      <td>113.00</td>\n",
       "      <td>113.15</td>\n",
       "      <td>5737135</td>\n",
       "      <td>HINDALCO</td>\n",
       "    </tr>\n",
       "    <tr>\n",
       "      <th>1</th>\n",
       "      <td>2014-01-27 00:00:00</td>\n",
       "      <td>111.10</td>\n",
       "      <td>112.70</td>\n",
       "      <td>109.30</td>\n",
       "      <td>112.00</td>\n",
       "      <td>8724577</td>\n",
       "      <td>HINDALCO</td>\n",
       "    </tr>\n",
       "    <tr>\n",
       "      <th>2</th>\n",
       "      <td>2014-01-28 00:00:00</td>\n",
       "      <td>113.80</td>\n",
       "      <td>115.00</td>\n",
       "      <td>109.75</td>\n",
       "      <td>110.00</td>\n",
       "      <td>4513345</td>\n",
       "      <td>HINDALCO</td>\n",
       "    </tr>\n",
       "    <tr>\n",
       "      <th>3</th>\n",
       "      <td>2014-01-29 00:00:00</td>\n",
       "      <td>111.75</td>\n",
       "      <td>114.75</td>\n",
       "      <td>111.15</td>\n",
       "      <td>114.50</td>\n",
       "      <td>4713458</td>\n",
       "      <td>HINDALCO</td>\n",
       "    </tr>\n",
       "    <tr>\n",
       "      <th>4</th>\n",
       "      <td>2014-01-30 00:00:00</td>\n",
       "      <td>108.10</td>\n",
       "      <td>110.70</td>\n",
       "      <td>107.60</td>\n",
       "      <td>110.20</td>\n",
       "      <td>5077231</td>\n",
       "      <td>HINDALCO</td>\n",
       "    </tr>\n",
       "  </tbody>\n",
       "</table>\n",
       "</div>"
      ],
      "text/plain": [
       "              datetime   close    high     low    open   volume instrument\n",
       "0  2014-01-24 00:00:00  114.00  115.35  113.00  113.15  5737135   HINDALCO\n",
       "1  2014-01-27 00:00:00  111.10  112.70  109.30  112.00  8724577   HINDALCO\n",
       "2  2014-01-28 00:00:00  113.80  115.00  109.75  110.00  4513345   HINDALCO\n",
       "3  2014-01-29 00:00:00  111.75  114.75  111.15  114.50  4713458   HINDALCO\n",
       "4  2014-01-30 00:00:00  108.10  110.70  107.60  110.20  5077231   HINDALCO"
      ]
     },
     "execution_count": 5,
     "metadata": {},
     "output_type": "execute_result"
    }
   ],
   "source": [
    "clean_data.head()"
   ]
  },
  {
   "cell_type": "code",
   "execution_count": 6,
   "id": "0e802bb7",
   "metadata": {
    "execution": {
     "iopub.execute_input": "2022-05-05T12:53:02.345399Z",
     "iopub.status.busy": "2022-05-05T12:53:02.344395Z",
     "iopub.status.idle": "2022-05-05T12:53:02.355038Z",
     "shell.execute_reply": "2022-05-05T12:53:02.353322Z"
    },
    "papermill": {
     "duration": 0.034494,
     "end_time": "2022-05-05T12:53:02.357330",
     "exception": false,
     "start_time": "2022-05-05T12:53:02.322836",
     "status": "completed"
    },
    "tags": []
   },
   "outputs": [
    {
     "name": "stdout",
     "output_type": "stream",
     "text": [
      "0            NaN\n",
      "1      -0.025768\n",
      "2       0.024012\n",
      "3      -0.018178\n",
      "4      -0.033208\n",
      "          ...   \n",
      "1210    0.000447\n",
      "1211   -0.027839\n",
      "1212    0.003437\n",
      "1213    0.009108\n",
      "1214    0.013060\n",
      "Name: log_return, Length: 1215, dtype: float64\n"
     ]
    }
   ],
   "source": [
    "# We will use log returns since here we are interested in the temporal aspects of the returns \n",
    "# as per this article : https://medium.datadriveninvestor.com/when-is-log-transformation-necessary-for-financial-returns-4b3f5bb58e62\n",
    "close_data = clean_data['close']\n",
    "clean_data['log_return'] = np.log(close_data/close_data.shift())\n",
    "print(clean_data['log_return'])"
   ]
  },
  {
   "cell_type": "code",
   "execution_count": 7,
   "id": "abe6ea75",
   "metadata": {
    "execution": {
     "iopub.execute_input": "2022-05-05T12:53:02.401019Z",
     "iopub.status.busy": "2022-05-05T12:53:02.400708Z",
     "iopub.status.idle": "2022-05-05T12:53:02.417460Z",
     "shell.execute_reply": "2022-05-05T12:53:02.416749Z"
    },
    "papermill": {
     "duration": 0.041463,
     "end_time": "2022-05-05T12:53:02.419714",
     "exception": false,
     "start_time": "2022-05-05T12:53:02.378251",
     "status": "completed"
    },
    "tags": []
   },
   "outputs": [
    {
     "data": {
      "text/html": [
       "<div>\n",
       "<style scoped>\n",
       "    .dataframe tbody tr th:only-of-type {\n",
       "        vertical-align: middle;\n",
       "    }\n",
       "\n",
       "    .dataframe tbody tr th {\n",
       "        vertical-align: top;\n",
       "    }\n",
       "\n",
       "    .dataframe thead th {\n",
       "        text-align: right;\n",
       "    }\n",
       "</style>\n",
       "<table border=\"1\" class=\"dataframe\">\n",
       "  <thead>\n",
       "    <tr style=\"text-align: right;\">\n",
       "      <th></th>\n",
       "      <th>datetime</th>\n",
       "      <th>close</th>\n",
       "      <th>high</th>\n",
       "      <th>low</th>\n",
       "      <th>open</th>\n",
       "      <th>volume</th>\n",
       "      <th>instrument</th>\n",
       "      <th>log_return</th>\n",
       "    </tr>\n",
       "  </thead>\n",
       "  <tbody>\n",
       "    <tr>\n",
       "      <th>1</th>\n",
       "      <td>2014-01-27 00:00:00</td>\n",
       "      <td>111.10</td>\n",
       "      <td>112.70</td>\n",
       "      <td>109.30</td>\n",
       "      <td>112.00</td>\n",
       "      <td>8724577</td>\n",
       "      <td>HINDALCO</td>\n",
       "      <td>-0.025768</td>\n",
       "    </tr>\n",
       "    <tr>\n",
       "      <th>2</th>\n",
       "      <td>2014-01-28 00:00:00</td>\n",
       "      <td>113.80</td>\n",
       "      <td>115.00</td>\n",
       "      <td>109.75</td>\n",
       "      <td>110.00</td>\n",
       "      <td>4513345</td>\n",
       "      <td>HINDALCO</td>\n",
       "      <td>0.024012</td>\n",
       "    </tr>\n",
       "    <tr>\n",
       "      <th>3</th>\n",
       "      <td>2014-01-29 00:00:00</td>\n",
       "      <td>111.75</td>\n",
       "      <td>114.75</td>\n",
       "      <td>111.15</td>\n",
       "      <td>114.50</td>\n",
       "      <td>4713458</td>\n",
       "      <td>HINDALCO</td>\n",
       "      <td>-0.018178</td>\n",
       "    </tr>\n",
       "    <tr>\n",
       "      <th>4</th>\n",
       "      <td>2014-01-30 00:00:00</td>\n",
       "      <td>108.10</td>\n",
       "      <td>110.70</td>\n",
       "      <td>107.60</td>\n",
       "      <td>110.20</td>\n",
       "      <td>5077231</td>\n",
       "      <td>HINDALCO</td>\n",
       "      <td>-0.033208</td>\n",
       "    </tr>\n",
       "    <tr>\n",
       "      <th>5</th>\n",
       "      <td>2014-01-31 00:00:00</td>\n",
       "      <td>109.55</td>\n",
       "      <td>110.00</td>\n",
       "      <td>107.00</td>\n",
       "      <td>109.05</td>\n",
       "      <td>8287236</td>\n",
       "      <td>HINDALCO</td>\n",
       "      <td>0.013324</td>\n",
       "    </tr>\n",
       "  </tbody>\n",
       "</table>\n",
       "</div>"
      ],
      "text/plain": [
       "              datetime   close    high     low    open   volume instrument  \\\n",
       "1  2014-01-27 00:00:00  111.10  112.70  109.30  112.00  8724577   HINDALCO   \n",
       "2  2014-01-28 00:00:00  113.80  115.00  109.75  110.00  4513345   HINDALCO   \n",
       "3  2014-01-29 00:00:00  111.75  114.75  111.15  114.50  4713458   HINDALCO   \n",
       "4  2014-01-30 00:00:00  108.10  110.70  107.60  110.20  5077231   HINDALCO   \n",
       "5  2014-01-31 00:00:00  109.55  110.00  107.00  109.05  8287236   HINDALCO   \n",
       "\n",
       "   log_return  \n",
       "1   -0.025768  \n",
       "2    0.024012  \n",
       "3   -0.018178  \n",
       "4   -0.033208  \n",
       "5    0.013324  "
      ]
     },
     "execution_count": 7,
     "metadata": {},
     "output_type": "execute_result"
    }
   ],
   "source": [
    "# to get rid of the NaN value\n",
    "clean_data1 = clean_data.drop(0)\n",
    "clean_data1.head()"
   ]
  },
  {
   "cell_type": "code",
   "execution_count": 8,
   "id": "bcf9cabe",
   "metadata": {
    "execution": {
     "iopub.execute_input": "2022-05-05T12:53:02.464773Z",
     "iopub.status.busy": "2022-05-05T12:53:02.464148Z",
     "iopub.status.idle": "2022-05-05T12:53:04.077596Z",
     "shell.execute_reply": "2022-05-05T12:53:04.076457Z"
    },
    "papermill": {
     "duration": 1.639397,
     "end_time": "2022-05-05T12:53:04.080291",
     "exception": false,
     "start_time": "2022-05-05T12:53:02.440894",
     "status": "completed"
    },
    "tags": []
   },
   "outputs": [
    {
     "data": {
      "text/plain": [
       "<AxesSubplot:xlabel='Count', ylabel='log_return'>"
      ]
     },
     "execution_count": 8,
     "metadata": {},
     "output_type": "execute_result"
    },
    {
     "data": {
      "image/png": "[encoded data removed]",
      "text/plain": [
       "<Figure size 432x288 with 1 Axes>"
      ]
     },
     "metadata": {
      "needs_background": "light"
     },
     "output_type": "display_data"
    }
   ],
   "source": [
    "import seaborn as sns\n",
    "%matplotlib inline\n",
    "sns.histplot(data=clean_data1, y=\"log_return\")\n",
    "\n",
    "# we see that the returns are centred around 0 : less risky/volatile\n",
    "# log returns are normally distributed"
   ]
  },
  {
   "cell_type": "markdown",
   "id": "6084a818",
   "metadata": {
    "papermill": {
     "duration": 0.022131,
     "end_time": "2022-05-05T12:53:04.125064",
     "exception": false,
     "start_time": "2022-05-05T12:53:04.102933",
     "status": "completed"
    },
    "tags": []
   },
   "source": [
    "# Sharpe Ratio"
   ]
  },
  {
   "cell_type": "code",
   "execution_count": 9,
   "id": "e0cc160f",
   "metadata": {
    "execution": {
     "iopub.execute_input": "2022-05-05T12:53:04.172179Z",
     "iopub.status.busy": "2022-05-05T12:53:04.170993Z",
     "iopub.status.idle": "2022-05-05T12:53:04.178431Z",
     "shell.execute_reply": "2022-05-05T12:53:04.177253Z"
    },
    "papermill": {
     "duration": 0.033593,
     "end_time": "2022-05-05T12:53:04.180896",
     "exception": false,
     "start_time": "2022-05-05T12:53:04.147303",
     "status": "completed"
    },
    "tags": []
   },
   "outputs": [
    {
     "name": "stdout",
     "output_type": "stream",
     "text": [
      "0.022059848105174827\n"
     ]
    }
   ],
   "source": [
    "sharpe_ratio = (clean_data1['log_return'].mean())/clean_data1['log_return'].std() \n",
    "# according to formulas given in the book\n",
    "# the logged risk free rate of interest is being assumed to be 0 here \n",
    "# the average excess return is nothing but the average logged returns seen \n",
    "# the volatility is the standard deviation of the logged return\n",
    "print(sharpe_ratio)\n",
    "# This is the daily Sharpe ratio"
   ]
  },
  {
   "cell_type": "code",
   "execution_count": 10,
   "id": "fa423d7a",
   "metadata": {
    "execution": {
     "iopub.execute_input": "2022-05-05T12:53:04.230642Z",
     "iopub.status.busy": "2022-05-05T12:53:04.229819Z",
     "iopub.status.idle": "2022-05-05T12:53:04.237254Z",
     "shell.execute_reply": "2022-05-05T12:53:04.236165Z"
    },
    "papermill": {
     "duration": 0.034073,
     "end_time": "2022-05-05T12:53:04.239633",
     "exception": false,
     "start_time": "2022-05-05T12:53:04.205560",
     "status": "completed"
    },
    "tags": []
   },
   "outputs": [
    {
     "data": {
      "text/plain": [
       "1.0223049656547363"
      ]
     },
     "execution_count": 10,
     "metadata": {},
     "output_type": "execute_result"
    }
   ],
   "source": [
    "import math\n",
    "\n",
    "math.exp(0.022059848105174827)\n",
    "# Since sharpe ratio in the normal scale >1, we say that this is a good enough value for investment at the given level of log return"
   ]
  },
  {
   "cell_type": "markdown",
   "id": "11e9a9a1",
   "metadata": {
    "papermill": {
     "duration": 0.0235,
     "end_time": "2022-05-05T12:53:04.287964",
     "exception": false,
     "start_time": "2022-05-05T12:53:04.264464",
     "status": "completed"
    },
    "tags": []
   },
   "source": [
    "# Information Ratio"
   ]
  },
  {
   "cell_type": "code",
   "execution_count": 11,
   "id": "cf1e524a",
   "metadata": {
    "execution": {
     "iopub.execute_input": "2022-05-05T12:53:04.339920Z",
     "iopub.status.busy": "2022-05-05T12:53:04.339624Z",
     "iopub.status.idle": "2022-05-05T12:53:04.358607Z",
     "shell.execute_reply": "2022-05-05T12:53:04.357935Z"
    },
    "papermill": {
     "duration": 0.046792,
     "end_time": "2022-05-05T12:53:04.360571",
     "exception": false,
     "start_time": "2022-05-05T12:53:04.313779",
     "status": "completed"
    },
    "tags": []
   },
   "outputs": [
    {
     "data": {
      "text/html": [
       "<div>\n",
       "<style scoped>\n",
       "    .dataframe tbody tr th:only-of-type {\n",
       "        vertical-align: middle;\n",
       "    }\n",
       "\n",
       "    .dataframe tbody tr th {\n",
       "        vertical-align: top;\n",
       "    }\n",
       "\n",
       "    .dataframe thead th {\n",
       "        text-align: right;\n",
       "    }\n",
       "</style>\n",
       "<table border=\"1\" class=\"dataframe\">\n",
       "  <thead>\n",
       "    <tr style=\"text-align: right;\">\n",
       "      <th></th>\n",
       "      <th>Date</th>\n",
       "      <th>Open</th>\n",
       "      <th>High</th>\n",
       "      <th>Low</th>\n",
       "      <th>Close</th>\n",
       "      <th>Adj Close</th>\n",
       "      <th>Volume</th>\n",
       "    </tr>\n",
       "  </thead>\n",
       "  <tbody>\n",
       "    <tr>\n",
       "      <th>0</th>\n",
       "      <td>2021-05-05</td>\n",
       "      <td>14604.150391</td>\n",
       "      <td>14637.900391</td>\n",
       "      <td>14506.599609</td>\n",
       "      <td>14617.849609</td>\n",
       "      <td>14617.849609</td>\n",
       "      <td>455900</td>\n",
       "    </tr>\n",
       "    <tr>\n",
       "      <th>1</th>\n",
       "      <td>2021-05-06</td>\n",
       "      <td>14668.349609</td>\n",
       "      <td>14743.900391</td>\n",
       "      <td>14611.500000</td>\n",
       "      <td>14724.799805</td>\n",
       "      <td>14724.799805</td>\n",
       "      <td>467800</td>\n",
       "    </tr>\n",
       "    <tr>\n",
       "      <th>2</th>\n",
       "      <td>2021-05-07</td>\n",
       "      <td>14816.849609</td>\n",
       "      <td>14863.049805</td>\n",
       "      <td>14765.500000</td>\n",
       "      <td>14823.150391</td>\n",
       "      <td>14823.150391</td>\n",
       "      <td>488000</td>\n",
       "    </tr>\n",
       "    <tr>\n",
       "      <th>3</th>\n",
       "      <td>2021-05-10</td>\n",
       "      <td>14928.250000</td>\n",
       "      <td>14966.900391</td>\n",
       "      <td>14892.500000</td>\n",
       "      <td>14942.349609</td>\n",
       "      <td>14942.349609</td>\n",
       "      <td>522000</td>\n",
       "    </tr>\n",
       "    <tr>\n",
       "      <th>4</th>\n",
       "      <td>2021-05-11</td>\n",
       "      <td>14789.700195</td>\n",
       "      <td>14900.000000</td>\n",
       "      <td>14771.400391</td>\n",
       "      <td>14850.750000</td>\n",
       "      <td>14850.750000</td>\n",
       "      <td>647400</td>\n",
       "    </tr>\n",
       "  </tbody>\n",
       "</table>\n",
       "</div>"
      ],
      "text/plain": [
       "         Date          Open          High           Low         Close  \\\n",
       "0  2021-05-05  14604.150391  14637.900391  14506.599609  14617.849609   \n",
       "1  2021-05-06  14668.349609  14743.900391  14611.500000  14724.799805   \n",
       "2  2021-05-07  14816.849609  14863.049805  14765.500000  14823.150391   \n",
       "3  2021-05-10  14928.250000  14966.900391  14892.500000  14942.349609   \n",
       "4  2021-05-11  14789.700195  14900.000000  14771.400391  14850.750000   \n",
       "\n",
       "      Adj Close  Volume  \n",
       "0  14617.849609  455900  \n",
       "1  14724.799805  467800  \n",
       "2  14823.150391  488000  \n",
       "3  14942.349609  522000  \n",
       "4  14850.750000  647400  "
      ]
     },
     "execution_count": 11,
     "metadata": {},
     "output_type": "execute_result"
    }
   ],
   "source": [
    "# we make use of the NIFTY 50 logged returns as benchmark so we use that external dataset here\n",
    "nifty = pd.read_csv(\"/kaggle/input/nifty50/NSEI.csv\")\n",
    "nifty.head()"
   ]
  },
  {
   "cell_type": "code",
   "execution_count": 12,
   "id": "d90d80b9",
   "metadata": {
    "execution": {
     "iopub.execute_input": "2022-05-05T12:53:04.412024Z",
     "iopub.status.busy": "2022-05-05T12:53:04.411506Z",
     "iopub.status.idle": "2022-05-05T12:53:04.419120Z",
     "shell.execute_reply": "2022-05-05T12:53:04.418511Z"
    },
    "papermill": {
     "duration": 0.036403,
     "end_time": "2022-05-05T12:53:04.421295",
     "exception": false,
     "start_time": "2022-05-05T12:53:04.384892",
     "status": "completed"
    },
    "tags": []
   },
   "outputs": [
    {
     "name": "stdout",
     "output_type": "stream",
     "text": [
      "0           NaN\n",
      "1      0.007290\n",
      "2      0.006657\n",
      "3      0.008009\n",
      "4     -0.006149\n",
      "         ...   \n",
      "244    0.012056\n",
      "245   -0.008298\n",
      "246   -0.001958\n",
      "247   -0.023203\n",
      "248    0.000303\n",
      "Name: log_return, Length: 249, dtype: float64\n"
     ]
    }
   ],
   "source": [
    "close_data = nifty['Close']\n",
    "nifty['log_return'] = np.log(close_data/close_data.shift())\n",
    "print(nifty['log_return'])"
   ]
  },
  {
   "cell_type": "code",
   "execution_count": 13,
   "id": "e07ba3be",
   "metadata": {
    "execution": {
     "iopub.execute_input": "2022-05-05T12:53:04.472925Z",
     "iopub.status.busy": "2022-05-05T12:53:04.472283Z",
     "iopub.status.idle": "2022-05-05T12:53:04.487774Z",
     "shell.execute_reply": "2022-05-05T12:53:04.487101Z"
    },
    "papermill": {
     "duration": 0.043985,
     "end_time": "2022-05-05T12:53:04.489688",
     "exception": false,
     "start_time": "2022-05-05T12:53:04.445703",
     "status": "completed"
    },
    "tags": []
   },
   "outputs": [
    {
     "data": {
      "text/html": [
       "<div>\n",
       "<style scoped>\n",
       "    .dataframe tbody tr th:only-of-type {\n",
       "        vertical-align: middle;\n",
       "    }\n",
       "\n",
       "    .dataframe tbody tr th {\n",
       "        vertical-align: top;\n",
       "    }\n",
       "\n",
       "    .dataframe thead th {\n",
       "        text-align: right;\n",
       "    }\n",
       "</style>\n",
       "<table border=\"1\" class=\"dataframe\">\n",
       "  <thead>\n",
       "    <tr style=\"text-align: right;\">\n",
       "      <th></th>\n",
       "      <th>Date</th>\n",
       "      <th>Open</th>\n",
       "      <th>High</th>\n",
       "      <th>Low</th>\n",
       "      <th>Close</th>\n",
       "      <th>Adj Close</th>\n",
       "      <th>Volume</th>\n",
       "      <th>log_return</th>\n",
       "    </tr>\n",
       "  </thead>\n",
       "  <tbody>\n",
       "    <tr>\n",
       "      <th>1</th>\n",
       "      <td>2021-05-06</td>\n",
       "      <td>14668.349609</td>\n",
       "      <td>14743.900391</td>\n",
       "      <td>14611.500000</td>\n",
       "      <td>14724.799805</td>\n",
       "      <td>14724.799805</td>\n",
       "      <td>467800</td>\n",
       "      <td>0.007290</td>\n",
       "    </tr>\n",
       "    <tr>\n",
       "      <th>2</th>\n",
       "      <td>2021-05-07</td>\n",
       "      <td>14816.849609</td>\n",
       "      <td>14863.049805</td>\n",
       "      <td>14765.500000</td>\n",
       "      <td>14823.150391</td>\n",
       "      <td>14823.150391</td>\n",
       "      <td>488000</td>\n",
       "      <td>0.006657</td>\n",
       "    </tr>\n",
       "    <tr>\n",
       "      <th>3</th>\n",
       "      <td>2021-05-10</td>\n",
       "      <td>14928.250000</td>\n",
       "      <td>14966.900391</td>\n",
       "      <td>14892.500000</td>\n",
       "      <td>14942.349609</td>\n",
       "      <td>14942.349609</td>\n",
       "      <td>522000</td>\n",
       "      <td>0.008009</td>\n",
       "    </tr>\n",
       "    <tr>\n",
       "      <th>4</th>\n",
       "      <td>2021-05-11</td>\n",
       "      <td>14789.700195</td>\n",
       "      <td>14900.000000</td>\n",
       "      <td>14771.400391</td>\n",
       "      <td>14850.750000</td>\n",
       "      <td>14850.750000</td>\n",
       "      <td>647400</td>\n",
       "      <td>-0.006149</td>\n",
       "    </tr>\n",
       "    <tr>\n",
       "      <th>5</th>\n",
       "      <td>2021-05-12</td>\n",
       "      <td>14823.549805</td>\n",
       "      <td>14824.049805</td>\n",
       "      <td>14649.700195</td>\n",
       "      <td>14696.500000</td>\n",
       "      <td>14696.500000</td>\n",
       "      <td>643800</td>\n",
       "      <td>-0.010441</td>\n",
       "    </tr>\n",
       "  </tbody>\n",
       "</table>\n",
       "</div>"
      ],
      "text/plain": [
       "         Date          Open          High           Low         Close  \\\n",
       "1  2021-05-06  14668.349609  14743.900391  14611.500000  14724.799805   \n",
       "2  2021-05-07  14816.849609  14863.049805  14765.500000  14823.150391   \n",
       "3  2021-05-10  14928.250000  14966.900391  14892.500000  14942.349609   \n",
       "4  2021-05-11  14789.700195  14900.000000  14771.400391  14850.750000   \n",
       "5  2021-05-12  14823.549805  14824.049805  14649.700195  14696.500000   \n",
       "\n",
       "      Adj Close  Volume  log_return  \n",
       "1  14724.799805  467800    0.007290  \n",
       "2  14823.150391  488000    0.006657  \n",
       "3  14942.349609  522000    0.008009  \n",
       "4  14850.750000  647400   -0.006149  \n",
       "5  14696.500000  643800   -0.010441  "
      ]
     },
     "execution_count": 13,
     "metadata": {},
     "output_type": "execute_result"
    }
   ],
   "source": [
    "nifty1 = nifty.drop(0)\n",
    "nifty1.head()"
   ]
  },
  {
   "cell_type": "code",
   "execution_count": 14,
   "id": "074f74db",
   "metadata": {
    "execution": {
     "iopub.execute_input": "2022-05-05T12:53:04.541864Z",
     "iopub.status.busy": "2022-05-05T12:53:04.541238Z",
     "iopub.status.idle": "2022-05-05T12:53:04.555186Z",
     "shell.execute_reply": "2022-05-05T12:53:04.554470Z"
    },
    "papermill": {
     "duration": 0.042162,
     "end_time": "2022-05-05T12:53:04.557224",
     "exception": false,
     "start_time": "2022-05-05T12:53:04.515062",
     "status": "completed"
    },
    "tags": []
   },
   "outputs": [
    {
     "data": {
      "text/plain": [
       "0.015206557670012137"
      ]
     },
     "execution_count": 14,
     "metadata": {},
     "output_type": "execute_result"
    }
   ],
   "source": [
    "# we define a function here to get the daily information ratio with the benchmark as NIFTY 50 \n",
    "# logged returns in the same period\n",
    "def information_ratio(returns, benchmark_returns):\n",
    " return_difference = returns - benchmark_returns\n",
    " volatility = return_difference.std() \n",
    " information_ratio = return_difference.mean() / volatility\n",
    " return information_ratio\n",
    "\n",
    "information_ratio(clean_data1['log_return'],nifty1['log_return'])"
   ]
  },
  {
   "cell_type": "code",
   "execution_count": 15,
   "id": "63c1c686",
   "metadata": {
    "execution": {
     "iopub.execute_input": "2022-05-05T12:53:04.610025Z",
     "iopub.status.busy": "2022-05-05T12:53:04.609420Z",
     "iopub.status.idle": "2022-05-05T12:53:04.614875Z",
     "shell.execute_reply": "2022-05-05T12:53:04.614213Z"
    },
    "papermill": {
     "duration": 0.03469,
     "end_time": "2022-05-05T12:53:04.616721",
     "exception": false,
     "start_time": "2022-05-05T12:53:04.582031",
     "status": "completed"
    },
    "tags": []
   },
   "outputs": [
    {
     "data": {
      "text/plain": [
       "1.0153227656620791"
      ]
     },
     "execution_count": 15,
     "metadata": {},
     "output_type": "execute_result"
    }
   ],
   "source": [
    "import math\n",
    "\n",
    "math.exp(0.015206557670012137)\n",
    "# Since information ratio in the normal scale >1, we say that this is a good enough value for investment at the given level of log return"
   ]
  },
  {
   "cell_type": "code",
   "execution_count": 16,
   "id": "89b794b1",
   "metadata": {
    "execution": {
     "iopub.execute_input": "2022-05-05T12:53:04.670287Z",
     "iopub.status.busy": "2022-05-05T12:53:04.669690Z",
     "iopub.status.idle": "2022-05-05T12:53:04.673009Z",
     "shell.execute_reply": "2022-05-05T12:53:04.672366Z"
    },
    "papermill": {
     "duration": 0.033038,
     "end_time": "2022-05-05T12:53:04.674943",
     "exception": false,
     "start_time": "2022-05-05T12:53:04.641905",
     "status": "completed"
    },
    "tags": []
   },
   "outputs": [],
   "source": [
    "# Sharpe Ratio at given level of log return : 1.0223049656547363\n",
    "# Information Ratio at given level of log return : 1.0153227656620791"
   ]
  }
 ],
 "metadata": {
  "kernelspec": {
   "display_name": "Python 3",
   "language": "python",
   "name": "python3"
  },
  "language_info": {
   "codemirror_mode": {
    "name": "ipython",
    "version": 3
   },
   "file_extension": ".py",
   "mimetype": "text/x-python",
   "name": "python",
   "nbconvert_exporter": "python",
   "pygments_lexer": "ipython3",
   "version": "3.7.12"
  },
  "papermill": {
   "default_parameters": {},
   "duration": 13.870401,
   "end_time": "2022-05-05T12:53:05.723964",
   "environment_variables": {},
   "exception": null,
   "input_path": "__notebook__.ipynb",
   "output_path": "__notebook__.ipynb",
   "parameters": {},
   "start_time": "2022-05-05T12:52:51.853563",
   "version": "2.3.4"
  }
 },
 "nbformat": 4,
 "nbformat_minor": 5
}
